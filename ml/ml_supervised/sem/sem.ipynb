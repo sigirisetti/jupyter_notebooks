{
 "cells": [
  {
   "cell_type": "markdown",
   "metadata": {},
   "source": [
    "# Structural Equation Modelling\n",
    "\n",
    "https://www.statisticssolutions.com/structural-equation-modeling/\n",
    "\n",
    "Structural equation modeling is a multivariate statistical analysis technique that is used to analyze structural relationships.  This technique is the combination of factor analysis and multiple regression analysis, and it is used to analyze the structural relationship between measured variables and latent constructs.  This method is preferred by the researcher because it estimates the multiple and interrelated dependence in a single analysis.  In this analysis, two types of variables are used endogenous variables and exogenous variables.  Endogenous variables are equivalent to dependent variables and are equal to the independent variable."
   ]
  }
 ],
 "metadata": {
  "kernelspec": {
   "display_name": "Python 3",
   "language": "python",
   "name": "python3"
  },
  "language_info": {
   "codemirror_mode": {
    "name": "ipython",
    "version": 3
   },
   "file_extension": ".py",
   "mimetype": "text/x-python",
   "name": "python",
   "nbconvert_exporter": "python",
   "pygments_lexer": "ipython3",
   "version": "3.6.8"
  }
 },
 "nbformat": 4,
 "nbformat_minor": 2
}
