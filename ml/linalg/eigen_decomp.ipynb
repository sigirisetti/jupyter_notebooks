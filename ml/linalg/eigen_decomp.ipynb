{
 "cells": [
  {
   "cell_type": "markdown",
   "metadata": {},
   "source": [
    "# Eigen decomposition\n",
    "\n",
    "https://medium.com/@mukesh.mithrakumar/https-medium-com-mukesh-mithrakumar-eigendecomposition-with-tensorflow-d80b94171106\n",
    "https://www.adhiraiyan.org/DeepLearningWithTensorflow.html\n",
    "https://github.com/adhiraiyan/DeepLearningWithTF2.0/tree/master/notebooks\n",
    "https://github.com/adhiraiyan/DeepLearningWithTF2.0/blob/master/notebooks/02.00-Linear-Algebra.ipynb\n"
   ]
  },
  {
   "cell_type": "code",
   "execution_count": 19,
   "metadata": {},
   "outputs": [],
   "source": [
    "import tensorflow as tf\n",
    "import pathlib\n",
    "import os\n",
    "import matplotlib.pyplot as plt\n",
    "import pandas as pd\n",
    "import numpy as np\n",
    "from helpers import vector_plot, plot_transform\n",
    "\n",
    "np.set_printoptions(precision=4)"
   ]
  },
  {
   "cell_type": "code",
   "execution_count": 22,
   "metadata": {},
   "outputs": [
    {
     "name": "stdout",
     "output_type": "stream",
     "text": [
      "Matrix A: \n",
      "[[5.1342 6.162  9.6134 4.8063]\n",
      " [7.6466 9.2984 6.0246 8.7688]\n",
      " [3.4638 4.6769 3.44   3.2666]\n",
      " [4.039  9.0304 4.6585 6.7312]]\n",
      "\n",
      "\n"
     ]
    }
   ],
   "source": [
    "# Let’s see how we can compute the eigen vectors and values from a matrix\n",
    "e_matrix_A = tf.random.uniform([4, 4], minval=3, maxval=10, dtype=tf.float32, name=\"matrixA\")\n",
    "print(\"Matrix A: \\n{}\\n\\n\".format(e_matrix_A))"
   ]
  },
  {
   "cell_type": "code",
   "execution_count": 23,
   "metadata": {},
   "outputs": [
    {
     "name": "stdout",
     "output_type": "stream",
     "text": [
      "Eigen Vectors: \n",
      "[[-0.4715  0.1755  0.7475  0.4337]\n",
      " [ 0.662  -0.354   0.1243  0.6488]\n",
      " [ 0.1917  0.8779 -0.2809  0.3372]\n",
      " [-0.5501 -0.2706 -0.589   0.5265]] \n",
      "\n",
      "Eigen Values: \n",
      "[-2.2975  0.8108  1.9214 24.169 ]\n",
      "\n"
     ]
    }
   ],
   "source": [
    "# Calculating the eigen values and vectors using tf.linalg.eigh, if you only want the values you can use eigvalsh\n",
    "eigen_values_A, eigen_vectors_A = tf.linalg.eigh(e_matrix_A)\n",
    "print(\"Eigen Vectors: \\n{} \\n\\nEigen Values: \\n{}\\n\".format(eigen_vectors_A, eigen_values_A))"
   ]
  },
  {
   "cell_type": "code",
   "execution_count": 21,
   "metadata": {},
   "outputs": [
    {
     "name": "stdout",
     "output_type": "stream",
     "text": [
      "tf.Tensor(\n",
      "[[[[-4.1463 -3.4912]\n",
      "   [ 3.4912 -4.1463]]\n",
      "\n",
      "  [[-4.3558 -3.6676]\n",
      "   [ 3.6676 -4.3558]]]\n",
      "\n",
      "\n",
      " [[[-7.5361 -6.3454]\n",
      "   [ 6.3454 -7.5361]]\n",
      "\n",
      "  [[-6.7512 -5.6845]\n",
      "   [ 5.6845 -6.7512]]]], shape=(2, 2, 2, 2), dtype=float32)\n",
      "[<tf.Tensor: shape=(16,), dtype=float32, numpy=\n",
      "array([-4.1463, -3.4912,  3.4912, -4.1463, -4.3558, -3.6676,  3.6676,\n",
      "       -4.3558, -7.5361, -6.3454,  6.3454, -7.5361, -6.7512, -5.6845,\n",
      "        5.6845, -6.7512], dtype=float32)>, <tf.Tensor: shape=(4,), dtype=float32, numpy=array([-0.765 , -0.6441,  0.6441, -0.765 ], dtype=float32)>]\n"
     ]
    },
    {
     "data": {
      "image/png": "[encoded data removed]",
      "text/plain": [
       "<Figure size 432x288 with 1 Axes>"
      ]
     },
     "metadata": {
      "needs_background": "light"
     },
     "output_type": "display_data"
    }
   ],
   "source": [
    "# Now lets plot our Matrix with the Eigen vector and see how it looks\n",
    "Av = tf.tensordot(e_matrix_A, eigen_vectors_A, axes=0)\n",
    "print(Av)\n",
    "vector_plot([tf.reshape(Av, [-1]), tf.reshape(eigen_vectors_A, [-1])], 10, 10)\n",
    "print([tf.reshape(Av, [-1]), tf.reshape(eigen_vectors_A, [-1])])"
   ]
  }
 ],
 "metadata": {
  "kernelspec": {
   "display_name": "Python 3",
   "language": "python",
   "name": "python3"
  },
  "language_info": {
   "codemirror_mode": {
    "name": "ipython",
    "version": 3
   },
   "file_extension": ".py",
   "mimetype": "text/x-python",
   "name": "python",
   "nbconvert_exporter": "python",
   "pygments_lexer": "ipython3",
   "version": "3.7.3"
  }
 },
 "nbformat": 4,
 "nbformat_minor": 4
}
