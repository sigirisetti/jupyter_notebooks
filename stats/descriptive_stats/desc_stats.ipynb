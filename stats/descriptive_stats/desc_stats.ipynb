{
 "cells": [
  {
   "cell_type": "markdown",
   "metadata": {},
   "source": [
    "# Descriptive Stats\n",
    "\n",
    "\n",
    "## Means and averages\n",
    "\n",
    "The words “mean” and “average” are sometimes used interchangeably\n",
    "\n",
    "- The “mean” of a sample is the summary statistic computed with the previous formula.\n",
    "- An “average” is one of many summary statistics you might choose to describe the typical value or the **central tendency** of a sample.\n",
    "\n",
    "\n",
    "$\\mu = \\frac{1}{n} \\sum_{i} x_i$\n",
    "\n",
    "\n",
    "\n",
    "## Harmonic Mean\n",
    "\n",
    "\n",
    "## Variance\n",
    "\n",
    "Mean is intended to describe the **central tendency**, variance is intended to describe the **spread**\n",
    "\n",
    "\n",
    "$\\sigma^2 = \\frac{1}{n} \\sum_i (x_i - \\mu)^2$\n",
    "\n",
    "\n",
    "The term $x_i - \\mu$ is called the “deviation from the mean,” so variance is the mean squared deviation, \n",
    "which is why it is denoted $\\sigma^2$. \n",
    "\n",
    "By itself, variance is hard to interpret. One problem is that the **units are strange**; let's say observations are in pounds, so the variance is in pounds squared. Standard deviation is more meaningful; in this case as the units are in pounds.\n",
    "\n",
    "If you have prior experience, you might have seen a formula for variance with $n - 1$ in the denominator, rather than ***n***. This statistic is called the “sample variance,” and it is used to estimate the variance in a population using a sample\n",
    "\n",
    "\n",
    "## Interquartile Range\n",
    "\n",
    "\n",
    "\n",
    "## Frequency\n",
    "\n",
    "Frequency is the occurance count\n",
    "\n",
    "series = [1, 2, 3, 4, 5, 5, 6, 6, 6]\n",
    "\n",
    "- Frequency of 1 is 1\n",
    "- Frequency of 5 is 2\n",
    "- Frequency of 6 is 3\n",
    "\n"
   ]
  }
 ],
 "metadata": {
  "kernelspec": {
   "display_name": "Python 3",
   "language": "python",
   "name": "python3"
  },
  "language_info": {
   "codemirror_mode": {
    "name": "ipython",
    "version": 3
   },
   "file_extension": ".py",
   "mimetype": "text/x-python",
   "name": "python",
   "nbconvert_exporter": "python",
   "pygments_lexer": "ipython3",
   "version": "3.6.8"
  }
 },
 "nbformat": 4,
 "nbformat_minor": 2
}
