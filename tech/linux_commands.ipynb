{
 "cells": [
  {
   "cell_type": "markdown",
   "id": "c339c4ea-0aff-407e-b232-b01f0c93ede2",
   "metadata": {},
   "source": [
    "# Linux Commands"
   ]
  },
  {
   "cell_type": "code",
   "execution_count": 2,
   "id": "d1a325e0-150e-4812-b11f-e24c6ee42c1b",
   "metadata": {},
   "outputs": [
    {
     "name": "stdout",
     "output_type": "stream",
     "text": [
      "/home/appuprakhya/work/git/jupyter_notebooks/tech\n"
     ]
    }
   ],
   "source": [
    "!pwd"
   ]
  },
  {
   "cell_type": "code",
   "execution_count": 3,
   "id": "a9e6faf7-28fb-4cbd-ac4b-4da5fac3b624",
   "metadata": {},
   "outputs": [],
   "source": [
    "!cd .."
   ]
  },
  {
   "cell_type": "code",
   "execution_count": 4,
   "id": "7c871055-9dd4-4a6f-acb3-c860e1233ad9",
   "metadata": {},
   "outputs": [
    {
     "name": "stdout",
     "output_type": "stream",
     "text": [
      "/home/appuprakhya/work/git/jupyter_notebooks/tech\n"
     ]
    }
   ],
   "source": [
    "!pwd"
   ]
  },
  {
   "cell_type": "code",
   "execution_count": null,
   "id": "504c8144-e7ea-4e3c-881e-85b4d7122f4f",
   "metadata": {},
   "outputs": [],
   "source": []
  }
 ],
 "metadata": {
  "kernelspec": {
   "display_name": "Python 3 (ipykernel)",
   "language": "python",
   "name": "python3"
  },
  "language_info": {
   "codemirror_mode": {
    "name": "ipython",
    "version": 3
   },
   "file_extension": ".py",
   "mimetype": "text/x-python",
   "name": "python",
   "nbconvert_exporter": "python",
   "pygments_lexer": "ipython3",
   "version": "3.9.12"
  }
 },
 "nbformat": 4,
 "nbformat_minor": 5
}
