{
 "cells": [
  {
   "cell_type": "code",
   "execution_count": 5,
   "id": "126c91aa-bfe9-470b-85f6-e06fb3ac168a",
   "metadata": {},
   "outputs": [],
   "source": [
    "from clickhouse_driver import Client"
   ]
  },
  {
   "cell_type": "code",
   "execution_count": 6,
   "id": "6952b15d-6a26-4d6d-84ed-cbe94498dde4",
   "metadata": {},
   "outputs": [],
   "source": [
    "client = Client('localhost')\n",
    "\n",
    "client = Client('localhost',\n",
    "                user='test_dba',\n",
    "                password='test@321',\n",
    "                secure=False,\n",
    "                verify=False,\n",
    "                database='test',\n",
    "                compression=True)\n"
   ]
  },
  {
   "cell_type": "code",
   "execution_count": 8,
   "id": "4d305935-f3a5-4793-8d64-0ce7f650f96b",
   "metadata": {},
   "outputs": [
    {
     "data": {
      "text/plain": [
       "[]"
      ]
     },
     "execution_count": 8,
     "metadata": {},
     "output_type": "execute_result"
    }
   ],
   "source": [
    "client.execute('CREATE TABLE iris ('\n",
    "               'sepal_length Decimal32(2), sepal_width Decimal32(2), '\n",
    "               'petal_length Decimal32(2), petal_width Decimal32(2), '\n",
    "               'species String) ENGINE = MergeTree '\n",
    "               'PARTITION BY species ORDER BY (species)')"
   ]
  },
  {
   "cell_type": "code",
   "execution_count": 9,
   "id": "5264826c-b28d-45e9-a6e1-b978fab3b81d",
   "metadata": {},
   "outputs": [
    {
     "data": {
      "text/plain": [
       "2"
      ]
     },
     "execution_count": 9,
     "metadata": {},
     "output_type": "execute_result"
    }
   ],
   "source": [
    "client.execute(\n",
    "    'INSERT INTO iris (sepal_length, sepal_width, petal_length, petal_width, species) VALUES',\n",
    "    [(5.1, 3.7, 1.5, 0.4, 'Iris-setosa'), (4.6, 3.6, 1.0, 0.2, 'Iris-setosa')]\n",
    ")"
   ]
  },
  {
   "cell_type": "code",
   "execution_count": 11,
   "id": "4fdaf205-af58-4665-b280-3b24541d68dd",
   "metadata": {},
   "outputs": [
    {
     "name": "stdout",
     "output_type": "stream",
     "text": [
      "[]\n"
     ]
    }
   ],
   "source": [
    "result = client.execute('SELECT COUNT(*), species FROM iris '\n",
    "                        'WHERE petal_length > toDecimal32(3.4, 2) '\n",
    "                        'GROUP BY species ORDER BY species')\n",
    "print(result)\n"
   ]
  }
 ],
 "metadata": {
  "kernelspec": {
   "display_name": "Python 3",
   "language": "python",
   "name": "python3"
  },
  "language_info": {
   "codemirror_mode": {
    "name": "ipython",
    "version": 3
   },
   "file_extension": ".py",
   "mimetype": "text/x-python",
   "name": "python",
   "nbconvert_exporter": "python",
   "pygments_lexer": "ipython3",
   "version": "3.8.8"
  }
 },
 "nbformat": 4,
 "nbformat_minor": 5
}
