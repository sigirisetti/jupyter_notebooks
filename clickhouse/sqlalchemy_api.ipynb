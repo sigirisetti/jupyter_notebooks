{
 "cells": [
  {
   "cell_type": "code",
   "execution_count": 11,
   "id": "3022eb48",
   "metadata": {},
   "outputs": [],
   "source": [
    "from sqlalchemy import create_engine, Column, MetaData, literal\n",
    "\n",
    "from clickhouse_sqlalchemy import Table, make_session, get_declarative_base, types, engines\n",
    "\n",
    "uri = 'clickhouse://default:@localhost/pae'\n",
    "# uri = 'clickhouse+native://default:@localhost/test'\n",
    "\n",
    "engine = create_engine(uri)\n",
    "session = make_session(engine)\n",
    "metadata = MetaData(bind=engine)\n",
    "\n",
    "Base = get_declarative_base(metadata=metadata)\n",
    "\n",
    "class Depth(Base):\n",
    "    timestamp = Column(types.DateTime64, primary_key=True)\n",
    "    date = Column(types.Date)\n",
    "    triggerTimestamp = Column(types.DateTime64)\n",
    "    ecnTimestamp = Column(types.DateTime64)\n",
    "    ecn = Column(types.String)\n",
    "    ccyPair = Column(types.String)\n",
    "    tenor = Column(types.String)\n",
    "    bid = Column(types.Array(types.Float64))\n",
    "    ask = Column(types.Array(types.Float64))\n",
    "    levels = Column(types.Array(types.Int32))\n",
    "\n",
    "    __table_args__ = (\n",
    "        engines.Memory(),\n",
    "    )\n",
    "\n",
    "table = Depth.__table__"
   ]
  },
  {
   "cell_type": "code",
   "execution_count": 36,
   "id": "7cf5c625",
   "metadata": {},
   "outputs": [
    {
     "name": "stdout",
     "output_type": "stream",
     "text": [
      "<class 'pandas.core.series.Series'>\n"
     ]
    }
   ],
   "source": [
    "import pandas as pd\n",
    "\n",
    "\n",
    "query = \"\"\"\n",
    "select toUnixTimestamp64Micro(timestamp) as ts, date, ecn, ccyPair, tenor, bid as bid, ask, levels from depth limit 10000\n",
    "\"\"\"\n",
    "\n",
    "df = pd.read_sql(query, engine)\n",
    "\n",
    "print(type(df.bid))\n"
   ]
  },
  {
   "cell_type": "code",
   "execution_count": 35,
   "id": "3052119d-f185-4715-a316-d68d03da99c8",
   "metadata": {},
   "outputs": [
    {
     "data": {
      "image/png": "[encoded data removed]",
      "text/plain": [
       "<Figure size 432x288 with 1 Axes>"
      ]
     },
     "metadata": {
      "needs_background": "light"
     },
     "output_type": "display_data"
    }
   ],
   "source": [
    "import matplotlib.pyplot as plt\n",
    "\n",
    "df.plot(x ='ts', y='bid', kind = 'line')\n",
    "plt.show()"
   ]
  },
  {
   "cell_type": "code",
   "execution_count": null,
   "id": "6827edcb-8af3-4385-a6f1-266496e9dfe1",
   "metadata": {},
   "outputs": [],
   "source": []
  },
  {
   "cell_type": "code",
   "execution_count": null,
   "id": "1e604b41-d1f5-49fd-a4ac-2f3136f10b23",
   "metadata": {},
   "outputs": [],
   "source": []
  }
 ],
 "metadata": {
  "kernelspec": {
   "display_name": "Python 3",
   "language": "python",
   "name": "python3"
  },
  "language_info": {
   "codemirror_mode": {
    "name": "ipython",
    "version": 3
   },
   "file_extension": ".py",
   "mimetype": "text/x-python",
   "name": "python",
   "nbconvert_exporter": "python",
   "pygments_lexer": "ipython3",
   "version": "3.8.8"
  }
 },
 "nbformat": 4,
 "nbformat_minor": 5
}
