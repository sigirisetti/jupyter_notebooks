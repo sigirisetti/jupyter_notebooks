{
 "cells": [
  {
   "cell_type": "code",
   "execution_count": 1,
   "metadata": {},
   "outputs": [],
   "source": [
    "from clickhouse_driver import Client"
   ]
  },
  {
   "cell_type": "code",
   "execution_count": 2,
   "metadata": {},
   "outputs": [],
   "source": [
    "client = Client('localhost')\n",
    "\n",
    "client = Client('localhost',\n",
    "                user='test',\n",
    "                password='test@321',\n",
    "                secure=False,\n",
    "                verify=False,\n",
    "                database='tutorial',\n",
    "                compression=True)\n"
   ]
  },
  {
   "cell_type": "code",
   "execution_count": 3,
   "metadata": {},
   "outputs": [
    {
     "name": "stdout",
     "output_type": "stream",
     "text": [
      "RESULT: <class 'list'>: [(datetime.datetime(2021, 11, 7, 12, 42, 4), '21.7.7.47')]\n",
      " ROW: <class 'tuple'>: (datetime.datetime(2021, 11, 7, 12, 42, 4), '21.7.7.47')\n",
      "  COLUMN: <class 'datetime.datetime'>: 2021-11-07 12:42:04\n",
      "  COLUMN: <class 'str'>: 21.7.7.47\n"
     ]
    }
   ],
   "source": [
    "result = client.execute('SELECT now(), version()')\n",
    "print(\"RESULT: {0}: {1}\".format(type(result), result))\n",
    "for t in result:\n",
    "    print(\" ROW: {0}: {1}\".format(type(t), t))\n",
    "    for v in t:\n",
    "            print(\"  COLUMN: {0}: {1}\".format(type(v), v))"
   ]
  }
 ],
 "metadata": {
  "kernelspec": {
   "display_name": "Python 3",
   "language": "python",
   "name": "python3"
  },
  "language_info": {
   "codemirror_mode": {
    "name": "ipython",
    "version": 3
   },
   "file_extension": ".py",
   "mimetype": "text/x-python",
   "name": "python",
   "nbconvert_exporter": "python",
   "pygments_lexer": "ipython3",
   "version": "3.8.8"
  }
 },
 "nbformat": 4,
 "nbformat_minor": 4
}
