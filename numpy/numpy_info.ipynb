{
 "cells": [
  {
   "cell_type": "markdown",
   "metadata": {},
   "source": [
    "# numpy reference from https://lectures.quantecon.org/py/numpy.html\n",
    "\n",
    "## Vectorization\n",
    "\n",
    "NumPy is great for operations that are naturally vectorized\n",
    "\n",
    "Vectorized operations are precompiled routines that can be sent in batches, like\n",
    "\n",
    "* matrix multiplication and other linear algebra routines\n",
    "* generating a vector of random numbers\n",
    "* applying a fixed transformation (e.g., sine or cosine) to an entire array\n",
    "\n",
    "In a later lecture we’ll discuss code that isn’t easy to vectorize and how such routines can also be optimized\n",
    "\n",
    "\n",
    "## Operations on numpy arrays\n",
    "\n",
    "The operators +, -, *, / and ** all act elementwise on arrays\n",
    "\n",
    "In particular, A * B is not the matrix product, it is an element-wise product\n",
    "\n",
    "NumPy provides versions of the standard functions log, exp, sin, etc. that act element-wise on arrays\n",
    "\n",
    "Because they act element-wise on arrays, these functions are called <b>vectorized functions</b>\n",
    "\n",
    "In NumPy-speak, they are also called <b>ufuncs</b>, which stands for <b>“universal functions”</b>\n",
    "\n",
    "As we saw above, the usual arithmetic operations (+, *, etc.) also work element-wise, and combining these with the ufuncs gives a very large set of fast element-wise functions\n",
    "\n",
    "conditional extraction - applies condition element wise\n",
    "\n",
    "\n",
    "## Mutability and Copying Arrays\n",
    "\n",
    "NumPy arrays are mutable data types, like Python lists. In other words, their contents can be altered (mutated) in memory after initialization\n",
    "\n",
    "\n"
   ]
  }
 ],
 "metadata": {
  "kernelspec": {
   "display_name": "Python 3",
   "language": "python",
   "name": "python3"
  },
  "language_info": {
   "codemirror_mode": {
    "name": "ipython",
    "version": 3
   },
   "file_extension": ".py",
   "mimetype": "text/x-python",
   "name": "python",
   "nbconvert_exporter": "python",
   "pygments_lexer": "ipython3",
   "version": "3.6.7"
  }
 },
 "nbformat": 4,
 "nbformat_minor": 2
}
