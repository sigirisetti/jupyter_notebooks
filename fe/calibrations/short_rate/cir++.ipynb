{
 "cells": [
  {
   "cell_type": "markdown",
   "id": "9f5dfc54-dac3-4a5e-abc2-7c9acbaec63c",
   "metadata": {},
   "source": [
    "# Cox–Ingersoll–Ross model\n",
    "\n",
    "In mathematical finance, the Cox–Ingersoll–Ross (CIR) model describes the evolution of interest rates. It is a type of \"one factor model\" (short-rate model) as it describes interest rate movements as driven by only one source of market risk. The model can be used in the valuation of interest rate derivatives. It was introduced in 1985 by John C. Cox, Jonathan E. Ingersoll and Stephen A. Ross as an extension of the Vasicek model.\n",
    "\n",
    "The CIR model specifies that the instantaneous interest rate $r_{t}$ follows the stochastic differential equation, also named the CIR Process:\n",
    "\n",
    "$dr_t = a(b - r_t) dt + \\sigma \\sqrt{r_t} dW_t$\n",
    "\n",
    "where \n",
    "\n",
    "\n",
    "$W_{t}$ is a Wiener process (modelling the random market risk factor) and a, b, and $\\sigma$, are the parameters. \n",
    "\n",
    "The parameter \n",
    "- a corresponds to the speed of adjustment to the mean \n",
    "- b corresponds to long term mean $r_t$\n",
    "- and $\\sigma$, to volatility. \n",
    "\n",
    "**The drift factor, $a(b-r_{t})$, is exactly the same as in the Vasicek model**. It ensures mean reversion of the interest rate towards the long run value b, with speed of adjustment governed by the strictly positive parameter a.\n",
    "\n",
    "The standard deviation factor, $\\sigma {\\sqrt  {r_{t}}}$, **avoids the possibility of negative interest rates for all positive values of a and b**. An interest rate of zero is also precluded/prevented if the condition\n",
    "\n",
    "$2ab \\ge \\sigma^2$ is met\n",
    "\n",
    "More generally, when the rate ($r_{t}$) is close to zero, the standard deviation ($\\sigma {\\sqrt  {r_{t}}}$) also becomes very small, which dampens the effect of the random shock on the rate. Consequently, when the rate gets close to zero, its evolution becomes dominated by the drift factor, which pushes the rate upwards (towards equilibrium).\n",
    "\n",
    "This **process can be defined as a sum of squared Ornstein–Uhlenbeck process**. The CIR is an ergodic process, and possesses a stationary distribution. The **same process is used in the Heston model to model stochastic volatility**."
   ]
  },
  {
   "cell_type": "code",
   "execution_count": 30,
   "id": "abfafe70-e115-41d4-b0f1-5707072c6551",
   "metadata": {},
   "outputs": [],
   "source": [
    "import QuantLib as ql\n",
    "from collections import namedtuple\n",
    "import math\n",
    "import calibration_helper"
   ]
  },
  {
   "cell_type": "code",
   "execution_count": 31,
   "id": "96c59be6-e9d8-443f-ac43-3c8ec988d1b4",
   "metadata": {},
   "outputs": [],
   "source": [
    "today = ql.Date(15, ql.February, 2002);\n",
    "settlement= ql.Date(19, ql.February, 2002);\n",
    "ql.Settings.instance().evaluationDate = today;\n",
    "term_structure = ql.YieldTermStructureHandle(ql.FlatForward(settlement,0.04875825,ql.Actual365Fixed()))\n",
    "index = ql.Euribor1Y(term_structure)"
   ]
  },
  {
   "cell_type": "code",
   "execution_count": 32,
   "id": "9b538c91-664d-4172-bc29-1941d6e1e284",
   "metadata": {},
   "outputs": [],
   "source": [
    "CalibrationData = namedtuple(\"CalibrationData\", \n",
    "                             \"start, length, volatility\")\n",
    "data = [CalibrationData(1, 5, 0.1148),\n",
    "        CalibrationData(2, 4, 0.1108),\n",
    "        CalibrationData(3, 3, 0.1070),\n",
    "        CalibrationData(4, 2, 0.1021),\n",
    "        CalibrationData(5, 1, 0.1000 )]"
   ]
  },
  {
   "cell_type": "code",
   "execution_count": 33,
   "id": "4dfa7121-0a17-42f0-b6c9-e9afd706a430",
   "metadata": {},
   "outputs": [
    {
     "name": "stdout",
     "output_type": "stream",
     "text": [
      "[ 0.0339478; 0.0962822; 0.0616989; 0.0110984 ]\n"
     ]
    }
   ],
   "source": [
    "# model = ql.CoxIngersollRoss(term_structure)\n",
    "# TODO: fix\n",
    "model = ql.ExtendedCoxIngersollRoss(term_structure)\n",
    "engine = ql.TreeSwaptionEngine(model, 100)\n",
    "swaptions = calibration_helper.create_swaption_helpers(data, index, term_structure, engine)\n",
    "\n",
    "optimization_method = ql.LevenbergMarquardt(1.0e-8,1.0e-8,1.0e-8)\n",
    "end_criteria = ql.EndCriteria(10000, 100, 1e-6, 1e-8, 1e-8)\n",
    "model.calibrate(swaptions, optimization_method, end_criteria)\n",
    "\n",
    "print(model.params())\n",
    "# print(\"a = %6.5f, sigma = %6.5f\" % (a, sigma))"
   ]
  },
  {
   "cell_type": "code",
   "execution_count": 34,
   "id": "058a351b-aa86-46a8-91be-25cdb3228c8e",
   "metadata": {
    "tags": []
   },
   "outputs": [
    {
     "name": "stdout",
     "output_type": "stream",
     "text": [
      "----------------------------------------------------------------------------------\n",
      "    Model Price    Market Price     Implied Vol      Market Vol       Rel Error\n",
      "----------------------------------------------------------------------------------\n",
      "        0.00870         0.00949         0.10527         0.11480        -0.08290\n",
      "        0.00968         0.01008         0.10644         0.11080        -0.03924\n",
      "        0.00852         0.00872         0.10464         0.10700        -0.02197\n",
      "        0.00646         0.00623         0.10602         0.10210         0.03824\n",
      "        0.00356         0.00332         0.10702         0.10000         0.06989\n",
      "----------------------------------------------------------------------------------\n",
      "Cumulative Error :         0.12378\n"
     ]
    }
   ],
   "source": [
    "calibration_helper.calibration_report(swaptions, data)"
   ]
  }
 ],
 "metadata": {
  "kernelspec": {
   "display_name": "Python 3 (ipykernel)",
   "language": "python",
   "name": "python3"
  },
  "language_info": {
   "codemirror_mode": {
    "name": "ipython",
    "version": 3
   },
   "file_extension": ".py",
   "mimetype": "text/x-python",
   "name": "python",
   "nbconvert_exporter": "python",
   "pygments_lexer": "ipython3",
   "version": "3.11.3"
  }
 },
 "nbformat": 4,
 "nbformat_minor": 5
}
