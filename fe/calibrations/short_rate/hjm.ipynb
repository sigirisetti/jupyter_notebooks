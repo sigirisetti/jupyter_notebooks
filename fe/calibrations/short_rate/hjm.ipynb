{
 "cells": [
  {
   "cell_type": "markdown",
   "id": "2cbb7b04-d095-4c6e-85b5-b9d7646569a9",
   "metadata": {},
   "source": [
    "# Heath–Jarrow–Morton framework\n",
    "\n",
    "The **Heath–Jarrow–Morton (HJM) framework is a general framework to model the evolution of interest rate curves – instantaneous forward rate curves in particular** (as opposed to simple forward rates). When the volatility and drift of the instantaneous forward rate are assumed to be deterministic, this is known as the Gaussian Heath–Jarrow–Morton (HJM) model of forward rates. For direct modeling of simple forward rates the Brace–Gatarek–Musiela model represents an example.\n",
    "\n",
    "The HJM framework originates from the work of David Heath, Robert A. Jarrow, and Andrew Morton in the late 1980s, especially Bond pricing and the term structure of interest rates\n",
    "\n",
    "**The key to these techniques is the recognition that the drifts of the no-arbitrage evolution of certain variables can be expressed as functions of their volatilities and the correlations among themselves. In other words, no drift estimation is needed**\n",
    "\n",
    "Models developed according to the HJM framework are different from the so-called short-rate models in the sense that **HJM-type models capture the full dynamics of the entire forward rate curve**, while the **short-rate models only capture the dynamics of a point on the curve (the short rate)**\n",
    "\n",
    "However, models developed according to the general **HJM framework are often non-Markovian and can even have infinite dimensions**. A number of researchers have made great contributions to tackle this problem. They show that **if the volatility structure of the forward rates satisfy certain conditions, then an HJM model can be expressed entirely by a finite state Markovian system, making it computationally feasible**. Examples include a one-factor, two state model (O. Cheyette, \"Term Structure Dynamics and Mortgage Valuation\", Journal of Fixed Income, 1, 1992; P. Ritchken and L. Sankarasubramanian in \"Volatility Structures of Forward Rates and the Dynamics of Term Structure\", Mathematical Finance, 5, No. 1, Jan 1995), and later multi-factor versions."
   ]
  },
  {
   "cell_type": "code",
   "execution_count": null,
   "id": "b8f39cc1-14bd-4d5a-9a2e-1ae964537126",
   "metadata": {},
   "outputs": [],
   "source": []
  }
 ],
 "metadata": {
  "kernelspec": {
   "display_name": "Python 3 (ipykernel)",
   "language": "python",
   "name": "python3"
  },
  "language_info": {
   "codemirror_mode": {
    "name": "ipython",
    "version": 3
   },
   "file_extension": ".py",
   "mimetype": "text/x-python",
   "name": "python",
   "nbconvert_exporter": "python",
   "pygments_lexer": "ipython3",
   "version": "3.11.3"
  }
 },
 "nbformat": 4,
 "nbformat_minor": 5
}
