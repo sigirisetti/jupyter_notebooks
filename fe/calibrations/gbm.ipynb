{
 "cells": [
  {
   "cell_type": "markdown",
   "id": "4cfa90ed-5600-450b-b4b3-356402586928",
   "metadata": {},
   "source": [
    "# Geometric Brownian Motion"
   ]
  },
  {
   "cell_type": "code",
   "execution_count": null,
   "id": "010df7f2-fcb0-4f02-ae8c-0ecd69720396",
   "metadata": {},
   "outputs": [],
   "source": []
  }
 ],
 "metadata": {
  "kernelspec": {
   "display_name": "Python 3 (ipykernel)",
   "language": "python",
   "name": "python3"
  },
  "language_info": {
   "codemirror_mode": {
    "name": "ipython",
    "version": 3
   },
   "file_extension": ".py",
   "mimetype": "text/x-python",
   "name": "python",
   "nbconvert_exporter": "python",
   "pygments_lexer": "ipython3",
   "version": "3.11.3"
  }
 },
 "nbformat": 4,
 "nbformat_minor": 5
}
