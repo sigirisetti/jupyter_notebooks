{
 "cells": [
  {
   "cell_type": "markdown",
   "metadata": {},
   "source": [
    "# Mathematical Constant e"
   ]
  },
  {
   "cell_type": "code",
   "execution_count": 6,
   "metadata": {},
   "outputs": [
    {
     "name": "stdout",
     "output_type": "stream",
     "text": [
      "math.exp(-2) :  0.1353352832366127\n",
      "math.exp(-1.8) :  0.16529888822158653\n",
      "math.exp(-1.6) :  0.20189651799465538\n",
      "math.exp(-1.4) :  0.2465969639416065\n",
      "math.exp(-1.2) :  0.30119421191220214\n",
      "math.exp(-1.1) :  0.36787944117144233\n",
      "math.exp(-1.0) :  0.33287108369807955\n",
      "math.exp(-0.8) :  0.44932896411722156\n",
      "math.exp(-0.6) :  0.5488116360940264\n",
      "math.exp(-0.4) :  0.6703200460356393\n",
      "math.exp(-0.2) :  0.8187307530779818\n",
      "math.exp(0) :  1.0\n",
      "math.exp(0.2) :  1.2214027581601699\n",
      "math.exp(0.4) :  1.4918246976412703\n",
      "math.exp(0.5) :  1.8221188003905089\n",
      "math.exp(0.6) :  2.225540928492468\n",
      "math.exp(0.8) :  2.718281828459045\n",
      "math.exp(1) :  3.3201169227365472\n",
      "math.exp(1.1) :  4.0551999668446745\n",
      "math.exp(1.2) :  4.953032424395115\n"
     ]
    }
   ],
   "source": [
    "import math\n",
    "\n",
    "print(\"math.exp(-2) : \", math.exp(-2))\n",
    "print(\"math.exp(-1.8) : \", math.exp(-1.8))\n",
    "print(\"math.exp(-1.6) : \", math.exp(-1.6))\n",
    "print(\"math.exp(-1.4) : \", math.exp(-1.4))\n",
    "print(\"math.exp(-1.2) : \", math.exp(-1.2))\n",
    "print(\"math.exp(-1.1) : \", math.exp(-1.0))\n",
    "print(\"math.exp(-1.0) : \", math.exp(-1.1))\n",
    "print(\"math.exp(-0.8) : \", math.exp(-0.8))\n",
    "print(\"math.exp(-0.6) : \", math.exp(-0.6))\n",
    "print(\"math.exp(-0.4) : \", math.exp(-0.4))\n",
    "print(\"math.exp(-0.2) : \", math.exp(-0.2))\n",
    "print(\"math.exp(0) : \", math.exp(0))\n",
    "print(\"math.exp(0.2) : \", math.exp(0.2))\n",
    "print(\"math.exp(0.4) : \", math.exp(0.4))\n",
    "print(\"math.exp(0.5) : \", math.exp(0.6))\n",
    "print(\"math.exp(0.6) : \", math.exp(0.8))\n",
    "print(\"math.exp(0.8) : \", math.exp(1))\n",
    "print(\"math.exp(1) : \", math.exp(1.2))\n",
    "print(\"math.exp(1.1) : \", math.exp(1.4))\n",
    "print(\"math.exp(1.2) : \", math.exp(1.6))\n"
   ]
  },
  {
   "cell_type": "code",
   "execution_count": null,
   "metadata": {},
   "outputs": [],
   "source": []
  }
 ],
 "metadata": {
  "kernelspec": {
   "display_name": "Python 3",
   "language": "python",
   "name": "python3"
  },
  "language_info": {
   "codemirror_mode": {
    "name": "ipython",
    "version": 3
   },
   "file_extension": ".py",
   "mimetype": "text/x-python",
   "name": "python",
   "nbconvert_exporter": "python",
   "pygments_lexer": "ipython3",
   "version": "3.7.3"
  }
 },
 "nbformat": 4,
 "nbformat_minor": 4
}
