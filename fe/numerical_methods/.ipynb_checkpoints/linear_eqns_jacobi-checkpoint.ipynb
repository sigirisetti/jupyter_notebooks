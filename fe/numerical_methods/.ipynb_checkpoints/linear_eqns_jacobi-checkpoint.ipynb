{
 "cells": [
  {
   "cell_type": "code",
   "execution_count": 1,
   "metadata": {},
   "outputs": [
    {
     "name": "stdout",
     "output_type": "stream",
     "text": [
      "x = [ 1.  2. -1.  1.]\n"
     ]
    }
   ],
   "source": [
    "\"\"\" Solve Ax=B with the Jacobi method \"\"\"\n",
    "import numpy as np\n",
    "\n",
    "def jacobi(A, B, n, tol=1e-10):\n",
    "    # Initializes x with zeroes with same shape and type as B\n",
    "    x = np.zeros_like(B)\n",
    "\n",
    "    for it_count in range(n):\n",
    "        x_new = np.zeros_like(x)        \n",
    "        for i in range(A.shape[0]):\n",
    "            s1 = np.dot(A[i, :i], x[:i])\n",
    "            s2 = np.dot(A[i, i + 1:], x[i + 1:])\n",
    "            x_new[i] = (B[i] - s1 - s2) / A[i, i]\n",
    "\n",
    "        if np.allclose(x, x_new, tol):\n",
    "            break\n",
    "\n",
    "        x = x_new\n",
    "\n",
    "    return x\n",
    "\n",
    "A = np.array([[10., -1., 2., 0.],\n",
    "              [-1., 11., -1., 3.],\n",
    "              [2., -1., 10., -1.],\n",
    "              [0.0, 3., -1., 8.]])\n",
    "B = np.array([6., 25., -11., 15.])\n",
    "n = 25\n",
    "\n",
    "x = jacobi(A,B,n)\n",
    "print(\"x =\", x)\n",
    "\n"
   ]
  }
 ],
 "metadata": {
  "kernelspec": {
   "display_name": "Python 3",
   "language": "python",
   "name": "python3"
  },
  "language_info": {
   "codemirror_mode": {
    "name": "ipython",
    "version": 3
   },
   "file_extension": ".py",
   "mimetype": "text/x-python",
   "name": "python",
   "nbconvert_exporter": "python",
   "pygments_lexer": "ipython3",
   "version": "3.6.4"
  }
 },
 "nbformat": 4,
 "nbformat_minor": 2
}
