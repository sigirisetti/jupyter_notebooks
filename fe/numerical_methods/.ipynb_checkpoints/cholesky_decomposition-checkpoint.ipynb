{
 "cells": [
  {
   "cell_type": "code",
   "execution_count": 1,
   "metadata": {},
   "outputs": [
    {
     "name": "stdout",
     "output_type": "stream",
     "text": [
      "[[ 3.16227766  0.          0.          0.        ]\n",
      " [-0.31622777  3.3015148   0.          0.        ]\n",
      " [ 0.63245553 -0.24231301  3.08889696  0.        ]\n",
      " [ 0.          0.9086738  -0.25245792  2.6665665 ]]\n",
      "[[10. -1.  2.  0.]\n",
      " [-1. 11. -1.  3.]\n",
      " [ 2. -1. 10. -1.]\n",
      " [ 0.  3. -1.  8.]]\n",
      "[ 1.8973666   7.75401642 -3.34135488  2.6665665 ]\n",
      "[ 1.  2. -1.  1.]\n",
      "[[  6.]\n",
      " [ 25.]\n",
      " [-11.]\n",
      " [ 15.]]\n"
     ]
    }
   ],
   "source": [
    "\"\"\" Cholesky decomposition with NumPy \"\"\"\n",
    "import numpy as np\n",
    "\n",
    "A = np.array([[10., -1., 2., 0.],\n",
    "              [-1., 11., -1., 3.],\n",
    "              [2., -1., 10., -1.],\n",
    "              [0.0, 3., -1., 8.]])\n",
    "B = np.array([6., 25., -11., 15.])\n",
    "\n",
    "L = np.linalg.cholesky(A)\n",
    "\n",
    "print(L)\n",
    "\n",
    "print(np.dot(L, L.T.conj()))  # A=L.L*\n",
    "\n",
    "\n",
    "y = np.linalg.solve(L, B)  # L.L*.x=B. When L*.x=y, then L.y=B.\n",
    "print(y)\n",
    "\n",
    "x = np.linalg.solve(L.T.conj(), y)  # x=L*'.y\n",
    "print(x)\n",
    "\n",
    "print(np.mat(A) * np.mat(x).T)  # B=Ax"
   ]
  }
 ],
 "metadata": {
  "kernelspec": {
   "display_name": "Python 3",
   "language": "python",
   "name": "python3"
  },
  "language_info": {
   "codemirror_mode": {
    "name": "ipython",
    "version": 3
   },
   "file_extension": ".py",
   "mimetype": "text/x-python",
   "name": "python",
   "nbconvert_exporter": "python",
   "pygments_lexer": "ipython3",
   "version": "3.6.4"
  }
 },
 "nbformat": 4,
 "nbformat_minor": 2
}
