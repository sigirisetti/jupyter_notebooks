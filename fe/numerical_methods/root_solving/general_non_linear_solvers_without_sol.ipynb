{
 "cells": [
  {
   "cell_type": "markdown",
   "metadata": {},
   "source": [
    "# General Non Linear Solvers without solution\n",
    "\n",
    "This is a collection of general-purpose nonlinear multidimensional solvers.\n",
    "These solvers find x for which F(x) = 0. Both x and F can be multidimensional."
   ]
  },
  {
   "cell_type": "code",
   "execution_count": 2,
   "metadata": {},
   "outputs": [
    {
     "name": "stdout",
     "output_type": "stream",
     "text": [
      "[-1.33306553]\n",
      "    fjac: array([[-1.]])\n",
      "     fun: array([-3.81481496])\n",
      " message: 'The iteration is not making good progress, as measured by the \\n  improvement from the last ten iterations.'\n",
      "    nfev: 28\n",
      "     qtf: array([3.81481521])\n",
      "       r: array([-0.00461503])\n",
      "  status: 5\n",
      " success: False\n",
      "       x: array([-1.33306551])\n"
     ]
    },
    {
     "name": "stderr",
     "output_type": "stream",
     "text": [
      "C:\\Users\\skiran\\AppData\\Local\\Continuum\\anaconda3\\lib\\site-packages\\scipy\\optimize\\minpack.py:161: RuntimeWarning: The iteration is not making good progress, as measured by the \n",
      "  improvement from the last ten iterations.\n",
      "  warnings.warn(msg, RuntimeWarning)\n"
     ]
    }
   ],
   "source": [
    "\"\"\"\n",
    "General nonlinear solvers\n",
    "- with no solution\n",
    "\"\"\"\n",
    "\n",
    "\n",
    "import scipy.optimize as optimize\n",
    "\n",
    "y = lambda x: x**3 + 2.*x**2 - 5.\n",
    "dy = lambda x: 3.*x**2 + 4.*x\n",
    "\n",
    "print(optimize.fsolve(y, -5., fprime=dy))\n",
    "print(optimize.root(y, -5.))\n"
   ]
  }
 ],
 "metadata": {
  "kernelspec": {
   "display_name": "Python 3",
   "language": "python",
   "name": "python3"
  },
  "language_info": {
   "codemirror_mode": {
    "name": "ipython",
    "version": 3
   },
   "file_extension": ".py",
   "mimetype": "text/x-python",
   "name": "python",
   "nbconvert_exporter": "python",
   "pygments_lexer": "ipython3",
   "version": "3.6.4"
  }
 },
 "nbformat": 4,
 "nbformat_minor": 2
}
