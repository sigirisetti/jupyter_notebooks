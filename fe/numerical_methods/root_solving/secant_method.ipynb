{
 "cells": [
  {
   "cell_type": "markdown",
   "metadata": {},
   "source": [
    "# Secant root-finding method\n",
    "\n",
    "In numerical analysis, <b>the secant method is a root-finding algorithm that uses a succession of roots of secant lines to better approximate a root of a function f</b>. The secant method can be thought of as a <b>finite difference approximation of Newton's method</b>. However, the method was developed independently of Newton's method, and predates it by over 3,000 years\n",
    "\n",
    "This result only holds under some technical conditions, namely that f be twice continuously differentiable and the root in question be simple (i.e., with multiplicity 1).\n",
    "\n",
    "If the initial values are not close enough to the root, then there is no guarantee that the secant method converges."
   ]
  },
  {
   "cell_type": "code",
   "execution_count": 2,
   "metadata": {},
   "outputs": [
    {
     "name": "stdout",
     "output_type": "stream",
     "text": [
      "Root is: 1.2418965622558549\n",
      "Iterations: 14\n"
     ]
    }
   ],
   "source": [
    "\"\"\" The secant root-finding method \"\"\"\n",
    "\n",
    "\n",
    "def secant(f, a, b, tol=0.001, maxiter=100):\n",
    "    \"\"\"\n",
    "    :param f: The function to solve\n",
    "    :param a: Initial x-axis guess value\n",
    "    :param b: Initial x-axis guess value, where b>a\n",
    "    :param tol: The precision of the solution\n",
    "    :param maxiter: Maximum number of iterations\n",
    "    :return: The x-axis value of the root,\n",
    "                number of iterations used\n",
    "    \"\"\"\n",
    "    n = 1\n",
    "    while n <= maxiter:\n",
    "        c = b - f(b)*((b-a)/(f(b)-f(a)))\n",
    "        if abs(c-b) < tol:\n",
    "            return c, n\n",
    "\n",
    "        a = b\n",
    "        b = c\n",
    "        n += 1\n",
    "\n",
    "    return None, n\n",
    "\n",
    "if __name__ == \"__main__\":\n",
    "    y = lambda x: x**3 + 2*x**2 - 5\n",
    "    root, iterations = secant(y, -5.0, 5.0, 0.00001, 100)\n",
    "    print(\"Root is:\", root)\n",
    "    print(\"Iterations:\", iterations)\n",
    "\n"
   ]
  }
 ],
 "metadata": {
  "kernelspec": {
   "display_name": "Python 3",
   "language": "python",
   "name": "python3"
  },
  "language_info": {
   "codemirror_mode": {
    "name": "ipython",
    "version": 3
   },
   "file_extension": ".py",
   "mimetype": "text/x-python",
   "name": "python",
   "nbconvert_exporter": "python",
   "pygments_lexer": "ipython3",
   "version": "3.6.4"
  }
 },
 "nbformat": 4,
 "nbformat_minor": 2
}
