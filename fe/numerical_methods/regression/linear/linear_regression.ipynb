{
 "cells": [
  {
   "cell_type": "markdown",
   "metadata": {},
   "source": [
    "# Linear Regression"
   ]
  },
  {
   "cell_type": "code",
   "execution_count": 2,
   "metadata": {
    "collapsed": false,
    "jupyter": {
     "outputs_hidden": false
    }
   },
   "outputs": [
    {
     "name": "stdout",
     "output_type": "stream",
     "text": [
      "beta : 0.5077431878770808, alpha : -0.008481900352462384, r_value : 0.38455905003823676, p_value : 0.5227155239089462, std_err : 0.7036705543221569\n"
     ]
    }
   ],
   "source": [
    "\"\"\" Linear regression with SciPy \"\"\"\n",
    "from scipy import stats\n",
    "\n",
    "stock_returns = [0.065, 0.0265, -0.0593, -0.001, 0.0346]\n",
    "mkt_returns = [0.055, -0.09, -0.041, 0.045, 0.022]\n",
    "\n",
    "beta, alpha, r_value, p_value, std_err = stats.linregress(stock_returns, mkt_returns)\n",
    "print (\"beta : %s, alpha : %s, r_value : %s, p_value : %s, std_err : %s\" % (beta, alpha, r_value, p_value, std_err))\n"
   ]
  },
  {
   "cell_type": "code",
   "execution_count": 3,
   "metadata": {
    "collapsed": false,
    "jupyter": {
     "outputs_hidden": false
    }
   },
   "outputs": [
    {
     "data": {
      "text/latex": [
       "$R^2 = \\frac{ESS}{RSS}$\n",
       "\n",
       "So the regression $R^2$ takes a value between 0 and 1 and a large value indicates a good fit\n",
       "for the model. The regression $R^2$ is the square of the correlation between the fitted value \\hat{Y}\n",
       "and Y and in the simple linear model this is just the square of the correlation between X\n",
       "and Y.\n",
       "\n",
       "Higher p-value lower is the significance of the coefficient\n"
      ],
      "text/plain": [
       "<IPython.core.display.Latex object>"
      ]
     },
     "metadata": {},
     "output_type": "display_data"
    }
   ],
   "source": [
    "%%latex\n",
    "$R^2 = \\frac{ESS}{RSS}$\n",
    "\n",
    "So the regression $R^2$ takes a value between 0 and 1 and a large value indicates a good fit\n",
    "for the model. The regression $R^2$ is the square of the correlation between the fitted value \\hat{Y}\n",
    "and Y and in the simple linear model this is just the square of the correlation between X\n",
    "and Y.\n",
    "\n",
    "Higher p-value lower is the significance of the coefficient"
   ]
  },
  {
   "cell_type": "code",
   "execution_count": 4,
   "metadata": {
    "collapsed": false,
    "jupyter": {
     "outputs_hidden": false
    }
   },
   "outputs": [
    {
     "name": "stdout",
     "output_type": "stream",
     "text": [
      "r^2 : 0.1478856629663111\n"
     ]
    }
   ],
   "source": [
    "print (\"r^2 : %s\" % ( r_value * r_value))"
   ]
  },
  {
   "cell_type": "code",
   "execution_count": 5,
   "metadata": {
    "collapsed": false,
    "jupyter": {
     "outputs_hidden": false
    }
   },
   "outputs": [
    {
     "name": "stdout",
     "output_type": "stream",
     "text": [
      "Risk premium: 0.04315817096955187\n",
      "Expected stock return: 0.09315817096955187\n"
     ]
    }
   ],
   "source": [
    "\"\"\" Calculating the SML \"\"\"\n",
    "rf = 0.05\n",
    "mrisk_prem = 0.085\n",
    "risk_prem = mrisk_prem * beta\n",
    "print (\"Risk premium:\", risk_prem)\n",
    "\n",
    "expected_stock_return = rf + risk_prem\n",
    "print(\"Expected stock return:\", expected_stock_return)"
   ]
  },
  {
   "cell_type": "markdown",
   "metadata": {},
   "source": [
    "## Security Market Line"
   ]
  },
  {
   "cell_type": "code",
   "execution_count": 6,
   "metadata": {
    "collapsed": false,
    "jupyter": {
     "outputs_hidden": false
    }
   },
   "outputs": [
    {
     "data": {
      "text/latex": [
       "\n",
       "\\begin{equation}\n",
       "E_s = r_f + \\beta (E_{mkt} - r_f)\n",
       "\\end{equation}\n"
      ],
      "text/plain": [
       "<IPython.core.display.Latex object>"
      ]
     },
     "metadata": {},
     "output_type": "display_data"
    }
   ],
   "source": [
    "%%latex\n",
    "\n",
    "\\begin{equation}\n",
    "E_s = r_f + \\beta (E_{mkt} - r_f)\n",
    "\\end{equation}"
   ]
  },
  {
   "cell_type": "code",
   "execution_count": 13,
   "metadata": {},
   "outputs": [
    {
     "name": "stdout",
     "output_type": "stream",
     "text": [
      "0.5077431878770808\n"
     ]
    }
   ],
   "source": [
    "print(beta.item())"
   ]
  },
  {
   "cell_type": "code",
   "execution_count": 18,
   "metadata": {
    "collapsed": false,
    "jupyter": {
     "outputs_hidden": false
    }
   },
   "outputs": [
    {
     "data": {
      "image/png": "[encoded data removed]",
      "text/plain": [
       "<Figure size 432x288 with 1 Axes>"
      ]
     },
     "metadata": {
      "needs_background": "light"
     },
     "output_type": "display_data"
    }
   ],
   "source": [
    "import matplotlib.pyplot as plt\n",
    "import numpy as np\n",
    "%matplotlib inline\n",
    "\n",
    "plt.plot(stock_returns, mkt_returns, 'o', label='original data')\n",
    "plt.plot(mkt_returns, alpha + np.array(mkt_returns) * beta.item(), 'r', label='fitted line')\n",
    "plt.legend()\n",
    "plt.show()"
   ]
  },
  {
   "cell_type": "code",
   "execution_count": null,
   "metadata": {},
   "outputs": [],
   "source": []
  }
 ],
 "metadata": {
  "kernelspec": {
   "display_name": "Python 3 (ipykernel)",
   "language": "python",
   "name": "python3"
  },
  "language_info": {
   "codemirror_mode": {
    "name": "ipython",
    "version": 3
   },
   "file_extension": ".py",
   "mimetype": "text/x-python",
   "name": "python",
   "nbconvert_exporter": "python",
   "pygments_lexer": "ipython3",
   "version": "3.9.12"
  }
 },
 "nbformat": 4,
 "nbformat_minor": 4
}
