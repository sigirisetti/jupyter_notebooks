{
 "cells": [
  {
   "cell_type": "markdown",
   "metadata": {},
   "source": [
    "#OLS"
   ]
  },
  {
   "cell_type": "code",
   "execution_count": 2,
   "metadata": {
    "collapsed": false
   },
   "outputs": [
    {
     "name": "stderr",
     "output_type": "stream",
     "text": [
      "C:\\Users\\skiran\\AppData\\Local\\Continuum\\anaconda3\\lib\\site-packages\\statsmodels\\compat\\pandas.py:56: FutureWarning: The pandas.core.datetools module is deprecated and will be removed in a future version. Please use the pandas.tseries module instead.\n",
      "  from pandas.core import datetools\n"
     ]
    },
    {
     "name": "stdout",
     "output_type": "stream",
     "text": [
      "                            OLS Regression Results                            \n",
      "==============================================================================\n",
      "Dep. Variable:                      y   R-squared:                       0.993\n",
      "Model:                            OLS   Adj. R-squared:                  0.946\n",
      "Method:                 Least Squares   F-statistic:                     21.15\n",
      "Date:                Tue, 27 Mar 2018   Prob (F-statistic):              0.166\n",
      "Time:                        16:12:33   Log-Likelihood:                 20.901\n",
      "No. Observations:                   9   AIC:                            -25.80\n",
      "Df Residuals:                       1   BIC:                            -24.22\n",
      "Df Model:                           7                                         \n",
      "Covariance Type:            nonrobust                                         \n",
      "==============================================================================\n",
      "                 coef    std err          t      P>|t|      [0.025      0.975]\n",
      "------------------------------------------------------------------------------\n",
      "const          0.6128      0.131      4.665      0.134      -1.056       2.282\n",
      "x1            -0.5479      0.171     -3.199      0.193      -2.724       1.628\n",
      "x2            -0.1634      0.178     -0.918      0.527      -2.426       2.099\n",
      "x3            -0.3391      0.095     -3.573      0.174      -1.545       0.867\n",
      "x4             0.2023      0.105      1.934      0.304      -1.126       1.531\n",
      "x5            -0.1534      0.193     -0.794      0.573      -2.608       2.302\n",
      "x6             0.8744      0.166      5.266      0.119      -1.235       2.984\n",
      "x7             0.2796      0.092      3.049      0.202      -0.886       1.445\n",
      "==============================================================================\n",
      "Omnibus:                        0.647   Durbin-Watson:                   1.646\n",
      "Prob(Omnibus):                  0.724   Jarque-Bera (JB):                0.558\n",
      "Skew:                          -0.238   Prob(JB):                        0.756\n",
      "Kurtosis:                       1.876   Cond. No.                         18.4\n",
      "==============================================================================\n",
      "\n",
      "Warnings:\n",
      "[1] Standard Errors assume that the covariance matrix of the errors is correctly specified.\n",
      "[ 0.61275811 -0.54787447 -0.16344246 -0.33908156  0.20228331 -0.1533811\n",
      "  0.87436327  0.27963756]\n"
     ]
    },
    {
     "name": "stderr",
     "output_type": "stream",
     "text": [
      "C:\\Users\\skiran\\AppData\\Local\\Continuum\\anaconda3\\lib\\site-packages\\scipy\\stats\\stats.py:1390: UserWarning: kurtosistest only valid for n>=20 ... continuing anyway, n=9\n",
      "  \"anyway, n=%i\" % int(n))\n"
     ]
    }
   ],
   "source": [
    "\"\"\" Least squares regression with statsmodels \"\"\"\n",
    "import numpy as np\n",
    "import statsmodels.api as sm\n",
    "\n",
    "# Generate some sample data\n",
    "num_periods = 9\n",
    "all_values = np.array([np.random.random(8) for i in range(num_periods)])\n",
    "\n",
    "# Filter the data\n",
    "y_values = all_values[:, 0]  # First column values as Y\n",
    "x_values = all_values[:, 1:]  # All other values as X\n",
    "\n",
    "x_values = sm.add_constant(x_values)  # Include the intercept\n",
    "results = sm.OLS(y_values, x_values).fit()  # Regress and fit the model\n",
    "\n",
    "print(results.summary())\n",
    "print(results.params)"
   ]
  }
 ],
 "metadata": {
  "kernelspec": {
   "display_name": "Python 3",
   "language": "python",
   "name": "python3"
  },
  "language_info": {
   "codemirror_mode": {
    "name": "ipython",
    "version": 3
   },
   "file_extension": ".py",
   "mimetype": "text/x-python",
   "name": "python",
   "nbconvert_exporter": "python",
   "pygments_lexer": "ipython3",
   "version": "3.6.7"
  }
 },
 "nbformat": 4,
 "nbformat_minor": 2
}
