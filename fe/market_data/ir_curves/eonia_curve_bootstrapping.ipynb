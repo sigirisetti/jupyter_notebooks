{
 "cells": [
  {
   "cell_type": "markdown",
   "id": "0586b72b-1d7a-42c6-a963-d524863e044d",
   "metadata": {},
   "source": [
    "# EONIA curve bootstrapping"
   ]
  },
  {
   "cell_type": "code",
   "execution_count": 2,
   "id": "81cd408b-7e4e-4347-9fae-8aafb2858b61",
   "metadata": {
    "tags": []
   },
   "outputs": [],
   "source": [
    "%matplotlib inline\n",
    "import math\n",
    "import QuantLib as ql"
   ]
  },
  {
   "cell_type": "code",
   "execution_count": 3,
   "id": "91987dab-1d0d-4aaa-9f70-88f8149a9694",
   "metadata": {
    "tags": []
   },
   "outputs": [],
   "source": [
    "today = ql.Date(11, ql.December, 2012)\n",
    "ql.Settings.instance().evaluationDate = today"
   ]
  },
  {
   "cell_type": "markdown",
   "id": "33deba7a-2b2f-4e90-a01d-79ad8f5b9147",
   "metadata": {},
   "source": [
    "## First 3 instruments for day T+0, T+1, and T+2 are deposit rates\n",
    "\n",
    "The first three instruments are three 1-day deposit that give us discounting between today and the day after spot. They are modeled by three instances of the DepositRateHelper class with a tenor of 1 day and a number of fixing days going from 0 (for the deposit starting today) to 2 (for the deposit starting on the spot date)."
   ]
  },
  {
   "cell_type": "code",
   "execution_count": 4,
   "id": "1a9df122-f43b-43e3-9806-91e9833fc2cb",
   "metadata": {
    "tags": []
   },
   "outputs": [],
   "source": [
    "helpers = [\n",
    "            ql.DepositRateHelper(ql.QuoteHandle(ql.SimpleQuote(rate/100)),\n",
    "                                 ql.Period(1,ql.Days), fixingDays,\n",
    "                                 ql.TARGET(), ql.Following,\n",
    "                                 False, ql.Actual360())\n",
    "            for rate, fixingDays in [(0.04, 0), (0.04, 1), (0.04, 2)]\n",
    "        ]"
   ]
  },
  {
   "cell_type": "markdown",
   "id": "5a6f4e40-b0a3-4fdb-911a-0ca4c038ff25",
   "metadata": {},
   "source": [
    "## OIS rates fpr 1W, 2W, 3W and 1M\n",
    "\n",
    "Then, we have a series of OIS quotes for the first month. They are modeled by instances of the OISRateHelper class with varying tenors. They also require an instance of the Eonia class, which doesn’t need a forecast curve and can be shared between the helpers."
   ]
  },
  {
   "cell_type": "code",
   "execution_count": 5,
   "id": "036ebdb6-010a-4681-b23c-2f87ee63c255",
   "metadata": {
    "tags": []
   },
   "outputs": [],
   "source": [
    "eonia = ql.Eonia()\n",
    "helpers += [\n",
    "            ql.OISRateHelper(2, ql.Period(*tenor),\n",
    "                             ql.QuoteHandle(ql.SimpleQuote(rate/100)), eonia)\n",
    "            for rate, tenor in [(0.070, (1,ql.Weeks)), (0.069, (2,ql.Weeks)),\n",
    "                                (0.078, (3,ql.Weeks)), (0.074, (1,ql.Months))]\n",
    "        ]"
   ]
  },
  {
   "cell_type": "markdown",
   "id": "1674ba1f-4ca7-43a3-bc4d-f032d5408cd0",
   "metadata": {},
   "source": [
    "## Adhoc dates in between\n",
    "\n",
    "Next, five OIS forwards on ECB dates. For these, we need to instantiate the DatedOISRateHelper class and specify start and end dates explicitly."
   ]
  },
  {
   "cell_type": "code",
   "execution_count": 6,
   "id": "ee147a0d-0845-4ba9-b97e-c964f624d48c",
   "metadata": {
    "tags": []
   },
   "outputs": [],
   "source": [
    "helpers += [\n",
    "            ql.DatedOISRateHelper(start_date, end_date,\n",
    "                                  ql.QuoteHandle(ql.SimpleQuote(rate/100)), eonia)\n",
    "            for rate, start_date, end_date in [\n",
    "                ( 0.046, ql.Date(16,ql.January,2013), ql.Date(13,ql.February,2013)),\n",
    "                ( 0.016, ql.Date(13,ql.February,2013), ql.Date(13,ql.March,2013)),\n",
    "                (-0.007, ql.Date(13,ql.March,2013), ql.Date(10,ql.April,2013)),\n",
    "                (-0.013, ql.Date(10,ql.April,2013), ql.Date(8,ql.May,2013)),\n",
    "                (-0.014, ql.Date(8,ql.May,2013), ql.Date(12,ql.June,2013))]\n",
    "        ]"
   ]
  },
  {
   "cell_type": "markdown",
   "id": "f446631d-7008-4ea9-b5aa-4035eac845a1",
   "metadata": {
    "tags": []
   },
   "source": [
    "## 15M to 30Y tenor pillars using OIS Rate\n",
    "\n",
    "Finally, we add OIS quotes up to 30 years."
   ]
  },
  {
   "cell_type": "code",
   "execution_count": 7,
   "id": "0e94ab3f-9098-43e6-83e0-63321537f69a",
   "metadata": {
    "tags": []
   },
   "outputs": [],
   "source": [
    "helpers += [\n",
    "            ql.OISRateHelper(2, ql.Period(*tenor),\n",
    "                             ql.QuoteHandle(ql.SimpleQuote(rate/100)), eonia)\n",
    "            for rate, tenor in [(0.002, (15,ql.Months)), (0.008, (18,ql.Months)),\n",
    "                                (0.021, (21,ql.Months)), (0.036, (2,ql.Years)),\n",
    "                                (0.127, (3,ql.Years)), (0.274, (4,ql.Years)),\n",
    "                                (0.456, (5,ql.Years)), (0.647, (6,ql.Years)),\n",
    "                                (0.827, (7,ql.Years)), (0.996, (8,ql.Years)),\n",
    "                                (1.147, (9,ql.Years)), (1.280, (10,ql.Years)),\n",
    "                                (1.404, (11,ql.Years)), (1.516, (12,ql.Years)),\n",
    "                                (1.764, (15,ql.Years)), (1.939, (20,ql.Years)),\n",
    "                                (2.003, (25,ql.Years)), (2.038, (30,ql.Years))]\n",
    "        ]"
   ]
  },
  {
   "cell_type": "markdown",
   "id": "7352e5e2-acb5-43ed-b25c-5dc201af8a5a",
   "metadata": {},
   "source": [
    "## Piecewise Log Cubic Discount\n",
    "\n",
    "Curve is an instance of PiecewiseLogCubicDiscount (corresponding to the PiecewiseYieldCurve<Discount,LogCubic> class in C++; I won’t repeat the argument for this choice made in section 4.5 of the paper). We let the reference date of the curve move with the global evaluation date, by specifying it as 0 days after the latter on the TARGET calendar. The day counter chosen is not of much consequence, as it is only used internally to convert dates into times. Also, we enable extrapolation beyond the maturity of the last helper; that is mostly for convenience as we retrieve rates to plot the curve near its far end."
   ]
  },
  {
   "cell_type": "code",
   "execution_count": 8,
   "id": "e4f7607a-ede6-4adc-9c8d-8f8693480f8d",
   "metadata": {
    "tags": []
   },
   "outputs": [],
   "source": [
    "eonia_curve_c = ql.PiecewiseLogCubicDiscount(0, ql.TARGET(), helpers, ql.Actual365Fixed())\n"
   ]
  },
  {
   "cell_type": "markdown",
   "id": "07a11d8f-212b-49cf-83dd-23210a0455b5",
   "metadata": {
    "tags": []
   },
   "source": [
    "## Enable extrapolation for long date simulations"
   ]
  },
  {
   "cell_type": "code",
   "execution_count": 9,
   "id": "025c2c76-2371-4052-a85e-3e94bc087f46",
   "metadata": {
    "tags": []
   },
   "outputs": [],
   "source": [
    "eonia_curve_c.enableExtrapolation()"
   ]
  },
  {
   "cell_type": "markdown",
   "id": "c613d370-46e0-480d-852e-479046669afc",
   "metadata": {},
   "source": [
    "## Plotting"
   ]
  },
  {
   "cell_type": "code",
   "execution_count": 10,
   "id": "4a91aca2-1677-44c5-be0c-36d766ca2cc5",
   "metadata": {
    "tags": []
   },
   "outputs": [],
   "source": [
    "import datetime\n",
    "\n",
    "today = eonia_curve_c.referenceDate()\n",
    "end = today + ql.Period(2,ql.Years)\n",
    "ql_dates = [ ql.Date(serial) for serial in range(today.serialNumber(), end.serialNumber()+1) ]\n",
    "dates = [ datetime.datetime(d.year(), d.month(), d.dayOfMonth()) for d in ql_dates ]\n",
    "rates_c = [ eonia_curve_c.forwardRate(d, ql.TARGET().advance(d,1,ql.Days),\n",
    "                                   ql.Actual360(), ql.Simple).rate()\n",
    "         for d in ql_dates ]"
   ]
  },
  {
   "cell_type": "code",
   "execution_count": 11,
   "id": "fff84c52-f460-40e6-aa2b-a566aee09abf",
   "metadata": {
    "tags": []
   },
   "outputs": [
    {
     "data": {
      "text/plain": [
       "(array([15706., 15796., 15887., 15979., 16071., 16161., 16252., 16344.,\n",
       "        16436.]),\n",
       " [Text(15706.0, 0, '2013-01'),\n",
       "  Text(15796.0, 0, '2013-04'),\n",
       "  Text(15887.0, 0, '2013-07'),\n",
       "  Text(15979.0, 0, '2013-10'),\n",
       "  Text(16071.0, 0, '2014-01'),\n",
       "  Text(16161.0, 0, '2014-04'),\n",
       "  Text(16252.0, 0, '2014-07'),\n",
       "  Text(16344.0, 0, '2014-10'),\n",
       "  Text(16436.0, 0, '2015-01')])"
      ]
     },
     "execution_count": 11,
     "metadata": {},
     "output_type": "execute_result"
    },
    {
     "data": {
      "image/png": "[encoded data removed]",
      "text/plain": [
       "<Figure size 640x480 with 1 Axes>"
      ]
     },
     "metadata": {},
     "output_type": "display_data"
    }
   ],
   "source": [
    "import matplotlib as mpl\n",
    "import matplotlib.pyplot as plt\n",
    "\n",
    "fig, ax = plt.subplots()\n",
    "ax.plot(dates, rates_c)\n",
    "ax.grid()\n",
    "plt.xticks(rotation = 45)\n"
   ]
  },
  {
   "cell_type": "code",
   "execution_count": null,
   "id": "f17aafda-65b5-44ac-b66d-a91874db4c61",
   "metadata": {},
   "outputs": [],
   "source": []
  }
 ],
 "metadata": {
  "kernelspec": {
   "display_name": "Python 3 (ipykernel)",
   "language": "python",
   "name": "python3"
  },
  "language_info": {
   "codemirror_mode": {
    "name": "ipython",
    "version": 3
   },
   "file_extension": ".py",
   "mimetype": "text/x-python",
   "name": "python",
   "nbconvert_exporter": "python",
   "pygments_lexer": "ipython3",
   "version": "3.11.4"
  }
 },
 "nbformat": 4,
 "nbformat_minor": 5
}
