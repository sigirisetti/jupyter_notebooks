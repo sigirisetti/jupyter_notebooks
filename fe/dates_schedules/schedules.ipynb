{
 "cells": [
  {
   "cell_type": "markdown",
   "id": "425ceea6-e693-43a3-b2fe-c8e541ade588",
   "metadata": {},
   "source": [
    "# Quantlib Basics"
   ]
  },
  {
   "cell_type": "code",
   "execution_count": 1,
   "id": "945f3d3e-f6f6-45bf-acf6-4a63bc122218",
   "metadata": {
    "tags": []
   },
   "outputs": [],
   "source": [
    "import QuantLib as ql"
   ]
  },
  {
   "cell_type": "markdown",
   "id": "925fa976-9cb9-4cb7-95d6-897458d4292d",
   "metadata": {},
   "source": [
    "## Schedules"
   ]
  },
  {
   "cell_type": "code",
   "execution_count": 9,
   "id": "52896854-41d1-4fe9-9529-f1e9607a89b3",
   "metadata": {
    "tags": []
   },
   "outputs": [
    {
     "data": {
      "text/plain": [
       "[Date(2,1,2015),\n",
       " Date(2,2,2015),\n",
       " Date(2,3,2015),\n",
       " Date(1,4,2015),\n",
       " Date(1,5,2015),\n",
       " Date(1,6,2015),\n",
       " Date(1,7,2015),\n",
       " Date(3,8,2015),\n",
       " Date(1,9,2015),\n",
       " Date(1,10,2015),\n",
       " Date(2,11,2015),\n",
       " Date(1,12,2015),\n",
       " Date(4,1,2016)]"
      ]
     },
     "execution_count": 9,
     "metadata": {},
     "output_type": "execute_result"
    }
   ],
   "source": [
    "date1 = ql.Date(1, 1, 2015)\n",
    "date2 = ql.Date(1, 1, 2016)\n",
    "tenor = ql.Period(ql.Monthly)\n",
    "calendar = ql.UnitedStates(ql.UnitedStates.NYSE)\n",
    "schedule = ql.Schedule(date1, date2, tenor, calendar, ql.Following,\n",
    "                           ql.Following, ql.DateGeneration.Forward, False)\n",
    "list(schedule)"
   ]
  },
  {
   "cell_type": "code",
   "execution_count": null,
   "id": "0963e4c3-e55b-4ffb-98fd-ad945d301a50",
   "metadata": {},
   "outputs": [],
   "source": []
  }
 ],
 "metadata": {
  "kernelspec": {
   "display_name": "Python 3 (ipykernel)",
   "language": "python",
   "name": "python3"
  },
  "language_info": {
   "codemirror_mode": {
    "name": "ipython",
    "version": 3
   },
   "file_extension": ".py",
   "mimetype": "text/x-python",
   "name": "python",
   "nbconvert_exporter": "python",
   "pygments_lexer": "ipython3",
   "version": "3.11.3"
  }
 },
 "nbformat": 4,
 "nbformat_minor": 5
}
