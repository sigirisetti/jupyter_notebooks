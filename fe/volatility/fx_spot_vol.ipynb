{
 "cells": [
  {
   "cell_type": "markdown",
   "metadata": {},
   "source": [
    "# Volatility and Pricing\n",
    "\n",
    "Volatility is a driver for \n",
    "\n",
    "- bid/ask spread\n",
    "- price skew\n",
    "- hedging urgency\n",
    "\n",
    "Market direction is not driven by volatility \n",
    "\n",
    "- on intraday timescales, volatility is symmetric "
   ]
  },
  {
   "cell_type": "markdown",
   "metadata": {},
   "source": [
    "## Volatility Units"
   ]
  },
  {
   "cell_type": "markdown",
   "metadata": {},
   "source": [
    "# Flavors of Volatility\n",
    "\n",
    "There is no one flavor of volatility\n",
    "\n",
    "- Constant volatility\n",
    "- time varying volatility\n",
    "- autocorrelated time varying volatility - GARCH\n",
    "- implied volatility - neear dated ATM Options"
   ]
  },
  {
   "cell_type": "markdown",
   "metadata": {},
   "source": [
    "Volatility is not directly  observable. It must be inferred, typically through recent history\n"
   ]
  },
  {
   "cell_type": "markdown",
   "metadata": {},
   "source": [
    "# Measures of Volatility\n",
    "\n",
    "![](images/measures_of_vol.png)\n",
    "\n",
    "Two candidates here: returns and range\n",
    "\n",
    "- Squared returns are averaged to arrive at a vol estimate\n",
    "- ranges deal directly with price"
   ]
  },
  {
   "cell_type": "markdown",
   "metadata": {},
   "source": [
    "# Measures Assessment\n",
    "\n",
    "## Returns\n",
    "\n",
    "Cons\n",
    "- Not observable, must be calculated from prices\n",
    "- Target time scale is undefined. May be based in investor time scale\n",
    "\n",
    "Pros\n",
    "- Variance of returns are natural to assess uncertainity\n",
    "- Realized vol with smooth functions to create returns. Avoids jumpiness\n"
   ]
  },
  {
   "cell_type": "markdown",
   "metadata": {},
   "source": [
    "## Range\n",
    "\n",
    "Cons\n",
    "- Not intended for electornic markets\n",
    "- Biased estimator with known correction factor\n",
    "- Inconsistent temporal scale\n",
    "- Evolution is smooth\n",
    "- poor update complexity\n",
    "\n",
    "Pros\n",
    "- Very simple\n",
    "- Direct use of prices\n",
    "- Simple starting point"
   ]
  },
  {
   "cell_type": "markdown",
   "metadata": {},
   "source": [
    "## Conclusions\n",
    "\n",
    "Returns as underlying measure to calculate retrospective volatility\n",
    "\n",
    "Returns are used in other places\n",
    "\n",
    "- for market $\\beta$'s\n",
    "- for predictive models\n",
    "- for momentum signals\n",
    "\n",
    "Also volaitlity timespan should match returns timespan. \n",
    "\n",
    "Thus, volatility will have fully described units"
   ]
  },
  {
   "cell_type": "markdown",
   "metadata": {},
   "source": [
    "# Realized Vol\n",
    "\n",
    "From theory to implementation:\n",
    "\n",
    "Theory: $Var R = E(R - ER)^2$\n",
    "\n",
    "Classical measure: $ S^2_r = \\frac{1}{N-1}\\Sigma_{i=1}^N \\Big( r_i - \\frac{1}{N} \\Sigma_{k=1}^N r_k  \\Big)^2$\n",
    "\n",
    "Signals Measure: $ rv^2[n] = f_{rv}(px[n])$\n",
    "\n",
    "where $f_{rv}$ is a filter that consumes prices"
   ]
  },
  {
   "cell_type": "code",
   "execution_count": null,
   "metadata": {},
   "outputs": [],
   "source": []
  }
 ],
 "metadata": {
  "kernelspec": {
   "display_name": "Python 3",
   "language": "python",
   "name": "python3"
  },
  "language_info": {
   "codemirror_mode": {
    "name": "ipython",
    "version": 3
   },
   "file_extension": ".py",
   "mimetype": "text/x-python",
   "name": "python",
   "nbconvert_exporter": "python",
   "pygments_lexer": "ipython3",
   "version": "3.7.3"
  }
 },
 "nbformat": 4,
 "nbformat_minor": 4
}
