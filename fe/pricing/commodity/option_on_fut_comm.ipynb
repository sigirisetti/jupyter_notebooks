{
 "cells": [
  {
   "cell_type": "markdown",
   "id": "78f4dfa7-149b-45c5-8ac3-5b01c7da0fff",
   "metadata": {},
   "source": [
    "# Option on Future Commodity"
   ]
  },
  {
   "cell_type": "code",
   "execution_count": null,
   "id": "003b7bfa-92b7-4e4b-baad-f475c94365c0",
   "metadata": {},
   "outputs": [],
   "source": []
  }
 ],
 "metadata": {
  "kernelspec": {
   "display_name": "Python 3 (ipykernel)",
   "language": "python",
   "name": "python3"
  },
  "language_info": {
   "codemirror_mode": {
    "name": "ipython",
    "version": 3
   },
   "file_extension": ".py",
   "mimetype": "text/x-python",
   "name": "python",
   "nbconvert_exporter": "python",
   "pygments_lexer": "ipython3",
   "version": "3.11.3"
  }
 },
 "nbformat": 4,
 "nbformat_minor": 5
}
