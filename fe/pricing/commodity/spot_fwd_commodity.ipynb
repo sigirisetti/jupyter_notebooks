{
 "cells": [
  {
   "cell_type": "markdown",
   "id": "1295b4ea-7425-4a3b-bb76-6fc08015de55",
   "metadata": {},
   "source": [
    "# Spot Forward Commodity"
   ]
  },
  {
   "cell_type": "code",
   "execution_count": null,
   "id": "b2308a08-531b-406b-af2e-88cfd90fe349",
   "metadata": {},
   "outputs": [],
   "source": []
  }
 ],
 "metadata": {
  "kernelspec": {
   "display_name": "Python 3 (ipykernel)",
   "language": "python",
   "name": "python3"
  },
  "language_info": {
   "codemirror_mode": {
    "name": "ipython",
    "version": 3
   },
   "file_extension": ".py",
   "mimetype": "text/x-python",
   "name": "python",
   "nbconvert_exporter": "python",
   "pygments_lexer": "ipython3",
   "version": "3.11.3"
  }
 },
 "nbformat": 4,
 "nbformat_minor": 5
}
