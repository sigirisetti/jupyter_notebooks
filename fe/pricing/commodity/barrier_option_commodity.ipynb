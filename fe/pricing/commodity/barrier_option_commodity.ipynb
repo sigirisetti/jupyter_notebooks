{
 "cells": [
  {
   "cell_type": "markdown",
   "id": "a5564552-a250-4563-bd8c-1843208505a4",
   "metadata": {},
   "source": [
    "# Barrier Option Commodity"
   ]
  },
  {
   "cell_type": "code",
   "execution_count": null,
   "id": "74b21bc3-b273-4f85-a632-2083211338f5",
   "metadata": {},
   "outputs": [],
   "source": []
  }
 ],
 "metadata": {
  "kernelspec": {
   "display_name": "Python 3 (ipykernel)",
   "language": "python",
   "name": "python3"
  },
  "language_info": {
   "codemirror_mode": {
    "name": "ipython",
    "version": 3
   },
   "file_extension": ".py",
   "mimetype": "text/x-python",
   "name": "python",
   "nbconvert_exporter": "python",
   "pygments_lexer": "ipython3",
   "version": "3.11.3"
  }
 },
 "nbformat": 4,
 "nbformat_minor": 5
}
