{
 "cells": [
  {
   "cell_type": "markdown",
   "id": "ac619a93-af42-46d0-b801-0553ed13ea47",
   "metadata": {},
   "source": [
    "# TARN Commodity"
   ]
  },
  {
   "cell_type": "code",
   "execution_count": null,
   "id": "f6e1485b-1d6b-4677-a7ff-5f2e339e3613",
   "metadata": {},
   "outputs": [],
   "source": []
  }
 ],
 "metadata": {
  "kernelspec": {
   "display_name": "Python 3 (ipykernel)",
   "language": "python",
   "name": "python3"
  },
  "language_info": {
   "codemirror_mode": {
    "name": "ipython",
    "version": 3
   },
   "file_extension": ".py",
   "mimetype": "text/x-python",
   "name": "python",
   "nbconvert_exporter": "python",
   "pygments_lexer": "ipython3",
   "version": "3.11.3"
  }
 },
 "nbformat": 4,
 "nbformat_minor": 5
}
