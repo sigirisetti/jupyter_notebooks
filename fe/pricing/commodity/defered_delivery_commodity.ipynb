{
 "cells": [
  {
   "cell_type": "markdown",
   "id": "f3e9c167-438e-4c1b-bd5c-553050f005e0",
   "metadata": {},
   "source": [
    "# Defered Delivery Commodity"
   ]
  },
  {
   "cell_type": "code",
   "execution_count": null,
   "id": "3d0e2d49-8661-4bc3-b61e-84c9b07be690",
   "metadata": {},
   "outputs": [],
   "source": []
  }
 ],
 "metadata": {
  "kernelspec": {
   "display_name": "Python 3 (ipykernel)",
   "language": "python",
   "name": "python3"
  },
  "language_info": {
   "codemirror_mode": {
    "name": "ipython",
    "version": 3
   },
   "file_extension": ".py",
   "mimetype": "text/x-python",
   "name": "python",
   "nbconvert_exporter": "python",
   "pygments_lexer": "ipython3",
   "version": "3.11.3"
  }
 },
 "nbformat": 4,
 "nbformat_minor": 5
}
