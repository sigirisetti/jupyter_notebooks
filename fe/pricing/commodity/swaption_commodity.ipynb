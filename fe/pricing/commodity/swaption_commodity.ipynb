{
 "cells": [
  {
   "cell_type": "markdown",
   "id": "e24f71fd-b587-493b-b25d-5d04fb0e53ca",
   "metadata": {},
   "source": [
    "# Swaption Commodity"
   ]
  },
  {
   "cell_type": "code",
   "execution_count": null,
   "id": "f0349374-25b0-43e2-bae4-be92a74c6a38",
   "metadata": {},
   "outputs": [],
   "source": []
  }
 ],
 "metadata": {
  "kernelspec": {
   "display_name": "Python 3 (ipykernel)",
   "language": "python",
   "name": "python3"
  },
  "language_info": {
   "codemirror_mode": {
    "name": "ipython",
    "version": 3
   },
   "file_extension": ".py",
   "mimetype": "text/x-python",
   "name": "python",
   "nbconvert_exporter": "python",
   "pygments_lexer": "ipython3",
   "version": "3.11.3"
  }
 },
 "nbformat": 4,
 "nbformat_minor": 5
}
