{
 "cells": [
  {
   "cell_type": "markdown",
   "id": "c3408d10-2db2-4ea1-886d-51f2c4011603",
   "metadata": {},
   "source": [
    "# Simple Option Commodity"
   ]
  },
  {
   "cell_type": "code",
   "execution_count": null,
   "id": "1018548d-080c-4f3f-91fd-eae4d721c41a",
   "metadata": {},
   "outputs": [],
   "source": []
  }
 ],
 "metadata": {
  "kernelspec": {
   "display_name": "Python 3 (ipykernel)",
   "language": "python",
   "name": "python3"
  },
  "language_info": {
   "codemirror_mode": {
    "name": "ipython",
    "version": 3
   },
   "file_extension": ".py",
   "mimetype": "text/x-python",
   "name": "python",
   "nbconvert_exporter": "python",
   "pygments_lexer": "ipython3",
   "version": "3.11.3"
  }
 },
 "nbformat": 4,
 "nbformat_minor": 5
}
