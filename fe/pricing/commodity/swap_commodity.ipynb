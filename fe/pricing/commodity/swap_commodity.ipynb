{
 "cells": [
  {
   "cell_type": "markdown",
   "id": "5033e8b8-c60b-4123-94d1-1fa03aca3081",
   "metadata": {},
   "source": [
    "# Swap Commodity"
   ]
  },
  {
   "cell_type": "code",
   "execution_count": null,
   "id": "3d2c59e1-b49b-4bd0-b228-fc43a5398096",
   "metadata": {},
   "outputs": [],
   "source": []
  }
 ],
 "metadata": {
  "kernelspec": {
   "display_name": "Python 3 (ipykernel)",
   "language": "python",
   "name": "python3"
  },
  "language_info": {
   "codemirror_mode": {
    "name": "ipython",
    "version": 3
   },
   "file_extension": ".py",
   "mimetype": "text/x-python",
   "name": "python",
   "nbconvert_exporter": "python",
   "pygments_lexer": "ipython3",
   "version": "3.11.3"
  }
 },
 "nbformat": 4,
 "nbformat_minor": 5
}
