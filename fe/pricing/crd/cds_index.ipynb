{
 "cells": [
  {
   "cell_type": "markdown",
   "id": "441ee70d-4756-4afb-880b-6da8fb82ae8a",
   "metadata": {},
   "source": [
    "# CDS Index"
   ]
  },
  {
   "cell_type": "code",
   "execution_count": null,
   "id": "7d746210-bf4b-40c6-8f37-cf2daa640e92",
   "metadata": {},
   "outputs": [],
   "source": []
  }
 ],
 "metadata": {
  "kernelspec": {
   "display_name": "Python 3 (ipykernel)",
   "language": "python",
   "name": "python3"
  },
  "language_info": {
   "codemirror_mode": {
    "name": "ipython",
    "version": 3
   },
   "file_extension": ".py",
   "mimetype": "text/x-python",
   "name": "python",
   "nbconvert_exporter": "python",
   "pygments_lexer": "ipython3",
   "version": "3.11.3"
  }
 },
 "nbformat": 4,
 "nbformat_minor": 5
}
