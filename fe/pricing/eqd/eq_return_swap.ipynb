{
 "cells": [
  {
   "cell_type": "markdown",
   "id": "f490046c-4cd8-4f1b-a9dc-4be2e8e79c90",
   "metadata": {},
   "source": [
    "# Equity Return Swap"
   ]
  },
  {
   "cell_type": "code",
   "execution_count": null,
   "id": "c827ae02-fa17-4953-952d-70e79917a675",
   "metadata": {},
   "outputs": [],
   "source": []
  }
 ],
 "metadata": {
  "kernelspec": {
   "display_name": "Python 3 (ipykernel)",
   "language": "python",
   "name": "python3"
  },
  "language_info": {
   "codemirror_mode": {
    "name": "ipython",
    "version": 3
   },
   "file_extension": ".py",
   "mimetype": "text/x-python",
   "name": "python",
   "nbconvert_exporter": "python",
   "pygments_lexer": "ipython3",
   "version": "3.11.3"
  }
 },
 "nbformat": 4,
 "nbformat_minor": 5
}
