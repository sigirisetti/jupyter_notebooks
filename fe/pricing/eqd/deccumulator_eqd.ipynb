{
 "cells": [
  {
   "cell_type": "markdown",
   "id": "547d6b8c-7fbd-40e0-948b-1e116489aa33",
   "metadata": {},
   "source": [
    "# Deccumulator EQD"
   ]
  },
  {
   "cell_type": "code",
   "execution_count": null,
   "id": "620c3f0b-450a-42bd-9246-081335abee79",
   "metadata": {},
   "outputs": [],
   "source": []
  }
 ],
 "metadata": {
  "kernelspec": {
   "display_name": "Python 3 (ipykernel)",
   "language": "python",
   "name": "python3"
  },
  "language_info": {
   "codemirror_mode": {
    "name": "ipython",
    "version": 3
   },
   "file_extension": ".py",
   "mimetype": "text/x-python",
   "name": "python",
   "nbconvert_exporter": "python",
   "pygments_lexer": "ipython3",
   "version": "3.11.3"
  }
 },
 "nbformat": 4,
 "nbformat_minor": 5
}
