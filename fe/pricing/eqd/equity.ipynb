{
 "cells": [
  {
   "cell_type": "markdown",
   "id": "7487bbc2-a139-4027-9b29-0dc7d511070c",
   "metadata": {},
   "source": [
    "# Equity"
   ]
  },
  {
   "cell_type": "code",
   "execution_count": null,
   "id": "08ca6ac6-c16a-47e4-9208-80248e1c305e",
   "metadata": {},
   "outputs": [],
   "source": []
  }
 ],
 "metadata": {
  "kernelspec": {
   "display_name": "Python 3 (ipykernel)",
   "language": "python",
   "name": "python3"
  },
  "language_info": {
   "codemirror_mode": {
    "name": "ipython",
    "version": 3
   },
   "file_extension": ".py",
   "mimetype": "text/x-python",
   "name": "python",
   "nbconvert_exporter": "python",
   "pygments_lexer": "ipython3",
   "version": "3.11.3"
  }
 },
 "nbformat": 4,
 "nbformat_minor": 5
}
