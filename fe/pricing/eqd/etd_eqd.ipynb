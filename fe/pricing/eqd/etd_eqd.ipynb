{
 "cells": [
  {
   "cell_type": "markdown",
   "id": "04ea6560-e3be-48e3-a4b3-13f812735efc",
   "metadata": {},
   "source": [
    "# ETO EQD"
   ]
  },
  {
   "cell_type": "code",
   "execution_count": null,
   "id": "7df88c4d-59b4-4eb2-9200-9dcb2fa9cd53",
   "metadata": {},
   "outputs": [],
   "source": []
  }
 ],
 "metadata": {
  "kernelspec": {
   "display_name": "Python 3 (ipykernel)",
   "language": "python",
   "name": "python3"
  },
  "language_info": {
   "codemirror_mode": {
    "name": "ipython",
    "version": 3
   },
   "file_extension": ".py",
   "mimetype": "text/x-python",
   "name": "python",
   "nbconvert_exporter": "python",
   "pygments_lexer": "ipython3",
   "version": "3.11.3"
  }
 },
 "nbformat": 4,
 "nbformat_minor": 5
}
