{
 "cells": [
  {
   "cell_type": "markdown",
   "id": "6b2a1e45-1f5b-4e8c-97f2-2de1a60f61fe",
   "metadata": {},
   "source": [
    "# Outright"
   ]
  },
  {
   "cell_type": "code",
   "execution_count": null,
   "id": "a008db39-b827-4e5a-a0b1-5266259f152e",
   "metadata": {},
   "outputs": [],
   "source": []
  }
 ],
 "metadata": {
  "kernelspec": {
   "display_name": "Python 3 (ipykernel)",
   "language": "python",
   "name": "python3"
  },
  "language_info": {
   "codemirror_mode": {
    "name": "ipython",
    "version": 3
   },
   "file_extension": ".py",
   "mimetype": "text/x-python",
   "name": "python",
   "nbconvert_exporter": "python",
   "pygments_lexer": "ipython3",
   "version": "3.11.3"
  }
 },
 "nbformat": 4,
 "nbformat_minor": 5
}
