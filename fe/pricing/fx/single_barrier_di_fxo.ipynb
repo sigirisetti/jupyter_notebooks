{
 "cells": [
  {
   "cell_type": "markdown",
   "id": "3dfc157b-8927-485f-bf2f-b74ac31287f2",
   "metadata": {},
   "source": [
    "# Single Barrier Down and In FX"
   ]
  },
  {
   "cell_type": "code",
   "execution_count": null,
   "id": "e18f7eec-2efb-4d8a-b6f7-23a32dc966a0",
   "metadata": {},
   "outputs": [],
   "source": []
  }
 ],
 "metadata": {
  "kernelspec": {
   "display_name": "Python 3 (ipykernel)",
   "language": "python",
   "name": "python3"
  },
  "language_info": {
   "codemirror_mode": {
    "name": "ipython",
    "version": 3
   },
   "file_extension": ".py",
   "mimetype": "text/x-python",
   "name": "python",
   "nbconvert_exporter": "python",
   "pygments_lexer": "ipython3",
   "version": "3.11.3"
  }
 },
 "nbformat": 4,
 "nbformat_minor": 5
}
