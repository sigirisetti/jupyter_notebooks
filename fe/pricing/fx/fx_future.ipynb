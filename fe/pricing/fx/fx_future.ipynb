{
 "cells": [
  {
   "cell_type": "markdown",
   "id": "98037648-a597-47b7-8a9e-d1212448c81b",
   "metadata": {},
   "source": [
    "# FX Future"
   ]
  },
  {
   "cell_type": "code",
   "execution_count": null,
   "id": "c8e0d093-be64-447d-bc52-03f4080c74ac",
   "metadata": {},
   "outputs": [],
   "source": []
  }
 ],
 "metadata": {
  "kernelspec": {
   "display_name": "Python 3 (ipykernel)",
   "language": "python",
   "name": "python3"
  },
  "language_info": {
   "codemirror_mode": {
    "name": "ipython",
    "version": 3
   },
   "file_extension": ".py",
   "mimetype": "text/x-python",
   "name": "python",
   "nbconvert_exporter": "python",
   "pygments_lexer": "ipython3",
   "version": "3.11.3"
  }
 },
 "nbformat": 4,
 "nbformat_minor": 5
}
