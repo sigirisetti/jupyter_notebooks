{
 "cells": [
  {
   "cell_type": "markdown",
   "id": "f228bd4a-75cf-46fc-9c3b-59d4236f9dff",
   "metadata": {},
   "source": [
    "# Single Barrier Up and Out FX\n",
    "\n",
    "Flavours\n",
    "\n",
    "- Single Barrier Discrete\n",
    "- Single Barrier Continuous\n",
    "- Single Barrier European\n",
    "- Single Barrier Quanto\n",
    "- Single Barrier Forward Start"
   ]
  },
  {
   "cell_type": "code",
   "execution_count": null,
   "id": "7b6aa12c-d355-4d05-a0f7-7088c6d7565d",
   "metadata": {},
   "outputs": [],
   "source": []
  }
 ],
 "metadata": {
  "kernelspec": {
   "display_name": "Python 3 (ipykernel)",
   "language": "python",
   "name": "python3"
  },
  "language_info": {
   "codemirror_mode": {
    "name": "ipython",
    "version": 3
   },
   "file_extension": ".py",
   "mimetype": "text/x-python",
   "name": "python",
   "nbconvert_exporter": "python",
   "pygments_lexer": "ipython3",
   "version": "3.11.3"
  }
 },
 "nbformat": 4,
 "nbformat_minor": 5
}
