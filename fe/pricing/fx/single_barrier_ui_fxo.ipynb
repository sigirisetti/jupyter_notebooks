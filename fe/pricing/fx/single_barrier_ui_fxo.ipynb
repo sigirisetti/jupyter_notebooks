{
 "cells": [
  {
   "cell_type": "markdown",
   "id": "9e736269-bccb-4ab9-9177-26485790f08d",
   "metadata": {},
   "source": [
    "# Single Barrier Up and In FX Option"
   ]
  },
  {
   "cell_type": "code",
   "execution_count": null,
   "id": "f333e674-38c7-4b44-adec-a21913feef20",
   "metadata": {},
   "outputs": [],
   "source": []
  }
 ],
 "metadata": {
  "kernelspec": {
   "display_name": "Python 3 (ipykernel)",
   "language": "python",
   "name": "python3"
  },
  "language_info": {
   "codemirror_mode": {
    "name": "ipython",
    "version": 3
   },
   "file_extension": ".py",
   "mimetype": "text/x-python",
   "name": "python",
   "nbconvert_exporter": "python",
   "pygments_lexer": "ipython3",
   "version": "3.11.3"
  }
 },
 "nbformat": 4,
 "nbformat_minor": 5
}
