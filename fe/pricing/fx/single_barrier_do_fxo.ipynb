{
 "cells": [
  {
   "cell_type": "markdown",
   "id": "ae6fb3de-1f7a-4f7a-9673-0203cb034a1a",
   "metadata": {},
   "source": [
    "# Single Barrier Down and Out FX\n",
    "\n",
    "Flavours\n",
    "\n",
    "- Single Barrier Discrete\n",
    "- Single Barrier Continuous\n",
    "- Single Barrier European\n",
    "- Single Barrier Quanto\n",
    "- Single Barrier Forward Start"
   ]
  },
  {
   "cell_type": "code",
   "execution_count": null,
   "id": "52633802-95b6-4539-8537-fac34ae52d72",
   "metadata": {},
   "outputs": [],
   "source": []
  }
 ],
 "metadata": {
  "kernelspec": {
   "display_name": "Python 3 (ipykernel)",
   "language": "python",
   "name": "python3"
  },
  "language_info": {
   "codemirror_mode": {
    "name": "ipython",
    "version": 3
   },
   "file_extension": ".py",
   "mimetype": "text/x-python",
   "name": "python",
   "nbconvert_exporter": "python",
   "pygments_lexer": "ipython3",
   "version": "3.11.3"
  }
 },
 "nbformat": 4,
 "nbformat_minor": 5
}
