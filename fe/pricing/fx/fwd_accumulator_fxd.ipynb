{
 "cells": [
  {
   "cell_type": "markdown",
   "id": "d9101a66-43ad-42ab-863a-d9a30d60be2e",
   "metadata": {},
   "source": [
    "# Fwd Accumulator FXD"
   ]
  },
  {
   "cell_type": "code",
   "execution_count": null,
   "id": "7a3dbb3e-fff9-4f66-bb5e-fc6fc7b9177a",
   "metadata": {},
   "outputs": [],
   "source": []
  }
 ],
 "metadata": {
  "kernelspec": {
   "display_name": "Python 3 (ipykernel)",
   "language": "python",
   "name": "python3"
  },
  "language_info": {
   "codemirror_mode": {
    "name": "ipython",
    "version": 3
   },
   "file_extension": ".py",
   "mimetype": "text/x-python",
   "name": "python",
   "nbconvert_exporter": "python",
   "pygments_lexer": "ipython3",
   "version": "3.11.3"
  }
 },
 "nbformat": 4,
 "nbformat_minor": 5
}
