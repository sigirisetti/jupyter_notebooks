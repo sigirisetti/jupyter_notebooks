{
 "cells": [
  {
   "cell_type": "markdown",
   "id": "b52529dd-1272-42ad-b822-26932151401a",
   "metadata": {},
   "source": [
    "# Target Forward FXD\n",
    "\n",
    "Flavours\n",
    "\n",
    "- Double Target Redemption\n",
    "- KI Target Redemption\n",
    "- KO Double Target\n",
    "- KO Target Redemption\n",
    "- Taregt Redemption"
   ]
  },
  {
   "cell_type": "code",
   "execution_count": null,
   "id": "70286ea2-fb96-42ec-80f9-8ccd1103c8db",
   "metadata": {},
   "outputs": [],
   "source": []
  }
 ],
 "metadata": {
  "kernelspec": {
   "display_name": "Python 3 (ipykernel)",
   "language": "python",
   "name": "python3"
  },
  "language_info": {
   "codemirror_mode": {
    "name": "ipython",
    "version": 3
   },
   "file_extension": ".py",
   "mimetype": "text/x-python",
   "name": "python",
   "nbconvert_exporter": "python",
   "pygments_lexer": "ipython3",
   "version": "3.11.3"
  }
 },
 "nbformat": 4,
 "nbformat_minor": 5
}
