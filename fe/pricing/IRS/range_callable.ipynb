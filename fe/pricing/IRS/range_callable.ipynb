{
 "cells": [
  {
   "cell_type": "markdown",
   "id": "33304475-6ea7-4a98-b20f-1f26ee9bd3e3",
   "metadata": {},
   "source": [
    "# Range Callable"
   ]
  },
  {
   "cell_type": "code",
   "execution_count": null,
   "id": "34883d79-36c2-4068-9030-dd2e51acb361",
   "metadata": {},
   "outputs": [],
   "source": []
  }
 ],
 "metadata": {
  "kernelspec": {
   "display_name": "Python 3 (ipykernel)",
   "language": "python",
   "name": "python3"
  },
  "language_info": {
   "codemirror_mode": {
    "name": "ipython",
    "version": 3
   },
   "file_extension": ".py",
   "mimetype": "text/x-python",
   "name": "python",
   "nbconvert_exporter": "python",
   "pygments_lexer": "ipython3",
   "version": "3.11.3"
  }
 },
 "nbformat": 4,
 "nbformat_minor": 5
}
