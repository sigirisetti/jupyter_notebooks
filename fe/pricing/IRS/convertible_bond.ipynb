{
 "cells": [
  {
   "cell_type": "markdown",
   "id": "55c38897-2544-4740-a07d-d8c7ba86e709",
   "metadata": {},
   "source": [
    "# Convertible Bond"
   ]
  },
  {
   "cell_type": "code",
   "execution_count": null,
   "id": "dc8f39b9-f885-43b0-b0a8-ae10c23062e6",
   "metadata": {},
   "outputs": [],
   "source": []
  }
 ],
 "metadata": {
  "kernelspec": {
   "display_name": "Python 3 (ipykernel)",
   "language": "python",
   "name": "python3"
  },
  "language_info": {
   "codemirror_mode": {
    "name": "ipython",
    "version": 3
   },
   "file_extension": ".py",
   "mimetype": "text/x-python",
   "name": "python",
   "nbconvert_exporter": "python",
   "pygments_lexer": "ipython3",
   "version": "3.11.3"
  }
 },
 "nbformat": 4,
 "nbformat_minor": 5
}
