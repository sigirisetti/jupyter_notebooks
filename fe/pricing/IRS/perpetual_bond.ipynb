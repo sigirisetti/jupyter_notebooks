{
 "cells": [
  {
   "cell_type": "markdown",
   "id": "31ddde7a-754e-415b-a46b-3a32c2d077bb",
   "metadata": {},
   "source": [
    "# Perpetual Bond"
   ]
  },
  {
   "cell_type": "code",
   "execution_count": null,
   "id": "d6929691-b72a-45d1-875a-41d5622a0e0d",
   "metadata": {},
   "outputs": [],
   "source": []
  }
 ],
 "metadata": {
  "kernelspec": {
   "display_name": "Python 3 (ipykernel)",
   "language": "python",
   "name": "python3"
  },
  "language_info": {
   "codemirror_mode": {
    "name": "ipython",
    "version": 3
   },
   "file_extension": ".py",
   "mimetype": "text/x-python",
   "name": "python",
   "nbconvert_exporter": "python",
   "pygments_lexer": "ipython3",
   "version": "3.11.3"
  }
 },
 "nbformat": 4,
 "nbformat_minor": 5
}
