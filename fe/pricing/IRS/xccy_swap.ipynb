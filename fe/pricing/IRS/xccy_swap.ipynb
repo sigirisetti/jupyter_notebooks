{
 "cells": [
  {
   "cell_type": "markdown",
   "id": "e4c79933-a57f-48ce-9edd-3763a4d15efa",
   "metadata": {},
   "source": [
    "# Xccy Swap"
   ]
  },
  {
   "cell_type": "code",
   "execution_count": null,
   "id": "40f78d42-58f8-42cf-8de1-1e2d8a210e56",
   "metadata": {},
   "outputs": [],
   "source": []
  }
 ],
 "metadata": {
  "kernelspec": {
   "display_name": "Python 3 (ipykernel)",
   "language": "python",
   "name": "python3"
  },
  "language_info": {
   "codemirror_mode": {
    "name": "ipython",
    "version": 3
   },
   "file_extension": ".py",
   "mimetype": "text/x-python",
   "name": "python",
   "nbconvert_exporter": "python",
   "pygments_lexer": "ipython3",
   "version": "3.11.3"
  }
 },
 "nbformat": 4,
 "nbformat_minor": 5
}
