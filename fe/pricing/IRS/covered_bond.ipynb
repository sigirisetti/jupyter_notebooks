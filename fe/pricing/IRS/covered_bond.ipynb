{
 "cells": [
  {
   "cell_type": "markdown",
   "id": "57095056-1232-40f4-9936-4ce9c5497624",
   "metadata": {},
   "source": [
    "# Covered Bond"
   ]
  },
  {
   "cell_type": "code",
   "execution_count": null,
   "id": "5f7a7b8d-6674-48cf-935a-13cb2596573c",
   "metadata": {},
   "outputs": [],
   "source": []
  }
 ],
 "metadata": {
  "kernelspec": {
   "display_name": "Python 3 (ipykernel)",
   "language": "python",
   "name": "python3"
  },
  "language_info": {
   "codemirror_mode": {
    "name": "ipython",
    "version": 3
   },
   "file_extension": ".py",
   "mimetype": "text/x-python",
   "name": "python",
   "nbconvert_exporter": "python",
   "pygments_lexer": "ipython3",
   "version": "3.11.3"
  }
 },
 "nbformat": 4,
 "nbformat_minor": 5
}
