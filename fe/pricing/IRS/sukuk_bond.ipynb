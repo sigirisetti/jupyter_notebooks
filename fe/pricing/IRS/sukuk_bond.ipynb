{
 "cells": [
  {
   "cell_type": "markdown",
   "id": "57ee59ed-4fc0-4c3d-919a-d400c88a07bc",
   "metadata": {},
   "source": [
    "# Sukuk Bond"
   ]
  },
  {
   "cell_type": "code",
   "execution_count": null,
   "id": "63143c7e-ee40-4d83-b641-9d46830dbdc8",
   "metadata": {},
   "outputs": [],
   "source": []
  }
 ],
 "metadata": {
  "kernelspec": {
   "display_name": "Python 3 (ipykernel)",
   "language": "python",
   "name": "python3"
  },
  "language_info": {
   "codemirror_mode": {
    "name": "ipython",
    "version": 3
   },
   "file_extension": ".py",
   "mimetype": "text/x-python",
   "name": "python",
   "nbconvert_exporter": "python",
   "pygments_lexer": "ipython3",
   "version": "3.11.3"
  }
 },
 "nbformat": 4,
 "nbformat_minor": 5
}
