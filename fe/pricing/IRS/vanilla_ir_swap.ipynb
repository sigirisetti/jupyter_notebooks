{
 "cells": [
  {
   "cell_type": "markdown",
   "id": "2256bb20-0b4a-40e2-90f3-9133de1af25b",
   "metadata": {},
   "source": [
    "# Interest Rate Swap Pricing"
   ]
  },
  {
   "cell_type": "markdown",
   "id": "152c0c25-9a5c-4cea-a4f2-2597e8e228d8",
   "metadata": {},
   "source": [
    "An **Interest Rate Swap** is a financial derivative instrument in which two parties agree to exchange interest rate cash flows based on a notional amount from a fixed rate to a floating rate or from one floating rate to another floating rate.\n",
    "\n",
    "Here we will consider an example of a plain vanilla USD swap with **10 million notional** and **10 year maturity**. Let the **fixed leg pay 2.5% coupon semiannually**, and the **floating leg pay Libor 3m quarterly**\n",
    "\n",
    "Here we construct the yield curve objects. For simplicity, we will use **flat curves for discounting** and **Libor 3M**. This will help us focus on the Swap construction part"
   ]
  },
  {
   "cell_type": "code",
   "execution_count": 12,
   "id": "21c4cb46-7974-4e0b-a1ad-f39ec797fcb8",
   "metadata": {
    "tags": []
   },
   "outputs": [],
   "source": [
    "import QuantLib as ql\n",
    "\n",
    "def print_curve(xlist, ylist, precision=3):\n",
    "    \"\"\"\n",
    "    Method to print curve in a nice format\n",
    "    \"\"\"\n",
    "    print(\"----------------------\")\n",
    "    print(\"Maturities\\tCurve\")\n",
    "    print(\"----------------------\")\n",
    "    for x,y in zip(xlist, ylist):\n",
    "        print(x,\"\\t\\t\", round(y, precision))\n",
    "    print(\"----------------------\")\n",
    "    \n",
    "    "
   ]
  },
  {
   "cell_type": "markdown",
   "id": "71938f4e-953f-4798-aa8b-99d8b6d7d095",
   "metadata": {},
   "source": [
    "The deposit rates and fixed rate bond rates are provided below. This example is based on Exhibit 5-5 given in Frank Fabozzi's Bond Markets, Analysis and Strategies, Sixth Edition.\n",
    "\n"
   ]
  },
  {
   "cell_type": "code",
   "execution_count": 13,
   "id": "093342d2-2019-465b-b728-28a7ca752561",
   "metadata": {},
   "outputs": [],
   "source": [
    "# some constants and conventions\n",
    "# here we just assume for the sake of example\n",
    "# that some of the constants are the same for\n",
    "# depo rates and bond rates\n",
    "\n",
    "calc_date = ql.Date(15, 1, 2015)\n",
    "ql.Settings.instance().evaluationDate = calc_date"
   ]
  },
  {
   "cell_type": "code",
   "execution_count": 14,
   "id": "4bd17e45-1c0e-4a2c-8642-58c85b611125",
   "metadata": {
    "tags": []
   },
   "outputs": [],
   "source": [
    "# construct discount curve and libor curve\n",
    "\n",
    "risk_free_rate = 0.01\n",
    "libor_rate = 0.02\n",
    "day_count = ql.Actual365Fixed()\n",
    "\n",
    "discount_curve = ql.YieldTermStructureHandle(ql.FlatForward(calc_date, risk_free_rate, day_count))\n",
    "libor_curve = ql.YieldTermStructureHandle(ql.FlatForward(calc_date, libor_rate, day_count))\n",
    "#libor3M_index = ql.Euribor3M(libor_curve)  \n",
    "libor3M_index = ql.USDLibor(ql.Period(3, ql.Months), libor_curve)"
   ]
  },
  {
   "cell_type": "markdown",
   "id": "3b009dcb-a152-41c0-964c-bc963bfe4e23",
   "metadata": {},
   "source": [
    "To **construct the Swap instrument**, we have to specify the **fixed rate leg** and **floating rate leg**. We construct the **fixed rate** and **floating rate leg schedules** below."
   ]
  },
  {
   "cell_type": "code",
   "execution_count": 15,
   "id": "f6606018-dddf-408c-ac08-4e2141b2ace1",
   "metadata": {
    "tags": []
   },
   "outputs": [],
   "source": [
    "calendar = ql.UnitedStates(ql.UnitedStates.NYSE)\n",
    "settle_date = calendar.advance(calc_date, 5, ql.Days)\n",
    "maturity_date = calendar.advance(settle_date, 10, ql.Years)\n",
    "\n",
    "fixed_leg_tenor = ql.Period(6, ql.Months)\n",
    "fixed_schedule = ql.Schedule(settle_date, maturity_date, \n",
    "                             fixed_leg_tenor, calendar,\n",
    "                             ql.ModifiedFollowing, ql.ModifiedFollowing,\n",
    "                             ql.DateGeneration.Forward, False)\n",
    "\n",
    "float_leg_tenor = ql.Period(3, ql.Months)\n",
    "float_schedule = ql.Schedule (settle_date, maturity_date, \n",
    "                              float_leg_tenor, calendar,\n",
    "                              ql.ModifiedFollowing, ql.ModifiedFollowing,\n",
    "                              ql.DateGeneration.Forward, False)"
   ]
  },
  {
   "cell_type": "markdown",
   "id": "3a77a552-7449-473c-9b9d-38dc851e80ca",
   "metadata": {},
   "source": [
    "Below, we construct a **VanillaSwap object** by including the fixed and float leg schedules created above."
   ]
  },
  {
   "cell_type": "code",
   "execution_count": 16,
   "id": "db9f9198-9f6e-4fdc-8b12-139763579f36",
   "metadata": {
    "tags": []
   },
   "outputs": [],
   "source": [
    "notional = 10000000\n",
    "fixed_rate = 0.025\n",
    "fixed_leg_daycount = ql.Actual360()\n",
    "float_spread = 0.004\n",
    "float_leg_daycount = ql.Actual360()\n",
    "\n",
    "ir_swap = ql.VanillaSwap(ql.VanillaSwap.Payer, notional, fixed_schedule, \n",
    "               fixed_rate, fixed_leg_daycount, float_schedule,\n",
    "               libor3M_index, float_spread, float_leg_daycount )"
   ]
  },
  {
   "cell_type": "markdown",
   "id": "181a475a-7fff-4d78-b976-5db8dd0c0fea",
   "metadata": {},
   "source": [
    "We **evaluate the swap using a discounting engine.**"
   ]
  },
  {
   "cell_type": "code",
   "execution_count": 17,
   "id": "0c5dc9f3-63bf-4d8e-a037-6e5e8538111d",
   "metadata": {
    "tags": []
   },
   "outputs": [],
   "source": [
    "swap_engine = ql.DiscountingSwapEngine(discount_curve)\n",
    "ir_swap.setPricingEngine(swap_engine)"
   ]
  },
  {
   "cell_type": "markdown",
   "id": "e29fe244-b1ba-4cda-b817-e9de79875233",
   "metadata": {
    "tags": []
   },
   "source": [
    "## Fixed Leg Cashflows"
   ]
  },
  {
   "cell_type": "code",
   "execution_count": 18,
   "id": "519b9123-8589-40d7-8cf0-84d290c3bf59",
   "metadata": {
    "tags": []
   },
   "outputs": [
    {
     "name": "stdout",
     "output_type": "stream",
     "text": [
      " 1 July 23rd, 2015     125694.44\n",
      " 2 January 25th, 2016  129166.67\n",
      " 3 July 25th, 2016     126388.89\n",
      " 4 January 23rd, 2017  126388.89\n",
      " 5 July 24th, 2017     126388.89\n",
      " 6 January 23rd, 2018  127083.33\n",
      " 7 July 23rd, 2018     125694.44\n",
      " 8 January 23rd, 2019  127777.78\n",
      " 9 July 23rd, 2019     125694.44\n",
      "10 January 23rd, 2020  127777.78\n",
      "11 July 23rd, 2020     126388.89\n",
      "12 January 25th, 2021  129166.67\n",
      "13 July 23rd, 2021     124305.56\n",
      "14 January 24th, 2022  128472.22\n",
      "15 July 25th, 2022     126388.89\n",
      "16 January 23rd, 2023  126388.89\n",
      "17 July 24th, 2023     126388.89\n",
      "18 January 23rd, 2024  127083.33\n",
      "19 July 23rd, 2024     126388.89\n",
      "20 January 23rd, 2025  127777.78\n"
     ]
    }
   ],
   "source": [
    "for i, cf in enumerate(ir_swap.leg(0)):\n",
    "    print(\"%2d %-18s %10.2f\"%(i+1, cf.date(), cf.amount()))"
   ]
  },
  {
   "cell_type": "markdown",
   "id": "84c6d328-1072-43cb-aee8-069cfe474ccd",
   "metadata": {},
   "source": [
    "## Float Leg Cashflow"
   ]
  },
  {
   "cell_type": "code",
   "execution_count": 19,
   "id": "5c04adc1-552d-499c-9cb9-39a431238e1c",
   "metadata": {
    "tags": []
   },
   "outputs": [
    {
     "name": "stdout",
     "output_type": "stream",
     "text": [
      " 1 April 23rd, 2015     59436.87\n",
      " 2 July 23rd, 2015      60098.65\n",
      " 3 October 23rd, 2015   60760.46\n",
      " 4 January 25th, 2016   62084.17\n",
      " 5 April 25th, 2016     60098.65\n",
      " 6 July 25th, 2016      60098.65\n",
      " 7 October 24th, 2016   60098.65\n",
      " 8 January 23rd, 2017   60098.65\n",
      " 9 April 24th, 2017     60098.65\n",
      "10 July 24th, 2017      60098.65\n",
      "11 October 23rd, 2017   60098.65\n",
      "12 January 23rd, 2018   60760.46\n",
      "13 April 23rd, 2018     59436.87\n",
      "14 July 23rd, 2018      60098.65\n",
      "15 October 23rd, 2018   60760.46\n",
      "16 January 23rd, 2019   60760.46\n",
      "17 April 23rd, 2019     59436.87\n",
      "18 July 23rd, 2019      60098.65\n",
      "19 October 23rd, 2019   60760.46\n",
      "20 January 23rd, 2020   60760.46\n",
      "21 April 23rd, 2020     60098.65\n",
      "22 July 23rd, 2020      60098.65\n",
      "23 October 23rd, 2020   60760.46\n",
      "24 January 25th, 2021   62084.17\n",
      "25 April 23rd, 2021     58113.40\n",
      "26 July 23rd, 2021      60098.65\n",
      "27 October 25th, 2021   62084.17\n",
      "28 January 24th, 2022   60098.65\n",
      "29 April 25th, 2022     60098.65\n",
      "30 July 25th, 2022      60098.65\n",
      "31 October 24th, 2022   60098.65\n",
      "32 January 23rd, 2023   60098.65\n",
      "33 April 24th, 2023     60098.65\n",
      "34 July 24th, 2023      60098.65\n",
      "35 October 23rd, 2023   60098.65\n",
      "36 January 23rd, 2024   60760.46\n",
      "37 April 23rd, 2024     60098.65\n",
      "38 July 23rd, 2024      60098.65\n",
      "39 October 23rd, 2024   60760.46\n",
      "40 January 23rd, 2025   60760.46\n"
     ]
    }
   ],
   "source": [
    "for i, cf in enumerate(ir_swap.leg(1)):\n",
    "    print(\"%2d %-18s %10.2f\"%(i+1, cf.date(), cf.amount()))"
   ]
  },
  {
   "cell_type": "markdown",
   "id": "33522e2f-e724-44df-b9cf-2a3a41fefee3",
   "metadata": {},
   "source": [
    "## NPV "
   ]
  },
  {
   "cell_type": "code",
   "execution_count": 20,
   "id": "35cbf920-3b47-43b8-a9ad-fb285a0af739",
   "metadata": {
    "tags": []
   },
   "outputs": [
    {
     "name": "stdout",
     "output_type": "stream",
     "text": [
      "Net present Value   :          -115050.676\n",
      "Fair Spread         :                0.005\n",
      "Fair Rate           :                0.024\n",
      "Fixed Leg BPS       :            -9629.716\n",
      "Float Leg BPS       :             9641.779\n"
     ]
    }
   ],
   "source": [
    "print(\"%-20s: %20.3f\" % (\"Net present Value\", ir_swap.NPV()))\n",
    "print(\"%-20s: %20.3f\" % (\"Fair Spread\", ir_swap.fairSpread()))\n",
    "print(\"%-20s: %20.3f\" % (\"Fair Rate\", ir_swap.fairRate()))\n",
    "print(\"%-20s: %20.3f\" % (\"Fixed Leg BPS\", ir_swap.fixedLegBPS()))\n",
    "print(\"%-20s: %20.3f\" % (\"Float Leg BPS\", ir_swap.floatingLegBPS()))"
   ]
  },
  {
   "cell_type": "code",
   "execution_count": null,
   "id": "a91dfec2-ced4-470b-84d4-a591ad6a2ab0",
   "metadata": {},
   "outputs": [],
   "source": []
  }
 ],
 "metadata": {
  "kernelspec": {
   "display_name": "Python 3 (ipykernel)",
   "language": "python",
   "name": "python3"
  },
  "language_info": {
   "codemirror_mode": {
    "name": "ipython",
    "version": 3
   },
   "file_extension": ".py",
   "mimetype": "text/x-python",
   "name": "python",
   "nbconvert_exporter": "python",
   "pygments_lexer": "ipython3",
   "version": "3.11.3"
  }
 },
 "nbformat": 4,
 "nbformat_minor": 5
}
