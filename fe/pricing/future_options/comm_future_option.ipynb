{
 "cells": [
  {
   "cell_type": "markdown",
   "id": "7c0c4837-ee73-46d2-9216-f44bf1d67de5",
   "metadata": {},
   "source": [
    "# Valuing Options on Commodity Futures"
   ]
  },
  {
   "cell_type": "markdown",
   "id": "0a2b32c6-846e-4048-93df-0b3bbaabcce4",
   "metadata": {},
   "source": [
    "The Black-Scholes equation is the well known model to price equity European options. In the case of equities, the spot price fluctuates and hence the intuition to model as a stochastic process makes sense. In the case of commodities, however, the spot price does not fluctuate as much, and hence cannot be modeled as a stochastic process to value options on commodities. In the 1976 paper [1], Fischer Black addressed this problem by modeling the futures price, which demonstrates fluctuations, as the lognormal stochastic process.\n",
    "\n",
    "The futures price at time $t, F_t$ with a is modeled as:\n",
    "\n",
    "$dF_t = \\sigma_t F_t dW_t$\n",
    "\n",
    "where $\\sigma_t$ is the volatility of the underlying, and $dW$ is the Weiner process.\n",
    "\n",
    "The value of an option at strike $K$, maturing at $T$, risk free rate $r$ with volatility $\\sigma$ of the underlying is given by the closed form expression:\n",
    "\n",
    "$c = e^{-rT} [ F\\cdot N(d_1) - K\\cdot N(d_2) ]$\n",
    "$p = e^{-rT} [ K\\cdot N(-d_2) - F\\cdot N(-d_1)]$\n",
    "\n",
    "where\n",
    "\n",
    "$d_1 = \\frac{ln(F/K) + (\\sigma^2/2)T}{\\sigma \\sqrt{T}}$\n",
    "$d_2 = \\frac{ln(F/K) - (\\sigma^2/2)T}{\\sigma \\sqrt{T}} = d_1 - \\sigma \\sqrt{T}$\n",
    "\n",
    "\n",
    "This formula can be easily used to price **caps, swaptions, futures options contract**. Here we will use QuantLib to price the options on commodity futures."
   ]
  },
  {
   "cell_type": "code",
   "execution_count": 7,
   "id": "f33da0fe-c614-45d6-a9aa-d32936fbcfd7",
   "metadata": {},
   "outputs": [],
   "source": [
    "import QuantLib as ql\n",
    "import math\n",
    "\n",
    "calendar = ql.UnitedStates(ql.UnitedStates.NYSE)\n",
    "bussiness_convention = ql.ModifiedFollowing\n",
    "settlement_days = 0\n",
    "day_count = ql.ActualActual(ql.ActualActual.ISMA)"
   ]
  },
  {
   "cell_type": "code",
   "execution_count": 8,
   "id": "0f2beea0-a119-443f-a2d4-527bb3266fc2",
   "metadata": {},
   "outputs": [],
   "source": [
    "interest_rate = 0.0015\n",
    "calc_date = ql.Date(23,9,2015)\n",
    "yield_curve = ql.FlatForward(calc_date, \n",
    "                             interest_rate,\n",
    "                             day_count,\n",
    "                             ql.Compounded,\n",
    "                             ql.Continuous)"
   ]
  },
  {
   "cell_type": "code",
   "execution_count": 9,
   "id": "a2217f5b-3eae-4234-bc87-6f6b1d057822",
   "metadata": {},
   "outputs": [],
   "source": [
    "ql.Settings.instance().evaluationDate = calc_date\n",
    "T = 96.12/365.\n",
    "\n",
    "strike = 3.5\n",
    "spot = 2.919\n",
    "volatility = 0.4251\n",
    "flavor = ql.Option.Call\n",
    "\n",
    "discount = yield_curve.discount(T)\n",
    "strikepayoff = ql.PlainVanillaPayoff(flavor, strike)\n",
    "stddev = volatility*math.sqrt(T)\n",
    "\n",
    "strikepayoff = ql.PlainVanillaPayoff(flavor, strike)\n",
    "black = ql.BlackCalculator(strikepayoff, spot, stddev, discount)"
   ]
  },
  {
   "cell_type": "code",
   "execution_count": 10,
   "id": "da1a4a88-6507-4641-be77-64f793acf9ad",
   "metadata": {
    "tags": []
   },
   "outputs": [
    {
     "name": "stdout",
     "output_type": "stream",
     "text": [
      "Option Price        : 0.0789\n",
      "Delta               : 0.2347\n",
      "Gamma               : 0.4822\n",
      "Theta               : -0.3711\n",
      "Vega                : 0.4600\n",
      "Rho                 : 0.1597\n"
     ]
    }
   ],
   "source": [
    "print(\"%-20s: %4.4f\" %(\"Option Price\", black.value() ))\n",
    "print(\"%-20s: %4.4f\" %(\"Delta\", black.delta(spot) ))\n",
    "print(\"%-20s: %4.4f\" %(\"Gamma\", black.gamma(spot) ))\n",
    "print(\"%-20s: %4.4f\" %(\"Theta\", black.theta(spot, T) ))\n",
    "print(\"%-20s: %4.4f\" %(\"Vega\", black.vega(T) ))\n",
    "print(\"%-20s: %4.4f\" %(\"Rho\", black.rho( T) ))"
   ]
  }
 ],
 "metadata": {
  "kernelspec": {
   "display_name": "Python 3 (ipykernel)",
   "language": "python",
   "name": "python3"
  },
  "language_info": {
   "codemirror_mode": {
    "name": "ipython",
    "version": 3
   },
   "file_extension": ".py",
   "mimetype": "text/x-python",
   "name": "python",
   "nbconvert_exporter": "python",
   "pygments_lexer": "ipython3",
   "version": "3.11.3"
  }
 },
 "nbformat": 4,
 "nbformat_minor": 5
}
