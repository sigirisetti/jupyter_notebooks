{
 "cells": [
  {
   "cell_type": "markdown",
   "id": "c36fbf06-4c25-4a22-8e5d-57111ff58647",
   "metadata": {},
   "source": [
    "# Fixed Coupon Bond"
   ]
  },
  {
   "cell_type": "markdown",
   "id": "93aee293-a269-4c82-8f2a-d3aaeed01b7a",
   "metadata": {},
   "source": [
    "Let's consider a hypothetical bond with a **par value of 100**, that pays **6% coupon semi-annually** issued on January 15th, 2015 and set to mature on January 15th, 2016. The bond will pay a coupon on July 15th, 2015 and January 15th, 2016. The par amount of 100 will also be paid on the January 15th, 2016.\n",
    "\n",
    "To make things simpler, lets assume that we know the **spot rates** of the treasury as of January 15th, 2015. The annualized spot rates are **0.5% for 6 months** and **0.7% for 1 year point**. Lets calculate the fair value of this bond."
   ]
  },
  {
   "cell_type": "code",
   "execution_count": 1,
   "id": "7daf77c9-5935-473b-91f2-d5fd341c3ab5",
   "metadata": {
    "tags": []
   },
   "outputs": [
    {
     "data": {
      "text/plain": [
       "105.27653992490681"
      ]
     },
     "execution_count": 1,
     "metadata": {},
     "output_type": "execute_result"
    }
   ],
   "source": [
    "3/pow(1+0.005, 0.5) + (100 + 3)/(1+0.007)"
   ]
  },
  {
   "cell_type": "code",
   "execution_count": 2,
   "id": "47808094-6877-4e23-88d4-d24a70fb1cac",
   "metadata": {
    "tags": []
   },
   "outputs": [],
   "source": [
    "import QuantLib as ql\n",
    "todaysDate = ql.Date(15, 1, 2015)\n",
    "ql.Settings.instance().evaluationDate = todaysDate\n",
    "\n",
    "spotDates = [ql.Date(15, 1, 2015), ql.Date(15, 7, 2015), ql.Date(15, 1, 2016)]\n",
    "spotRates = [0.0, 0.005, 0.007]\n",
    "\n",
    "dayCount = ql.Thirty360(ql.Thirty360.BondBasis)\n",
    "calendar = ql.UnitedStates(ql.UnitedStates.Settlement)\n",
    "interpolation = ql.Linear()\n",
    "compounding = ql.Compounded\n",
    "compoundingFrequency = ql.Annual\n",
    "\n",
    "spotCurve = ql.ZeroCurve(spotDates, spotRates, dayCount, calendar, interpolation,\n",
    "                             compounding, compoundingFrequency)\n",
    "spotCurveHandle = ql.YieldTermStructureHandle(spotCurve)"
   ]
  },
  {
   "cell_type": "code",
   "execution_count": 3,
   "id": "a971576c-2551-4b07-ad7c-abcda30db447",
   "metadata": {
    "tags": []
   },
   "outputs": [
    {
     "name": "stdout",
     "output_type": "stream",
     "text": [
      "Schedule :  [Date(15,1,2015), Date(15,7,2015), Date(15,1,2016)]\n",
      "105.27653992490683\n"
     ]
    }
   ],
   "source": [
    "issueDate = ql.Date(15, 1, 2015)\n",
    "maturityDate = ql.Date(15, 1, 2016)\n",
    "tenor = ql.Period(ql.Semiannual)\n",
    "calendar = ql.UnitedStates(ql.UnitedStates.Settlement)\n",
    "bussinessConvention = ql.Unadjusted\n",
    "dateGeneration = ql.DateGeneration.Backward\n",
    "monthEnd = False\n",
    "schedule = ql.Schedule (issueDate, maturityDate, tenor, calendar, bussinessConvention,\n",
    "                            bussinessConvention , dateGeneration, monthEnd)\n",
    "\n",
    "print('Schedule : ', list(schedule))\n",
    "\n",
    "# Now lets build the coupon\n",
    "dayCount = ql.Thirty360(ql.Thirty360.BondBasis)\n",
    "couponRate = .06\n",
    "coupons = [couponRate]\n",
    "\n",
    "# Now lets construct the FixedRateBond Instrument\n",
    "settlementDays = 0\n",
    "faceValue = 100\n",
    "fixedRateBond = ql.FixedRateBond(settlementDays, faceValue, schedule, coupons, dayCount)\n",
    "\n",
    "# create a bond engine with the term structure as input;\n",
    "# set the bond to use this bond engine\n",
    "bondEngine = ql.DiscountingBondEngine(spotCurveHandle)\n",
    "fixedRateBond.setPricingEngine(bondEngine)\n",
    "\n",
    "# Finally the price\n",
    "print(fixedRateBond.NPV())"
   ]
  },
  {
   "cell_type": "code",
   "execution_count": null,
   "id": "2c37bcb2-37a9-482e-abc0-cc63e07bd08c",
   "metadata": {},
   "outputs": [],
   "source": []
  }
 ],
 "metadata": {
  "kernelspec": {
   "display_name": "Python 3 (ipykernel)",
   "language": "python",
   "name": "python3"
  },
  "language_info": {
   "codemirror_mode": {
    "name": "ipython",
    "version": 3
   },
   "file_extension": ".py",
   "mimetype": "text/x-python",
   "name": "python",
   "nbconvert_exporter": "python",
   "pygments_lexer": "ipython3",
   "version": "3.11.4"
  }
 },
 "nbformat": 4,
 "nbformat_minor": 5
}
