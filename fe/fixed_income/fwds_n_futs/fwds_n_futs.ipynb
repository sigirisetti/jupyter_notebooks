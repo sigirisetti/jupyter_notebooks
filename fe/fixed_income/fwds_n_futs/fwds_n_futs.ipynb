{
 "cells": [
  {
   "cell_type": "markdown",
   "metadata": {},
   "source": [
    "# CHARACTERISTICS OF FUTURES AND FORWARDS\n",
    "\n",
    "- The difference between the cash or spot price and the forward or futures price is called the <b>basis</b>. \n",
    "-  Prior to expiry the basis is non-zero in general, but at expiry the price of the futures is equal to the spot price, since both prices are for immediate delivery\n",
    "\n",
    "## Interest Rate and Swap Futures\n",
    "\n",
    "- An interest rate futures contract has a fixed expiry date, whereas an FRA is to buy or sell a forward interest rate with fixed time to expiry, i.e. with a fixed term\n",
    "\n",
    "## Quoting Conventions\n",
    "\n",
    "- Three-month interest rate futures are quoted as 100 minus the 3-month LIBOR rate.By contrast, the FRA is simply quoted as the current value of the forward interest rate.\n"
   ]
  }
 ],
 "metadata": {
  "kernelspec": {
   "display_name": "Python 3",
   "language": "python",
   "name": "python3"
  },
  "language_info": {
   "codemirror_mode": {
    "name": "ipython",
    "version": 3
   },
   "file_extension": ".py",
   "mimetype": "text/x-python",
   "name": "python",
   "nbconvert_exporter": "python",
   "pygments_lexer": "ipython3",
   "version": "3.7.3"
  }
 },
 "nbformat": 4,
 "nbformat_minor": 4
}
