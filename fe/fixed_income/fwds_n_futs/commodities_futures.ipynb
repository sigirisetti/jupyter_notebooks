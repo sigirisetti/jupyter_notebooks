{
 "cells": [
  {
   "cell_type": "markdown",
   "metadata": {},
   "source": [
    "# Commodity Futures\n",
    "\n",
    "## Exchanges\n",
    "Energy and commodities futures are actively traded on several exchanges such as CME,NYMEX, the US Commodities Exchange (Comex), the International Petroleum Exchange (IPE) and, for agricultural commodities such as softs and livestock, the NYSE Intercon-tinental Exchange (ICE), CBOT and NYSE Euronext\n",
    "\n",
    "## Most Liquid\n",
    "Whilst commodity futures over several different expiry dates are available, most of the liq-uidity is concentrated on the prompt futures. The <b>prompt futures</b> or <b>near futures</b> contract is the\n",
    "futures contract that is the first to expire\n",
    "\n"
   ]
  }
 ],
 "metadata": {
  "kernelspec": {
   "display_name": "Python 3",
   "language": "python",
   "name": "python3"
  },
  "language_info": {
   "codemirror_mode": {
    "name": "ipython",
    "version": 3
   },
   "file_extension": ".py",
   "mimetype": "text/x-python",
   "name": "python",
   "nbconvert_exporter": "python",
   "pygments_lexer": "ipython3",
   "version": "3.7.5"
  }
 },
 "nbformat": 4,
 "nbformat_minor": 4
}
