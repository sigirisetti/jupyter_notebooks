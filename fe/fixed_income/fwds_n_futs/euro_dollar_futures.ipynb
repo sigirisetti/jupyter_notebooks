{
 "cells": [
  {
   "cell_type": "markdown",
   "metadata": {},
   "source": [
    "# Euro Dollar interest rate futures\n",
    "\n",
    "Eurodollar futures, i.e. futures on US interest rates, traded on the International Money Market (IMM) of the CME\n",
    "\n",
    "The contract is based on a principal value of \\\\$1 million invested in the 3-month US Treasury bill\n",
    "\n",
    "The standard increment or tick for a eurodollar futures quote is one basis point. Hence the point\n",
    "value, i.e. the dollar value of one tick, is\n",
    "\n",
    "\\$ 1,000,000 * 0.0001 * 90/360 = \\\\$ 25\n",
    "\n"
   ]
  }
 ],
 "metadata": {
  "kernelspec": {
   "display_name": "Python 3",
   "language": "python",
   "name": "python3"
  },
  "language_info": {
   "codemirror_mode": {
    "name": "ipython",
    "version": 3
   },
   "file_extension": ".py",
   "mimetype": "text/x-python",
   "name": "python",
   "nbconvert_exporter": "python",
   "pygments_lexer": "ipython3",
   "version": "3.7.5"
  }
 },
 "nbformat": 4,
 "nbformat_minor": 4
}
