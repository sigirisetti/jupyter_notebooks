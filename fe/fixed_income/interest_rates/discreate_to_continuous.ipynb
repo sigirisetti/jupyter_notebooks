{
 "cells": [
  {
   "cell_type": "markdown",
   "metadata": {},
   "source": [
    " # Translation between Discrete Rates and Continuous Rates\n",
    " \n",
    "Let $R_T$ and $r_T$ denote the discretely and continuously compounded rates of maturity T. $R_T$ and $r_T$ are equivalent if they provide the same return. Suppose there are n compounding periods per annum on the discretely compounded rate. Then equating returns gives\n",
    " "
   ]
  },
  {
   "cell_type": "markdown",
   "metadata": {},
   "source": [
    "$e^{(r_T T)}$ = $(1 + \\frac{R_T}{n})^{nT}$\n",
    "\n",
    "$r_T = n ln(1 + \\frac{R_T}{n})$\n",
    "\n",
    "$R_T = n(e^{\\frac{r_T}{n}}-1)$"
   ]
  }
 ],
 "metadata": {
  "kernelspec": {
   "display_name": "Python 3",
   "language": "python",
   "name": "python3"
  },
  "language_info": {
   "codemirror_mode": {
    "name": "ipython",
    "version": 3
   },
   "file_extension": ".py",
   "mimetype": "text/x-python",
   "name": "python",
   "nbconvert_exporter": "python",
   "pygments_lexer": "ipython3",
   "version": "3.7.3"
  }
 },
 "nbformat": 4,
 "nbformat_minor": 4
}
