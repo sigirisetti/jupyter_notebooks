{
 "cells": [
  {
   "cell_type": "markdown",
   "metadata": {},
   "source": [
    "# Price of a Coupon Bond"
   ]
  },
  {
   "cell_type": "code",
   "execution_count": 12,
   "metadata": {},
   "outputs": [
    {
     "data": {
      "text/latex": [
       "\n",
       "\\begin{equation}\n",
       "C\\Bigg[\\frac{ 1 - \\frac{1}{(1 + i)^n} }{i}\\Bigg] + \\frac{M}{(1 + i)^n}\n",
       "\\end{equation}"
      ],
      "text/plain": [
       "<IPython.core.display.Latex object>"
      ]
     },
     "metadata": {},
     "output_type": "display_data"
    }
   ],
   "source": [
    "%%latex\n",
    "\n",
    "\\begin{equation}\n",
    "C\\Bigg[\\frac{ 1 - \\frac{1}{(1 + i)^n} }{i}\\Bigg] + \\frac{M}{(1 + i)^n}\n",
    "\\end{equation}"
   ]
  },
  {
   "cell_type": "markdown",
   "metadata": {},
   "source": [
    "\n",
    "where\n",
    "<br>\n",
    "* C = semiannual coupon payment ($)\n",
    "* n = number of periods (number of years times 2)\n",
    "* i = periodic interest rate (required yield divided by 2) (in decimal)\n",
    "* M = maturity value\n"
   ]
  },
  {
   "cell_type": "markdown",
   "metadata": {},
   "source": [
    "## Reasons for change in Bond Price\n",
    "\n",
    "* A change in the level of interest rates in the economy.\n",
    "* A change in the price of the bond selling at a price other than par as it moves toward maturity without any change in the required yield\n",
    "* For non-Treasury bonds, a change in the required yield due to changes in the spread to Treasuries. \n",
    "* A change in the perceived credit quality of the issuer.\n",
    "* For bonds with embedded options (e.g., callable bonds, putable bonds, and convertible bonds), the price of the bond will change as the factors that affect the value of the embedded options change.\n",
    "\n"
   ]
  },
  {
   "cell_type": "markdown",
   "metadata": {},
   "source": [
    "## Example 1"
   ]
  },
  {
   "cell_type": "code",
   "execution_count": 5,
   "metadata": {},
   "outputs": [
    {
     "name": "stdout",
     "output_type": "stream",
     "text": [
      "Bond PV =  774.3055469271264\n"
     ]
    }
   ],
   "source": [
    "def price_coupon_bond(maturity_value, coupon, required_yield, periods):\n",
    "    return coupon * (1 - 1/(1+required_yield)**periods)/required_yield + maturity_value/(1+required_yield)**periods\n",
    "\n",
    "rate = 0.045\n",
    "n = 40\n",
    "required_yield = 0.06\n",
    "M = 1000\n",
    "\n",
    "C = rate * M\n",
    "\n",
    "print(\"Bond PV = \", price_coupon_bond(M, C, required_yield, n))"
   ]
  },
  {
   "cell_type": "code",
   "execution_count": 20,
   "metadata": {},
   "outputs": [
    {
     "name": "stderr",
     "output_type": "stream",
     "text": [
      "/home/appuprakhya/anaconda3/lib/python3.6/site-packages/ipykernel_launcher.py:2: RuntimeWarning: invalid value encountered in true_divide\n",
      "  \n"
     ]
    },
    {
     "data": {
      "image/png": "[encoded data removed]",
      "text/plain": [
       "<matplotlib.figure.Figure at 0x7f91896dbeb8>"
      ]
     },
     "metadata": {},
     "output_type": "display_data"
    }
   ],
   "source": [
    "%matplotlib inline\n",
    "\n",
    "import matplotlib.pyplot as plt\n",
    "import numpy as np\n",
    "\n",
    "x = np.linspace(0, 0.2, 100)\n",
    "y = price_coupon_bond(M, C, x, n)\n",
    "#print(x)\n",
    "#print(y)\n",
    "plt.plot(x, y)\n",
    "plt.xlabel(\"Required Yield\")\n",
    "plt.ylabel(\"Price of a bond\")\n",
    "plt.legend()\n",
    "plt.show()"
   ]
  },
  {
   "cell_type": "markdown",
   "metadata": {},
   "source": [
    "When the coupon rate equals the required yield, the price equals the par value.\n",
    "\n",
    "When the price equals the par value, the coupon rate equals the required yield.\n",
    "\n",
    "\n",
    "<b>Yield has greater effect when price of bond is high</b>"
   ]
  }
 ],
 "metadata": {
  "kernelspec": {
   "display_name": "Python 3",
   "language": "python",
   "name": "python3"
  },
  "language_info": {
   "codemirror_mode": {
    "name": "ipython",
    "version": 3
   },
   "file_extension": ".py",
   "mimetype": "text/x-python",
   "name": "python",
   "nbconvert_exporter": "python",
   "pygments_lexer": "ipython3",
   "version": "3.6.3"
  }
 },
 "nbformat": 4,
 "nbformat_minor": 2
}
