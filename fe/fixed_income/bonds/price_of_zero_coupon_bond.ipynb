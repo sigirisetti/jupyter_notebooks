{
 "cells": [
  {
   "cell_type": "markdown",
   "metadata": {},
   "source": [
    "# Price of a Zero Coupon Bond"
   ]
  },
  {
   "cell_type": "code",
   "execution_count": 3,
   "metadata": {},
   "outputs": [
    {
     "data": {
      "text/latex": [
       "\n",
       "\\begin{equation}\n",
       "\\frac{M}{(1 + i)^n}\n",
       "\\end{equation}"
      ],
      "text/plain": [
       "<IPython.core.display.Latex object>"
      ]
     },
     "metadata": {},
     "output_type": "display_data"
    }
   ],
   "source": [
    "%%latex\n",
    "\n",
    "\\begin{equation}\n",
    "\\frac{M}{(1 + i)^n}\n",
    "\\end{equation}"
   ]
  },
  {
   "cell_type": "markdown",
   "metadata": {},
   "source": [
    "Where\n",
    "\n",
    "* M is maturity value of the bond\n",
    "* i is required yield\n",
    "* n is number of periods"
   ]
  },
  {
   "cell_type": "markdown",
   "metadata": {},
   "source": [
    "The pricing of a zero-coupon bond is no different from the pricing of a coupon bond: Its price is the present value of the expected cash flows. \n",
    "In the case of a zero-coupon bond, the only cash flow is the maturity value. Therefore, the price of a zero-coupon bond is simply the present value of the maturity value. \n",
    "<b>The number of periods used to discount the maturity value is double the number of years to maturity. This treatment is consistent with the manner in which the maturity value of a coupon bond is handled.</b>\n",
    "\n"
   ]
  }
 ],
 "metadata": {
  "kernelspec": {
   "display_name": "Python 3",
   "language": "python",
   "name": "python3"
  },
  "language_info": {
   "codemirror_mode": {
    "name": "ipython",
    "version": 3
   },
   "file_extension": ".py",
   "mimetype": "text/x-python",
   "name": "python",
   "nbconvert_exporter": "python",
   "pygments_lexer": "ipython3",
   "version": "3.7.3"
  }
 },
 "nbformat": 4,
 "nbformat_minor": 4
}
