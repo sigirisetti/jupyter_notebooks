{
 "cells": [
  {
   "cell_type": "markdown",
   "metadata": {},
   "source": [
    "# Forward Curve Consistency Check\n",
    "\n",
    "Load curve data from \"eurusd_fwd_curve.csv\""
   ]
  },
  {
   "cell_type": "code",
   "execution_count": 1,
   "metadata": {
    "collapsed": false
   },
   "outputs": [],
   "source": [
    "from datetime import date\n",
    "import pandas as pd\n",
    "\n",
    "from ipywidgets import widgets\n",
    "from IPython.display import display\n",
    "\n",
    "import qgrid\n",
    "%matplotlib inline\n",
    "\n",
    "spreadMultiplier = 2\n",
    "spotDate = date(2019, 2, 25)\n",
    "\n",
    "def setSpreadMultiplier(x):\n",
    "    spreadMultiplier = x\n",
    "    \n",
    "eurusd_fwd_curve = pd.read_csv(\"eurusd_fwd_curve.csv\")\n",
    "\n",
    "# print(eurusd_fwd_curve.head())\n",
    "eurusd_fwd_curve_widget = qgrid.show_grid(eurusd_fwd_curve, show_toolbar=True)\n",
    "\n",
    "eurusd_fwd_curve_widget    "
   ]
  },
  {
   "cell_type": "markdown",
   "metadata": {},
   "source": [
    "## Calcuate Mid Price. (LHS + RHS)*0.5\n"
   ]
  },
  {
   "cell_type": "code",
   "execution_count": 2,
   "metadata": {
    "collapsed": true
   },
   "outputs": [],
   "source": [
    "eurusd_fwd_curve['MID'] = (eurusd_fwd_curve['LHS'] + eurusd_fwd_curve['RHS']) * 0.5\n"
   ]
  },
  {
   "cell_type": "markdown",
   "metadata": {},
   "source": [
    "## Calculate Half Spread. (RHS - LHS)*0.5\n"
   ]
  },
  {
   "cell_type": "code",
   "execution_count": 3,
   "metadata": {
    "collapsed": true
   },
   "outputs": [],
   "source": [
    "eurusd_fwd_curve['Half Spread'] = (eurusd_fwd_curve['RHS'] - eurusd_fwd_curve['LHS']) * 0.5"
   ]
  },
  {
   "cell_type": "markdown",
   "metadata": {},
   "source": [
    "## Calculate Final Spread. \n"
   ]
  },
  {
   "cell_type": "code",
   "execution_count": 4,
   "metadata": {
    "collapsed": true
   },
   "outputs": [],
   "source": [
    "eurusd_fwd_curve['Final Spread'] = eurusd_fwd_curve['Half Spread'] * spreadMultiplier"
   ]
  },
  {
   "cell_type": "markdown",
   "metadata": {},
   "source": [
    "## Render Data frame so far"
   ]
  },
  {
   "cell_type": "code",
   "execution_count": 5,
   "metadata": {
    "collapsed": false
   },
   "outputs": [],
   "source": [
    "eurusd_fwd_curve_widget = qgrid.show_grid(eurusd_fwd_curve, show_toolbar=True)\n",
    "eurusd_fwd_curve_widget  \n"
   ]
  },
  {
   "cell_type": "markdown",
   "metadata": {},
   "source": [
    "## Calculate Final LHS = MID + Mid Skew + LHS Skew - Final Spread"
   ]
  },
  {
   "cell_type": "code",
   "execution_count": 6,
   "metadata": {
    "collapsed": true
   },
   "outputs": [],
   "source": [
    "eurusd_fwd_curve['Final LHS'] = eurusd_fwd_curve['MID'] - eurusd_fwd_curve['Final Spread']"
   ]
  },
  {
   "cell_type": "markdown",
   "metadata": {},
   "source": [
    "## Calculate Final LHS = MID + Mid Skew + LHS Skew + Final Spread"
   ]
  },
  {
   "cell_type": "code",
   "execution_count": 7,
   "metadata": {
    "collapsed": true
   },
   "outputs": [],
   "source": [
    "eurusd_fwd_curve['Final RHS'] = eurusd_fwd_curve['MID'] + eurusd_fwd_curve['Final Spread']"
   ]
  },
  {
   "cell_type": "code",
   "execution_count": 8,
   "metadata": {
    "collapsed": false
   },
   "outputs": [
    {
     "data": {
      "text/html": [
       "<script type=\"text/javascript\">\n",
       "if ($(\"#dg-css\").length == 0){\n",
       "    $(\"head\").append([\n",
       "        \"<link href='https://cdn.rawgit.com/quantopian/qgrid/73eaa7adf1762f66eaf4d30ed9cbf385a7e9d9fa/qgrid/qgridjs//lib/slick.grid.css' rel='stylesheet'>\",\n",
       "        \"<link href='https://cdn.rawgit.com/quantopian/qgrid/73eaa7adf1762f66eaf4d30ed9cbf385a7e9d9fa/qgrid/qgridjs//lib/slick-default-theme.css' rel='stylesheet'>\",\n",
       "        \"<link href='//cdnjs.cloudflare.com/ajax/libs/jqueryui/1.10.4/css/jquery-ui.min.css' rel='stylesheet'>\",\n",
       "        \"<link id='dg-css' href='https://cdn.rawgit.com/quantopian/qgrid/73eaa7adf1762f66eaf4d30ed9cbf385a7e9d9fa/qgrid/qgridjs//qgrid.css' rel='stylesheet'>\"\n",
       "    ]);\n",
       "}\n",
       "</script>\n",
       "<div class='q-grid-container'>\n",
       "<div id='7c7840dc-d1ef-47f6-a770-c58410c6c33f' class='q-grid'></div>\n",
       "</div>\n"
      ]
     },
     "metadata": {},
     "output_type": "display_data"
    },
    {
     "data": {
      "application/javascript": [
       "var path_dictionary = {\n",
       "    jquery_drag: \"https://cdn.rawgit.com/quantopian/qgrid/73eaa7adf1762f66eaf4d30ed9cbf385a7e9d9fa/qgrid/qgridjs//lib/jquery.event.drag-2.2\",\n",
       "    slick_core: \"https://cdn.rawgit.com/quantopian/qgrid/73eaa7adf1762f66eaf4d30ed9cbf385a7e9d9fa/qgrid/qgridjs//lib/slick.core.2.2\",\n",
       "    slick_data_view: \"https://cdn.rawgit.com/quantopian/qgrid/73eaa7adf1762f66eaf4d30ed9cbf385a7e9d9fa/qgrid/qgridjs//lib/slick.dataview.2.2\",\n",
       "    slick_check_box_column: \"https://cdn.rawgit.com/quantopian/qgrid/73eaa7adf1762f66eaf4d30ed9cbf385a7e9d9fa/qgrid/qgridjs//lib/slick.checkboxselectcolumn\",\n",
       "    slick_row_selection_model: \"https://cdn.rawgit.com/quantopian/qgrid/73eaa7adf1762f66eaf4d30ed9cbf385a7e9d9fa/qgrid/qgridjs//lib/slick.rowselectionmodel\",\n",
       "    slick_grid: \"https://cdn.rawgit.com/quantopian/qgrid/73eaa7adf1762f66eaf4d30ed9cbf385a7e9d9fa/qgrid/qgridjs//lib/slick.grid.2.2\",\n",
       "    data_grid: \"https://cdn.rawgit.com/quantopian/qgrid/73eaa7adf1762f66eaf4d30ed9cbf385a7e9d9fa/qgrid/qgridjs//qgrid\",\n",
       "    date_filter: \"https://cdn.rawgit.com/quantopian/qgrid/73eaa7adf1762f66eaf4d30ed9cbf385a7e9d9fa/qgrid/qgridjs//qgrid.datefilter\",\n",
       "    slider_filter: \"https://cdn.rawgit.com/quantopian/qgrid/73eaa7adf1762f66eaf4d30ed9cbf385a7e9d9fa/qgrid/qgridjs//qgrid.sliderfilter\",\n",
       "    text_filter: \"https://cdn.rawgit.com/quantopian/qgrid/73eaa7adf1762f66eaf4d30ed9cbf385a7e9d9fa/qgrid/qgridjs//qgrid.textfilter\",\n",
       "    filter_base:  \"https://cdn.rawgit.com/quantopian/qgrid/73eaa7adf1762f66eaf4d30ed9cbf385a7e9d9fa/qgrid/qgridjs//qgrid.filterbase\",\n",
       "    handlebars: \"https://cdnjs.cloudflare.com/ajax/libs/handlebars.js/2.0.0/handlebars.min\"\n",
       "};\n",
       "\n",
       "var existing_config = require.s.contexts._.config;\n",
       "if (!existing_config.paths['underscore']){\n",
       "    path_dictionary['underscore'] = \"https://cdnjs.cloudflare.com/ajax/libs/underscore.js/1.7.0/underscore-min\";\n",
       "}\n",
       "\n",
       "if (!existing_config.paths['moment']){\n",
       "    path_dictionary['moment'] = \"https://cdnjs.cloudflare.com/ajax/libs/moment.js/2.8.3/moment.min\";\n",
       "}\n",
       "\n",
       "if (!existing_config.paths['jqueryui']){\n",
       "    path_dictionary['jqueryui'] = \"https://ajax.googleapis.com/ajax/libs/jqueryui/1.11.1/jquery-ui.min\";\n",
       "}\n",
       "\n",
       "require.config({\n",
       "    paths: path_dictionary\n",
       "});\n",
       "\n",
       "if (typeof jQuery === 'function') {\n",
       "    define('jquery', function() { return jQuery; });\n",
       "}\n",
       "\n",
       "require([\n",
       "    'jquery',\n",
       "    'jquery_drag',\n",
       "    'slick_core',\n",
       "    'slick_data_view'\n",
       "],\n",
       "function($){\n",
       "    $('#7c7840dc-d1ef-47f6-a770-c58410c6c33f').closest('.rendered_html').removeClass('rendered_html');\n",
       "    require([\n",
       "      'slick_check_box_column',\n",
       "      'slick_row_selection_model',\n",
       "      'slick_grid'\n",
       "    ], function(){\n",
       "        require([\"data_grid\"], function(dgrid){\n",
       "            var grid = new dgrid.QGrid('#7c7840dc-d1ef-47f6-a770-c58410c6c33f', [{\"Index\":0,\"Tenor\":\"ON\",\"Date1\":\"21-Feb-19\",\"Date2\":\"22-Feb-19\",\"Days\":-4,\"LHS\":0.9,\"RHS\":0.92,\"MID\":0.91,\"Half Spread\":0.01,\"Final Spread\":0.02,\"Final LHS\":0.89,\"Final RHS\":0.93},{\"Index\":1,\"Tenor\":\"TN\",\"Date1\":\"22-Feb-19\",\"Date2\":\"25-Feb-19\",\"Days\":-3,\"LHS\":2.745,\"RHS\":2.765,\"MID\":2.755,\"Half Spread\":0.01,\"Final Spread\":0.02,\"Final LHS\":2.735,\"Final RHS\":2.775},{\"Index\":2,\"Tenor\":\"SN\",\"Date1\":\"25-Feb-19\",\"Date2\":\"26-Feb-19\",\"Days\":1,\"LHS\":0.9,\"RHS\":0.94,\"MID\":0.92,\"Half Spread\":0.02,\"Final Spread\":0.04,\"Final LHS\":0.88,\"Final RHS\":0.96},{\"Index\":3,\"Tenor\":\"1W\",\"Date1\":\"25-Feb-19\",\"Date2\":\"4-Mar-19\",\"Days\":7,\"LHS\":6.39,\"RHS\":6.49,\"MID\":6.44,\"Half Spread\":0.05,\"Final Spread\":0.1,\"Final LHS\":6.34,\"Final RHS\":6.54},{\"Index\":4,\"Tenor\":\"2W\",\"Date1\":\"25-Feb-19\",\"Date2\":\"11-Mar-19\",\"Days\":14,\"LHS\":12.89,\"RHS\":12.99,\"MID\":12.94,\"Half Spread\":0.05,\"Final Spread\":0.1,\"Final LHS\":12.84,\"Final RHS\":13.04},{\"Index\":5,\"Tenor\":\"3W\",\"Date1\":\"25-Feb-19\",\"Date2\":\"18-Mar-19\",\"Days\":21,\"LHS\":19.435,\"RHS\":19.535,\"MID\":19.485,\"Half Spread\":0.05,\"Final Spread\":0.1,\"Final LHS\":19.385,\"Final RHS\":19.585},{\"Index\":6,\"Tenor\":\"IMM1\",\"Date1\":\"25-Feb-19\",\"Date2\":\"20-Mar-19\",\"Days\":23,\"LHS\":21.28,\"RHS\":21.48,\"MID\":21.38,\"Half Spread\":0.1,\"Final Spread\":0.2,\"Final LHS\":21.18,\"Final RHS\":21.58},{\"Index\":7,\"Tenor\":\"1M\",\"Date1\":\"25-Feb-19\",\"Date2\":\"25-Mar-19\",\"Days\":28,\"LHS\":25.995,\"RHS\":26.145,\"MID\":26.07,\"Half Spread\":0.075,\"Final Spread\":0.15,\"Final LHS\":25.92,\"Final RHS\":26.22},{\"Index\":8,\"Tenor\":\"2M\",\"Date1\":\"25-Feb-19\",\"Date2\":\"25-Apr-19\",\"Days\":59,\"LHS\":56.725,\"RHS\":56.925,\"MID\":56.825,\"Half Spread\":0.1,\"Final Spread\":0.2,\"Final LHS\":56.625,\"Final RHS\":57.025},{\"Index\":9,\"Tenor\":\"3M\",\"Date1\":\"25-Feb-19\",\"Date2\":\"28-May-19\",\"Days\":92,\"LHS\":87.97,\"RHS\":88.27,\"MID\":88.12,\"Half Spread\":0.15,\"Final Spread\":0.3,\"Final LHS\":87.82,\"Final RHS\":88.42},{\"Index\":10,\"Tenor\":\"1MM2\",\"Date1\":\"25-Feb-19\",\"Date2\":\"19-Jun-19\",\"Days\":114,\"LHS\":108.6,\"RHS\":109.1,\"MID\":108.85,\"Half Spread\":0.25,\"Final Spread\":0.5,\"Final LHS\":108.35,\"Final RHS\":109.35},{\"Index\":11,\"Tenor\":\"4M\",\"Date1\":\"25-Feb-19\",\"Date2\":\"25-Jun-19\",\"Days\":120,\"LHS\":114.4,\"RHS\":114.9,\"MID\":114.65,\"Half Spread\":0.25,\"Final Spread\":0.5,\"Final LHS\":114.15,\"Final RHS\":115.15},{\"Index\":12,\"Tenor\":\"5M\",\"Date1\":\"25-Feb-19\",\"Date2\":\"25-Jul-19\",\"Days\":150,\"LHS\":144.56,\"RHS\":145.06,\"MID\":144.81,\"Half Spread\":0.25,\"Final Spread\":0.5,\"Final LHS\":144.31,\"Final RHS\":145.31},{\"Index\":13,\"Tenor\":\"6M\",\"Date1\":\"25-Feb-19\",\"Date2\":\"26-Aug-19\",\"Days\":182,\"LHS\":175.01,\"RHS\":175.51,\"MID\":175.26,\"Half Spread\":0.25,\"Final Spread\":0.5,\"Final LHS\":174.76,\"Final RHS\":175.76},{\"Index\":14,\"Tenor\":\"IMM3\",\"Date1\":\"25-Feb-19\",\"Date2\":\"18-Sep-19\",\"Days\":205,\"LHS\":196.5,\"RHS\":197.5,\"MID\":197.0,\"Half Spread\":0.5,\"Final Spread\":1.0,\"Final LHS\":196.0,\"Final RHS\":198.0},{\"Index\":15,\"Tenor\":\"7M\",\"Date1\":\"25-Feb-19\",\"Date2\":\"25-Sep-19\",\"Days\":212,\"LHS\":203.705,\"RHS\":204.455,\"MID\":204.08,\"Half Spread\":0.375,\"Final Spread\":0.75,\"Final LHS\":203.33,\"Final RHS\":204.83},{\"Index\":16,\"Tenor\":\"8M\",\"Date1\":\"25-Feb-19\",\"Date2\":\"25-Oct-19\",\"Days\":242,\"LHS\":233.275,\"RHS\":234.025,\"MID\":233.65,\"Half Spread\":0.375,\"Final Spread\":0.75,\"Final LHS\":232.9,\"Final RHS\":234.4},{\"Index\":17,\"Tenor\":\"9M\",\"Date1\":\"25-Feb-19\",\"Date2\":\"25-Nov-19\",\"Days\":273,\"LHS\":262.915,\"RHS\":263.665,\"MID\":263.29,\"Half Spread\":0.375,\"Final Spread\":0.75,\"Final LHS\":262.54,\"Final RHS\":264.04},{\"Index\":18,\"Tenor\":\"IMM4\",\"Date1\":\"25-Feb-19\",\"Date2\":\"18-Dec-19\",\"Days\":296,\"LHS\":284.25,\"RHS\":285.55,\"MID\":284.9,\"Half Spread\":0.65,\"Final Spread\":1.3,\"Final LHS\":283.6,\"Final RHS\":286.2},{\"Index\":19,\"Tenor\":\"10M\",\"Date1\":\"25-Feb-19\",\"Date2\":\"27-Dec-19\",\"Days\":305,\"LHS\":293.06,\"RHS\":295.06,\"MID\":294.06,\"Half Spread\":1.0,\"Final Spread\":2.0,\"Final LHS\":292.06,\"Final RHS\":296.06},{\"Index\":20,\"Tenor\":\"11M\",\"Date1\":\"25-Feb-19\",\"Date2\":\"27-Jan-20\",\"Days\":336,\"LHS\":328.26,\"RHS\":330.26,\"MID\":329.26,\"Half Spread\":1.0,\"Final Spread\":2.0,\"Final LHS\":327.26,\"Final RHS\":331.26},{\"Index\":21,\"Tenor\":\"12M\",\"Date1\":\"25-Feb-19\",\"Date2\":\"26-Feb-20\",\"Days\":365,\"LHS\":356.07,\"RHS\":358.07,\"MID\":357.07,\"Half Spread\":1.0,\"Final Spread\":2.0,\"Final LHS\":355.07,\"Final RHS\":359.07},{\"Index\":22,\"Tenor\":\"IMM5\",\"Date1\":\"25-Feb-19\",\"Date2\":\"18-Mar-20\",\"Days\":387,\"LHS\":376.943,\"RHS\":378.943,\"MID\":377.943,\"Half Spread\":1.0,\"Final Spread\":2.0,\"Final LHS\":375.943,\"Final RHS\":379.943},{\"Index\":23,\"Tenor\":\"15M\",\"Date1\":\"25-Feb-19\",\"Date2\":\"26-May-20\",\"Days\":456,\"LHS\":442.65,\"RHS\":444.65,\"MID\":443.65,\"Half Spread\":1.0,\"Final Spread\":2.0,\"Final LHS\":441.65,\"Final RHS\":445.65},{\"Index\":24,\"Tenor\":\"18M\",\"Date1\":\"25-Feb-19\",\"Date2\":\"25-Aug-20\",\"Days\":547,\"LHS\":527.45,\"RHS\":529.45,\"MID\":528.45,\"Half Spread\":1.0,\"Final Spread\":2.0,\"Final LHS\":526.45,\"Final RHS\":530.45},{\"Index\":25,\"Tenor\":\"21M\",\"Date1\":\"25-Feb-19\",\"Date2\":\"25-Nov-20\",\"Days\":639,\"LHS\":611.179,\"RHS\":614.679,\"MID\":612.929,\"Half Spread\":1.75,\"Final Spread\":3.5,\"Final LHS\":609.429,\"Final RHS\":616.429},{\"Index\":26,\"Tenor\":\"2Y\",\"Date1\":\"25-Feb-19\",\"Date2\":\"25-Feb-21\",\"Days\":731,\"LHS\":695.51,\"RHS\":700.51,\"MID\":698.01,\"Half Spread\":2.5,\"Final Spread\":5.0,\"Final LHS\":693.01,\"Final RHS\":703.01},{\"Index\":27,\"Tenor\":\"3Y\",\"Date1\":\"25-Feb-19\",\"Date2\":\"25-Feb-22\",\"Days\":1096,\"LHS\":1012.96,\"RHS\":1017.96,\"MID\":1015.46,\"Half Spread\":2.5,\"Final Spread\":5.0,\"Final LHS\":1010.46,\"Final RHS\":1020.46}], [{\"field\": \"Index\", \"type\": \"Integer\"}, {\"field\": \"Tenor\"}, {\"field\": \"Date1\"}, {\"field\": \"Date2\"}, {\"field\": \"Days\", \"type\": \"Integer\"}, {\"field\": \"LHS\", \"type\": \"Float\"}, {\"field\": \"RHS\", \"type\": \"Float\"}, {\"field\": \"MID\", \"type\": \"Float\"}, {\"field\": \"Half Spread\", \"type\": \"Float\"}, {\"field\": \"Final Spread\", \"type\": \"Float\"}, {\"field\": \"Final LHS\", \"type\": \"Float\"}, {\"field\": \"Final RHS\", \"type\": \"Float\"}]);\n",
       "            grid.initialize_slick_grid({\"fullWidthRows\": true, \"syncColumnCellResize\": true, \"forceFitColumns\": true, \"defaultColumnWidth\": 150, \"rowHeight\": 28, \"enableColumnReorder\": false, \"enableTextSelectionOnCells\": true, \"editable\": false, \"autoEdit\": false});\n",
       "        });\n",
       "    });\n",
       "});\n"
      ]
     },
     "metadata": {},
     "output_type": "display_data"
    }
   ],
   "source": [
    "## Final Curve\n",
    "eurusd_fwd_curve_widget = qgrid.show_grid(eurusd_fwd_curve, show_toolbar=True)\n",
    "eurusd_fwd_curve_widget  "
   ]
  },
  {
   "cell_type": "code",
   "execution_count": 12,
   "metadata": {
    "collapsed": false
   },
   "outputs": [
    {
     "data": {
      "text/plain": [
       "<matplotlib.axes._subplots.AxesSubplot at 0xb70df98>"
      ]
     },
     "execution_count": 12,
     "metadata": {},
     "output_type": "execute_result"
    },
    {
     "data": {
      "image/png": "[encoded data removed]",
      "text/plain": [
       "<matplotlib.figure.Figure at 0xb6b78d0>"
      ]
     },
     "metadata": {},
     "output_type": "display_data"
    }
   ],
   "source": [
    "curve = eurusd_fwd_curve.filter(['LHS', 'RHS', 'Final LHS', 'Final RHS'], axis=1)\n",
    "curve.plot(kind=\"bar\", figsize=[8, 6])"
   ]
  },
  {
   "cell_type": "markdown",
   "metadata": {},
   "source": [
    "## Swap Length"
   ]
  },
  {
   "cell_type": "code",
   "execution_count": null,
   "metadata": {
    "collapsed": true
   },
   "outputs": [],
   "source": [
    "eurusd_fwd_curve['Swap Length'] = eurusd_fwd_curve['Date2'] - eurusd_fwd_curve['Date1']"
   ]
  }
 ],
 "metadata": {
  "kernelspec": {
   "display_name": "Python 3",
   "language": "python",
   "name": "python3"
  },
  "language_info": {
   "codemirror_mode": {
    "name": "ipython",
    "version": 3
   },
   "file_extension": ".py",
   "mimetype": "text/x-python",
   "name": "python",
   "nbconvert_exporter": "python",
   "pygments_lexer": "ipython3",
   "version": "3.6.7"
  }
 },
 "nbformat": 4,
 "nbformat_minor": 2
}
