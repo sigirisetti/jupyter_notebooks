{
 "cells": [
  {
   "cell_type": "markdown",
   "metadata": {},
   "source": [
    "# Future Implied Spot Calc\n",
    "\n",
    "Calculates implied spot from observed FX future quotes\n",
    "\n",
    "Implied Spot is used in Quote Mid calculations\n",
    "\n",
    "https://www.cmegroup.com/education/courses/introduction-to-fx/importance-of-fx-futures-pricing-and-basis.html\n",
    "\n",
    "### Inputs\n",
    "\n",
    "* Latest valid two sided Spot Price\n",
    "* Latest valid two sided Futures Price\n",
    "* Latest Spot Trade"
   ]
  },
  {
   "cell_type": "code",
   "execution_count": 8,
   "metadata": {},
   "outputs": [
    {
     "data": {
      "text/plain": [
       "1.010050167084168"
      ]
     },
     "execution_count": 8,
     "metadata": {},
     "output_type": "execute_result"
    }
   ],
   "source": [
    "from math import exp \n",
    "\n",
    "E_0_01 = exp(0.01)\n",
    "E_0_01"
   ]
  },
  {
   "cell_type": "markdown",
   "metadata": {},
   "source": [
    "## Check Market Quote in range (1, exp(0.01))"
   ]
  },
  {
   "cell_type": "code",
   "execution_count": 15,
   "metadata": {},
   "outputs": [
    {
     "name": "stdout",
     "output_type": "stream",
     "text": [
      "1.0000937382827146\n",
      "1.0000934055669717\n",
      "True\n",
      "True\n"
     ]
    }
   ],
   "source": [
    "eurusdBid1 = 1.0667\n",
    "eurusdBid0 = 1.0668\n",
    "eurusdAsk0 = 1.0669\n",
    "eurusdAsk1 = 1.0670\n",
    "\n",
    "eurusdFutureBid1 = 1.0705\n",
    "eurusdFutureBid0 = 1.0706\n",
    "eurusdFutureAsk0 = 1.0707\n",
    "eurusdFutureAsk1 = 1.0708\n",
    "\n",
    "eurusdBidSize = 1e6\n",
    "eurusdAskSize = 1e6\n",
    "\n",
    "spotTradePrice = 1.0668\n",
    "\n",
    "spotBidAskRatio = eurusdAsk0/eurusdBid0\n",
    "futureBidAskRatio = eurusdFutureAsk0/eurusdFutureBid0\n",
    "\n",
    "spotSpreadInRange = spotBidAskRatio > 1.0 and spotBidAskRatio < E_0_01\n",
    "futureSpreadInRange = futureBidAskRatio > 1.0 and futureBidAskRatio < E_0_01\n",
    "\n",
    "print(spotBidAskRatio)\n",
    "print(futureBidAskRatio)\n",
    "print(spotSpreadInRange)\n",
    "print(futureSpreadInRange)"
   ]
  },
  {
   "cell_type": "code",
   "execution_count": null,
   "metadata": {},
   "outputs": [],
   "source": [
    "\n"
   ]
  }
 ],
 "metadata": {
  "kernelspec": {
   "display_name": "Python 3",
   "language": "python",
   "name": "python3"
  },
  "language_info": {
   "codemirror_mode": {
    "name": "ipython",
    "version": 3
   },
   "file_extension": ".py",
   "mimetype": "text/x-python",
   "name": "python",
   "nbconvert_exporter": "python",
   "pygments_lexer": "ipython3",
   "version": "3.7.3"
  }
 },
 "nbformat": 4,
 "nbformat_minor": 4
}
