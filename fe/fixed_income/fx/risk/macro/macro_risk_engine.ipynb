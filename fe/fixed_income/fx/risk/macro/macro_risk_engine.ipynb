{
 "cells": [
  {
   "cell_type": "markdown",
   "metadata": {},
   "source": [
    "# Macro Risk Engine\n",
    "\n",
    "Objective is to monitor postions and other variables and generate hedge quantities used for spread skew\n",
    "\n",
    "\n",
    "### Inputs\n",
    "\n",
    "* USD quantity to be traded for each pair: $X_i$\n",
    "* Volatility for each pair $\\sigma_i$\n",
    "* Correlation between any two pairs $\\rho_{i,j}$. Denote the variance covariance matrix as $\\Sigma$\n",
    "* Daily market volume estimate for each pair $V_i$\n",
    "* Volume intraday shape: $d_{ib}$, where $i$ denotes pair, $b$ denotes bin number\n",
    "* Temporary cost parameter: $\\eta_i$\n",
    "* Risk aversion: $\\lambda$\n",
    "* Signal (Either client flow signal or market signal if available)\n",
    "\n",
    "\n",
    "### Outputs\n",
    "\n",
    "* Trading Speed for each pair: $\\upsilon_i$\n",
    "* Order Side and position skew\n",
    "* Potentially client flow signal can be passed down to micro trader"
   ]
  },
  {
   "cell_type": "markdown",
   "metadata": {},
   "source": [
    "### Highlevel steps in generating macro skew quantity\n",
    "\n",
    "* Market Volume Calculator\n",
    "* Currency to Currency Pair Converter\n",
    "* Hedging Speed and quantity Calculation\n",
    "* VaR calculation\n",
    "* Throttling"
   ]
  },
  {
   "cell_type": "code",
   "execution_count": null,
   "metadata": {},
   "outputs": [],
   "source": []
  }
 ],
 "metadata": {
  "kernelspec": {
   "display_name": "Python 3",
   "language": "python",
   "name": "python3"
  },
  "language_info": {
   "codemirror_mode": {
    "name": "ipython",
    "version": 3
   },
   "file_extension": ".py",
   "mimetype": "text/x-python",
   "name": "python",
   "nbconvert_exporter": "python",
   "pygments_lexer": "ipython3",
   "version": "3.7.3"
  }
 },
 "nbformat": 4,
 "nbformat_minor": 4
}
