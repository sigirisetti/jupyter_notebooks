{
 "cells": [
  {
   "cell_type": "markdown",
   "metadata": {},
   "source": [
    "# Event Spread Calc\n",
    "\n",
    "## Config\n",
    "\n",
    "## Inputs\n",
    "\n",
    "* Economic event set\n",
    "* Position signal\n",
    "* Market Spread\n",
    "* Primary market spread\n",
    "* Scheduler to clear event spread after window of time\n",
    "\n",
    "## Calc Triggers\n",
    "\n",
    "Any input change\n",
    "\n",
    "## Calc Logic\n",
    "\n",
    "## Calc Steps\n",
    "\n",
    "* Calc event multiplier\n",
    "* Iterate price levels, for each level\n",
    "    * if sizeLadder - absLhsPos > 0 \n",
    "        * Calc event ask spreads as max(mktVwapSpread, primaryMktSpread) * multiplier\n",
    "        * Calc event bid spreads as max(mktVwapSpread, primaryMktSpread) * multiplier * -1\n",
    "        * continue\n",
    "    * if bidIsRR then \n",
    "        * Calc event ask spreads as max(mktVwapSpread, primaryMktSpread) * multiplier\n",
    "    * else\n",
    "        * Calc event bid spreads as max(mktVwapSpread, primaryMktSpread) * multiplier * -1\n",
    "\n",
    "\n",
    "## Output\n",
    "\n",
    "* Event bid spreads\n",
    "* Event ask spreads\n",
    "\n",
    "## Uses\n"
   ]
  },
  {
   "cell_type": "code",
   "execution_count": null,
   "metadata": {},
   "outputs": [],
   "source": []
  }
 ],
 "metadata": {
  "kernelspec": {
   "display_name": "Python 3",
   "language": "python",
   "name": "python3"
  },
  "language_info": {
   "codemirror_mode": {
    "name": "ipython",
    "version": 3
   },
   "file_extension": ".py",
   "mimetype": "text/x-python",
   "name": "python",
   "nbconvert_exporter": "python",
   "pygments_lexer": "ipython3",
   "version": "3.7.3"
  }
 },
 "nbformat": 4,
 "nbformat_minor": 4
}
