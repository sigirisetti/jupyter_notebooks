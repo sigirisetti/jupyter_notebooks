{
 "cells": [
  {
   "cell_type": "markdown",
   "metadata": {},
   "source": [
    "# VWAP Market Spreads Calculation\n",
    "\n",
    "Calculates simple vwap bid, ask and spread\n",
    "\n",
    "\n",
    "## Inputs\n",
    "\n",
    "* Order Book updates\n",
    "* Mkt Data Status\n",
    "* Arb check config\n",
    "\n",
    "## Config\n",
    "\n",
    "* Arb checking\n",
    "    * enable/disable arb checking\n",
    "* Max visible size in millions\n",
    "\n",
    "\n",
    "## Calc Triggers\n",
    "* Depth source updates\n",
    "* All required config\n",
    "\n",
    "\n",
    "## Calc Steps\n",
    "\n",
    "\n",
    "- Get aggregated bids from aggregation component/consolidated book\n",
    "- Get aggregated asks from aggregation component/consolidated book\n",
    "- Calc max visible size from min(maxBidSize, maxAskSize, mktVisibleSizeFromConfig)\n",
    "- Iterate configured price levels \n",
    "    * Generate Vwap bid/ask for configured levels\n",
    "    * Perform regression on array of sizes and spreads. Get gradient from regression.\n",
    "- For each level, calculate vwap bid/ask and thier spread\n"
   ]
  },
  {
   "cell_type": "markdown",
   "metadata": {},
   "source": [
    "## Output\n",
    "\n",
    "For final output of Market spread object should contain \n",
    "\n",
    "* Market spreads\n",
    "* Market bids\n",
    "* Market asks\n",
    "* maxBidSize\n",
    "* maxAskSize\n",
    "* marketMid\n",
    "* marketBid\n",
    "* marketAsk\n",
    "* gradientValid\n",
    "* gradient\n",
    "* maxVisibleSizeSpreadBps\n",
    "* marketVolumeRatio\n",
    "* maxVisibleSize\n",
    "* maxVisibleSizeBid\n",
    "* maxVisibleSizeAsk\n",
    "\n",
    "\n",
    "\n",
    "## Uses\n"
   ]
  },
  {
   "cell_type": "code",
   "execution_count": null,
   "metadata": {},
   "outputs": [],
   "source": []
  }
 ],
 "metadata": {
  "kernelspec": {
   "display_name": "Python 3",
   "language": "python",
   "name": "python3"
  },
  "language_info": {
   "codemirror_mode": {
    "name": "ipython",
    "version": 3
   },
   "file_extension": ".py",
   "mimetype": "text/x-python",
   "name": "python",
   "nbconvert_exporter": "python",
   "pygments_lexer": "ipython3",
   "version": "3.7.3"
  }
 },
 "nbformat": 4,
 "nbformat_minor": 4
}
