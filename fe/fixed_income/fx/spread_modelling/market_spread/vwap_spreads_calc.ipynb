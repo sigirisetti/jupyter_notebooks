{
 "cells": [
  {
   "cell_type": "markdown",
   "metadata": {},
   "source": [
    "# VWAP Market Spreads Calculation\n",
    "\n",
    "- Get aggregated bids from aggregation component/consolidated book\n",
    "- Get aggregated asks from aggregation component/consolidated book\n",
    "- Iterate price levels \n",
    "- For each level, calculate vwap bid/ask and thier spread\n",
    "\n",
    "For final output of Market spread object should contain \n",
    "\n",
    "* Market spreads\n",
    "* Market bids\n",
    "* Market asks\n",
    "* maxVisibleSize\n",
    "* marketMid\n",
    "* marketBid\n",
    "* marketAsk\n",
    "* finalTradableFlag\n"
   ]
  },
  {
   "cell_type": "code",
   "execution_count": null,
   "metadata": {},
   "outputs": [],
   "source": []
  }
 ],
 "metadata": {
  "kernelspec": {
   "display_name": "Python 3",
   "language": "python",
   "name": "python3"
  },
  "language_info": {
   "codemirror_mode": {
    "name": "ipython",
    "version": 3
   },
   "file_extension": ".py",
   "mimetype": "text/x-python",
   "name": "python",
   "nbconvert_exporter": "python",
   "pygments_lexer": "ipython3",
   "version": "3.7.3"
  }
 },
 "nbformat": 4,
 "nbformat_minor": 4
}
