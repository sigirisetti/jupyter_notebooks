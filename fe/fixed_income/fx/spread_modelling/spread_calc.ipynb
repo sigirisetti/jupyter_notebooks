{
 "cells": [
  {
   "cell_type": "markdown",
   "metadata": {},
   "source": [
    "# Spread Calc\n",
    "\n",
    "\n",
    "## Inputs\n",
    "\n",
    "* Spread Calc Config\n",
    "* TOB sprd basis pt signal\n",
    "* DOB sprd basis pt signal\n",
    "* Volatility signal/Composite Vol - composite of price vol and event shock vol. RMSE of price vol and event shock vol\n",
    "* Position signal\n",
    "* Event Shock Signal\n",
    "* Core mid\n",
    "* Expected risk \n",
    "* Panic Event set\n"
   ]
  },
  {
   "cell_type": "markdown",
   "metadata": {},
   "source": [
    "## Calc sequence\n",
    "\n",
    "* Calc risk aversion multiplier\n",
    "    * max (Configured risk aversion per currency pair, calculated event shock multiplier) \n",
    "* Calc minimum hedging cost - midUncertainity + cost_spread_ratio_0.25 * (event shock blockout factor + tob spread factor + vol adverse impact factor)\n",
    "    * tob spread factor - Inside spread scaling multiplier * inside spread scaling multiplier compensator * tob basis pt bounded ratio signal\n",
    "* DOB spread factor\n",
    "* Position impact on bid\n",
    "* Position impact on ask\n",
    "* Zero Position impact on bid\n",
    "* Zero Position impact on ask\n",
    "* Inside Spread scaling due to 0M-1M discount factor\n",
    "* Calculate all factors that affects bids at each configured level\n",
    "* Calculate all factors that affects asks at each configured level\n",
    "\n"
   ]
  },
  {
   "cell_type": "code",
   "execution_count": null,
   "metadata": {},
   "outputs": [],
   "source": []
  }
 ],
 "metadata": {
  "kernelspec": {
   "display_name": "Python 3",
   "language": "python",
   "name": "python3"
  },
  "language_info": {
   "codemirror_mode": {
    "name": "ipython",
    "version": 3
   },
   "file_extension": ".py",
   "mimetype": "text/x-python",
   "name": "python",
   "nbconvert_exporter": "python",
   "pygments_lexer": "ipython3",
   "version": "3.7.3"
  }
 },
 "nbformat": 4,
 "nbformat_minor": 4
}
