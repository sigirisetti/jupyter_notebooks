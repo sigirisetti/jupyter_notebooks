{
 "cells": [
  {
   "cell_type": "markdown",
   "metadata": {},
   "source": [
    "## TOB Parameter Calibration for NDF\n",
    "\n",
    "hourlyMinimumSpreadBasisPointRatio - 1 for all ndf pairs\n",
    "\n",
    "top of the book spread basis point baseline - can be based on the daily distribution of hourly medians of EBS hours in Asia\n",
    "\n",
    "forceFilterUpdateIntervalInMilliSeconds - based on median of the time intervals between EBS market updates - 500\n",
    "\n",
    "maxSpreadImprovementFactor - based on distribution of the application vs market\n"
   ]
  }
 ],
 "metadata": {
  "kernelspec": {
   "display_name": "Python 3",
   "language": "python",
   "name": "python3"
  },
  "language_info": {
   "codemirror_mode": {
    "name": "ipython",
    "version": 3
   },
   "file_extension": ".py",
   "mimetype": "text/x-python",
   "name": "python",
   "nbconvert_exporter": "python",
   "pygments_lexer": "ipython3",
   "version": "3.7.3"
  }
 },
 "nbformat": 4,
 "nbformat_minor": 4
}
