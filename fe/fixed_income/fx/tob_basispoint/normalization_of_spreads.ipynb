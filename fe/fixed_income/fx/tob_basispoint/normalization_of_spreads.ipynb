{
 "cells": [
  {
   "cell_type": "markdown",
   "metadata": {},
   "source": [
    "# Normalization of spreads\n",
    "\n",
    "\n",
    "* spreadSignal - Pass spread through EMA filter\n",
    "* ratio_floor - Get hourly parameter minimum spread basis point from config, ratio_floor\n",
    "* ratioSignal - max(1.0, min(max_liquidity_ratio_10 * ratio_floor, spreadSignal/spreadBaselineFromConfig_1))\n",
    "* Damped_Ratio - pow(ratioSignal, basisPtRatioDampFromConfig_0.98_1.12 + basisPtRatioDampCcyAdjust_0)\n",
    "* boundedRatioSignal - max(ratio_floor, Damped_Ratio)\n",
    "\n"
   ]
  },
  {
   "cell_type": "code",
   "execution_count": null,
   "metadata": {},
   "outputs": [],
   "source": []
  }
 ],
 "metadata": {
  "kernelspec": {
   "display_name": "Python 3 (ipykernel)",
   "language": "python",
   "name": "python3"
  },
  "language_info": {
   "codemirror_mode": {
    "name": "ipython",
    "version": 3
   },
   "file_extension": ".py",
   "mimetype": "text/x-python",
   "name": "python",
   "nbconvert_exporter": "python",
   "pygments_lexer": "ipython3",
   "version": "3.9.12"
  }
 },
 "nbformat": 4,
 "nbformat_minor": 4
}
