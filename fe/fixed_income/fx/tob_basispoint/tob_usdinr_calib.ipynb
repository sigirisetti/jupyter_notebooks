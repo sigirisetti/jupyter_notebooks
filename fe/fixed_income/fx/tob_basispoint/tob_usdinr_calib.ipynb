{
 "cells": [
  {
   "cell_type": "markdown",
   "metadata": {},
   "source": [
    "## Parameter Calibration INR NDF\n",
    "\n",
    "### Trading Hours determination\n",
    "\n",
    "Starting point:\n",
    "\n",
    "TOB - hourly minimum spreads - 5,5,1,1, 1,1,1,1, 1,1,1,1, 1,1,1,1, 1,1,1,1, 1,1,1,1\n",
    "\n",
    "INR - trading hours 03:00 to 12:00\n",
    "\n",
    "\n",
    "### Hourly Market Quote count\n",
    "\n",
    "\n",
    "### Hourly Median Spread\n",
    "\n",
    "\n",
    "## Top of book spread analysis\n",
    "\n",
    "Calibration of Min/max/Median spread levels with thier timings\n",
    "\n",
    "\n",
    "\n",
    "\n"
   ]
  },
  {
   "cell_type": "code",
   "execution_count": null,
   "metadata": {},
   "outputs": [],
   "source": []
  }
 ],
 "metadata": {
  "kernelspec": {
   "display_name": "Python 3 (ipykernel)",
   "language": "python",
   "name": "python3"
  },
  "language_info": {
   "codemirror_mode": {
    "name": "ipython",
    "version": 3
   },
   "file_extension": ".py",
   "mimetype": "text/x-python",
   "name": "python",
   "nbconvert_exporter": "python",
   "pygments_lexer": "ipython3",
   "version": "3.9.12"
  }
 },
 "nbformat": 4,
 "nbformat_minor": 4
}
