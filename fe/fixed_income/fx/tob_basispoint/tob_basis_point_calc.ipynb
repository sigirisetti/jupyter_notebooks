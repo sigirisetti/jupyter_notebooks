{
 "cells": [
  {
   "cell_type": "markdown",
   "metadata": {},
   "source": [
    "# Top of the book basis point calculation\n",
    "\n",
    "This Calculator generates a signal from top of book spread for a configured venue in basis point. The Observed spot top of book spread value is smoothed by passing through a exponentially moving average (EMA) filter.\n",
    "\n",
    "The (liquidity) signal provides a measurement of the current top of book spread - and tells us how tight the market spread of the venue is. \n",
    "\n",
    "This component should produce three values\n",
    "- The basic top of the book spread in basis points: the observed instantaneous top of the book spread value is calculated then smoothed by passing through an exponential moving average (EMA) filter\n",
    "- The value from 1) is normalized using a historical baseline. The resulting ratio is adjusted by two configurable parameters, referred to as the ratio signal \n",
    "- The value from 2) is floored by the desired minimum hourly normalized top of book spread ratio, referred to as the bounded ratio signal\n",
    "\n",
    "## Inputs\n",
    "\n",
    "* Order Book updates\n",
    "* Trade Updates\n",
    "* Market data status\n",
    "\n",
    "## Filter Config\n",
    "\n",
    "Rate of decay is determined by config param Order book to trade event ratio. The larger the ratio, the longer the filter window.\n",
    "\n",
    "\n",
    "\n",
    "## Component config\n",
    "\n",
    "- Instrument Id\n",
    "- Venue Id\n",
    "- order book to trade event ratio\n",
    "- tob_spreadBasisPointBaseline\n",
    "- hourlyMinimumSpreadBasisPointRatio\n",
    "- dob_spreadBasisPointRatioDamp\n",
    "- spreadRatioDampCcyAdjust\n",
    "\n",
    "## Calc Triggers\n",
    "\n",
    "* Order book updates\n",
    "* Trades - only as a signal\n",
    "* Mkt data status"
   ]
  },
  {
   "cell_type": "markdown",
   "metadata": {},
   "source": [
    "## Calc \n",
    "\n",
    "Spot TOB basis point calc formula\n",
    "\n",
    "$tob\\_basis\\_pt = 1e4 * \\frac{(bestAsk - bestBid)} {(bestAsk + bestBid)/2}$\n",
    "\n",
    "convert to basis pt or not is a choice\n",
    "\n",
    "Above simple spread is passed through EMA filter. Output of the filter is the output of TOB basis point component.\n",
    "\n",
    "The signal is updated and published each time a trade notification is received from a configured venue. When trade notification is received, the last order book received by the processor for the venue is used to calculate the spread.\n",
    "\n",
    "\n",
    "\n",
    "$spreadRatio = \\frac{tob\\_spread\\_basis\\_pt}{tob\\_spread\\_basis\\_pt\\_baseline}$\n",
    "\n",
    "$1.0 < spreadRatio < 10 * hourly\\_min\\_spread\\_bp$\n",
    "\n",
    "$spread\\_ratio\\_impact = spreadRatio^{ (tob\\_spread\\_bp\\_ratio\\_damp + spreadRatio\\_damp\\_ccy\\_adjust)}$\n",
    "\n",
    "spread_ratio_impact > hourly_min_spread_bp\n"
   ]
  },
  {
   "cell_type": "markdown",
   "metadata": {},
   "source": [
    "## Steps\n",
    "\n",
    "* Get top of the book quote\n",
    "* calc tob_basis_pt\n",
    "    * Check for negative spread\n",
    "* Normalize spread\n",
    "    * spreadSignal - Pass spread through EMA filter\n",
    "    * ratio_floor - Get hourly parameter minimum spread basis point from config, ratio_floor\n",
    "    * ratioSignal - max(1.0, min(max_liquidity_ratio_10 * ratio_floor, spreadSignal/spreadBaselineFromConfig_1))\n",
    "    * Damped_Ratio - pow(ratioSignal, basisPtRatioDampFromConfig_0.98_1.12 + basisPtRatioDampCcyAdjust_0)\n",
    "    * boundedRatioSignal - max(ratio_floor, Damped_Ratio)\n",
    "* Publish - spreadSignal, ratioSignal, boundedRatioSignal"
   ]
  },
  {
   "cell_type": "markdown",
   "metadata": {},
   "source": [
    "## Uses\n",
    "\n",
    "* Quote Mid calc uses tob ratio signal to create a weight for scaling quote mid\n",
    "* Spread Factors calculations\n",
    "    * Competitors spread Calc\n",
    "    * Max extra skew calc\n",
    "    * TOB Spread factor\n",
    "* Feed price calculator uses this to find whether there is significant midPrice change. whether threshold > 0.1\n",
    "* Market readiness - just availablility check not the actual value\n",
    "* Used in Mid uncertainity calc - midUncertainity + 0.5 * tobSprdBasisPt\n",
    "\n"
   ]
  },
  {
   "cell_type": "code",
   "execution_count": null,
   "metadata": {},
   "outputs": [],
   "source": []
  }
 ],
 "metadata": {
  "kernelspec": {
   "display_name": "Python 3",
   "language": "python",
   "name": "python3"
  },
  "language_info": {
   "codemirror_mode": {
    "name": "ipython",
    "version": 3
   },
   "file_extension": ".py",
   "mimetype": "text/x-python",
   "name": "python",
   "nbconvert_exporter": "python",
   "pygments_lexer": "ipython3",
   "version": "3.8.5"
  }
 },
 "nbformat": 4,
 "nbformat_minor": 4
}
