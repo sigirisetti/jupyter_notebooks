{
 "cells": [
  {
   "cell_type": "markdown",
   "metadata": {},
   "source": [
    "# Currency pair position calc\n",
    "\n",
    "\n",
    "## Config\n",
    "\n",
    "\n",
    "## Inputs\n",
    "* Positions\n",
    "* Trades\n",
    "\n",
    "\n",
    "## Calc Triggers\n",
    "\n",
    "## Calc Logic\n",
    "\n",
    "## Calc Steps\n",
    "\n",
    "* For Venue trade updates, update conversion ratio - tradePrice * conversionRatioSign (+1/-1)\n",
    "* For Position update\n",
    "    * curPos -= qty\n",
    "    * qty = posQty / conversionRatio\n",
    "    * curPos += qty\n",
    "\n",
    "## Output\n",
    "\n",
    "* curPos\n",
    "\n",
    "## Uses\n"
   ]
  },
  {
   "cell_type": "code",
   "execution_count": null,
   "metadata": {},
   "outputs": [],
   "source": []
  }
 ],
 "metadata": {
  "kernelspec": {
   "display_name": "Python 3",
   "language": "python",
   "name": "python3"
  },
  "language_info": {
   "codemirror_mode": {
    "name": "ipython",
    "version": 3
   },
   "file_extension": ".py",
   "mimetype": "text/x-python",
   "name": "python",
   "nbconvert_exporter": "python",
   "pygments_lexer": "ipython3",
   "version": "3.7.3"
  }
 },
 "nbformat": 4,
 "nbformat_minor": 4
}
