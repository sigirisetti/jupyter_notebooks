{
 "cells": [
  {
   "cell_type": "markdown",
   "id": "e814d79e-bd51-406d-bbf6-a98d3d0ce11a",
   "metadata": {},
   "source": [
    "# FX Spot Conversions"
   ]
  },
  {
   "cell_type": "code",
   "execution_count": 23,
   "id": "c4d31ebd-563b-4616-bbca-d0711d552314",
   "metadata": {},
   "outputs": [],
   "source": [
    "class CcyPair:\n",
    "    \n",
    "    def __init__(self, ccy1, ccy2):\n",
    "        self.ccy1 = ccy1\n",
    "        self.ccy2 = ccy2\n",
    "    \n",
    "    def get_ccy1(self):\n",
    "        return self.ccy1\n",
    "    \n",
    "    def get_ccy2(self):\n",
    "        return self.ccy2\n",
    "    \n",
    "    def __str__(self):\n",
    "        return self.ccy1+self.ccy2\n",
    "\n",
    "\n",
    "def convert(buy, ccyPair, dealtCcy, amount, price):\n",
    "    if buy:\n",
    "        if ccyPair.get_ccy1() == dealtCcy:\n",
    "            return amount\n",
    "        else:\n",
    "            return amount / price\n",
    "    else:\n",
    "        if ccyPair.get_ccy1() == dealtCcy:\n",
    "            return amount * price\n",
    "        else:\n",
    "            return amount       \n",
    "        \n",
    "        "
   ]
  },
  {
   "cell_type": "code",
   "execution_count": 24,
   "id": "7fa7df58-579d-4c4c-9d4b-3104ef9b13a1",
   "metadata": {},
   "outputs": [
    {
     "name": "stdout",
     "output_type": "stream",
     "text": [
      "EURUSD\n",
      "EUR\n",
      "USD\n",
      "1000000\n",
      "833333.3333333334\n",
      "1200000.0\n",
      "1000000\n"
     ]
    }
   ],
   "source": [
    "eurusd = CcyPair('EUR', 'USD')\n",
    "print(eurusd)\n",
    "print(eurusd.get_ccy1())\n",
    "print(eurusd.get_ccy2())\n",
    "\n",
    "\n",
    "print(convert(True, eurusd, 'EUR', 1000000, 1.2))\n",
    "print(convert(True, eurusd, 'USD', 1000000, 1.2))\n",
    "print(convert(False, eurusd, 'EUR', 1000000, 1.2))\n",
    "print(convert(False, eurusd, 'USD', 1000000, 1.2))"
   ]
  }
 ],
 "metadata": {
  "kernelspec": {
   "display_name": "Python 3 (ipykernel)",
   "language": "python",
   "name": "python3"
  },
  "language_info": {
   "codemirror_mode": {
    "name": "ipython",
    "version": 3
   },
   "file_extension": ".py",
   "mimetype": "text/x-python",
   "name": "python",
   "nbconvert_exporter": "python",
   "pygments_lexer": "ipython3",
   "version": "3.9.12"
  }
 },
 "nbformat": 4,
 "nbformat_minor": 5
}
