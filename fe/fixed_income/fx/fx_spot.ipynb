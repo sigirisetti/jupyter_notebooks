{
 "cells": [
  {
   "cell_type": "markdown",
   "metadata": {},
   "source": [
    "# FX Spot\n",
    "\n",
    "Self Reference text taken from wikipedia and other internet resources\n",
    "\n",
    "A foreign exchange spot transaction, also known as FX spot, is an agreement between two parties to buy one currency against selling another currency at an agreed price for settlement on the spot date\n",
    "\n",
    "Key Points about FX Market\n",
    "\n",
    "* The forex market is the largest and most liquid market in the world\n",
    "* The US dollar makes up the majority of forex transactions\n",
    "\n",
    "## Exchange Rate economics\n",
    "### Factors affecting the change of exchange rate\n",
    "* Balance of payments: When a country has a large international balance of payments deficit or trade deficit, it means that its foreign exchange earnings are less than foreign exchange expenditures and its demand for foreign exchange exceeds its supply, so its foreign exchange rate rises, and its currency depreciates.\n",
    "* Interest rate level: Interest rates are the cost and profit of borrowing capital. When a country raises its interest rate or its domestic interest rate is higher than the foreign interest rate, it will cause capital inflow, thereby increasing the demand for domestic currency, allowing the currency to appreciate and the foreign exchange depreciate.\n",
    "* Inflation factor: The inflation rate of a country rises, the purchasing power of money declines, the paper currency depreciates internally, and then the foreign currency appreciates. If both countries have inflation, the currencies of countries with high inflation will depreciate against those with low inflation. The latter is a relative revaluation of the former.\n",
    "* Fiscal and monetary policy: Although the influence of monetary policy on the exchange rate changes of a country’s government is indirect, it is also very important.In general, the huge fiscal revenue and expenditure deficit caused by expansionary fiscal and monetary policies and inflation will devalue the domestic currency. The tightening fiscal and monetary policies will reduce fiscal expenditures, stabilize the currency, and increase the value of the domestic currency.\n",
    "* Venture capital: If speculators expect a certain currency to appreciate, they will buy a large amount of that currency, which will cause the exchange rate of that currency to rise. Conversely, if speculators expect a certain currency to depreciate, they will sell off a large amount of the currency, resulting in speculation. The currency exchange rate immediately fell. Speculation is an important factor in the short-term fluctuations in the exchange rate of the foreign exchange market.\n",
    "* Government market intervention: When exchange rate fluctuations in the foreign exchange market adversely affect a country’s economy, trade, or the government needs to achieve certain policy goals through exchange rate adjustments, monetary authorities can participate in currency trading, buying or selling local or foreign currencies in large quantities in the market. The foreign exchange supply and demand has caused the exchange rate to change.\n",
    "* Economic strength of a country: In general, high economic growth rates are not conducive to the local currency's performance in the foreign exchange market in the short term, but in the long run, they strongly support the strong momentum of the local currency.\n",
    "\n",
    "## Execution methods\n",
    "\n",
    "Common methods of executing a spot foreign exchange transaction include the following:\n",
    "\n",
    "* Direct – Executed between two parties directly and not intermediated by a third party. For example, a transaction executed via direct telephone communication or direct electronic dealing systems such as Reuters Conversational Dealing\n",
    "* Electronic broking systems – Executed via automated order matching system for foreign exchange dealers. Examples of such systems are EBS and Reuters Matching 2000/2\n",
    "* Electronic trading systems – Executed via a single-bank proprietary platform or a multibank dealing system. These systems are generally geared towards customers. Examples of multibank systems include Fortex Technologies, Inc., 360TGTX, FXSpotStream LLC, Integral, FXall, HotSpotFX, Currenex, LMAX Exchange, FX Connect, Prime Trade, Globalink, Seamless FX, and eSpeed\n",
    "* Voice broker – Executed via telephone with a foreign exchange voice broker"
   ]
  }
 ],
 "metadata": {
  "kernelspec": {
   "display_name": "Python 3",
   "language": "python",
   "name": "python3"
  },
  "language_info": {
   "codemirror_mode": {
    "name": "ipython",
    "version": 3
   },
   "file_extension": ".py",
   "mimetype": "text/x-python",
   "name": "python",
   "nbconvert_exporter": "python",
   "pygments_lexer": "ipython3",
   "version": "3.6.3"
  }
 },
 "nbformat": 4,
 "nbformat_minor": 2
}
