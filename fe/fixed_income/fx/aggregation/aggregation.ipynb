{
 "cells": [
  {
   "cell_type": "markdown",
   "metadata": {},
   "source": [
    "# Market data aggregation"
   ]
  },
  {
   "cell_type": "markdown",
   "metadata": {},
   "source": [
    "## Config Params per venuw\n",
    "\n",
    "- Price Increment map per venue\n",
    "- Level size threshold map \n",
    "- Level Size weightage\n",
    "- line latency\n",
    "\n",
    "\n",
    "## Inputs\n",
    "\n",
    "- Map of Consolidated book per venue\n",
    "- Map of Consolidated Book Venue parameter config\n",
    "- Primary Venue Id of Ccy pair\n",
    "- Sorted bids\n",
    "- Sorted Asks\n",
    "- In active venues\n",
    "- Other informations about latencies etc"
   ]
  },
  {
   "cell_type": "markdown",
   "metadata": {},
   "source": [
    "# Add a new book\n",
    "\n",
    "- finding Venue Direction \n",
    "    - abc\n",
    "- New book addition\n",
    "    - xyz"
   ]
  },
  {
   "cell_type": "code",
   "execution_count": null,
   "metadata": {},
   "outputs": [],
   "source": []
  }
 ],
 "metadata": {
  "kernelspec": {
   "display_name": "Python 3",
   "language": "python",
   "name": "python3"
  },
  "language_info": {
   "codemirror_mode": {
    "name": "ipython",
    "version": 3
   },
   "file_extension": ".py",
   "mimetype": "text/x-python",
   "name": "python",
   "nbconvert_exporter": "python",
   "pygments_lexer": "ipython3",
   "version": "3.8.5"
  }
 },
 "nbformat": 4,
 "nbformat_minor": 4
}
