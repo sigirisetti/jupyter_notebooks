{
 "cells": [
  {
   "cell_type": "markdown",
   "metadata": {},
   "source": [
    "# Market Readiness\n",
    "\n",
    "Set of attributes to decide whether to publish price and whether published price is tradable\n",
    "\n",
    "Readiness requires\n",
    "\n",
    "- TOB\n",
    "- DOB\n",
    "\n",
    "Below cases where tradability becomes false\n",
    "\n",
    "- Market quote is not two sided then tradability as false\n",
    "- TOB is not available\n",
    "- DOB is not available\n"
   ]
  },
  {
   "cell_type": "markdown",
   "metadata": {},
   "source": [
    "Market Readiness Output\n",
    "\n",
    "- whether normal pricing is ready\n",
    "- whether tradable\n",
    "- minimum inside spread when not ready"
   ]
  },
  {
   "cell_type": "code",
   "execution_count": null,
   "metadata": {},
   "outputs": [],
   "source": []
  }
 ],
 "metadata": {
  "kernelspec": {
   "display_name": "Python 3",
   "language": "python",
   "name": "python3"
  },
  "language_info": {
   "codemirror_mode": {
    "name": "ipython",
    "version": 3
   },
   "file_extension": ".py",
   "mimetype": "text/x-python",
   "name": "python",
   "nbconvert_exporter": "python",
   "pygments_lexer": "ipython3",
   "version": "3.7.3"
  }
 },
 "nbformat": 4,
 "nbformat_minor": 4
}
