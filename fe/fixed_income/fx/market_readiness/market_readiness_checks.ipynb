{
 "cells": [
  {
   "cell_type": "markdown",
   "metadata": {},
   "source": [
    "# Market Readiness\n",
    "\n",
    "Set of attributes to decide whether to publish price and whether published price is tradable\n",
    "\n",
    "Below cases where tradability becomes false\n",
    "\n",
    "- Market quote is not two sided then tradability as false\n",
    "- TOB is not available\n",
    "- DOB is not available\n"
   ]
  }
 ],
 "metadata": {
  "kernelspec": {
   "display_name": "Python 3",
   "language": "python",
   "name": "python3"
  },
  "language_info": {
   "codemirror_mode": {
    "name": "ipython",
    "version": 3
   },
   "file_extension": ".py",
   "mimetype": "text/x-python",
   "name": "python",
   "nbconvert_exporter": "python",
   "pygments_lexer": "ipython3",
   "version": "3.7.3"
  }
 },
 "nbformat": 4,
 "nbformat_minor": 4
}
