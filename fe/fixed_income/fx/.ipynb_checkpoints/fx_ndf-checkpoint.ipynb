{
 "cells": [
  {
   "cell_type": "markdown",
   "metadata": {},
   "source": [
    "# FX NDF\n",
    "\n",
    "<b>Non-Deliverable forwards (NDF)</b> are similar but allow hedging of currencies where government regulations restrict foreign access to local currency or the parties want to compensate for risk without a physical exchange of funds. NDFs settle against a fixing rate at maturity, with the net amount in USD, or another fully convertible currency, either paid or received.\n",
    "\n",
    "\n",
    "In an NDF a <b>principal amount, forward exchange rate, fixing date and forward date<b>, are all agreed on the trade date and form the basis for the net settlement that is made at maturity in a fully convertible currency.\n",
    "\n",
    "At maturity of the NDF, in order to calculate the net settlement, the forward exchange rate agreed at execution is set against the prevailing market 'spot exchange rate' on the fixing date which is two days before the value (delivery) date of the NDF. The reference for the spot exchange rate i.e. the fixing basis varies from currency to currency and can be the Reuters or Bloomberg pages.\n",
    "\n",
    "\n",
    "Because an NDF is a cash-settled instrument, the notional amount is never exchanged. The only exchange of cash flows is the difference between the NDF rate and the prevailing spot market rate—that is determined on the fixing date and exchanged on the settlement date—applied to the notional, \n",
    "\n",
    "i.e. <b>cash flow = (NDF rate – spot rate) × notional.</b>\n",
    "\n",
    "\n",
    "Consequently, since NDF is a \"non-cash\", <b>off-balance-sheet item</b> and since the principal sums do not move, <b>NDF bears much lower counter-party risk</b>. NDFs are committed short-term instruments; both counterparties are committed and are obliged to honor the deal. Nevertheless, either counterparty can cancel an existing contract by entering into another offsetting deal at the prevailing market rate"
   ]
  },
  {
   "cell_type": "markdown",
   "metadata": {},
   "source": [
    "%%latex\n",
    "\n",
    "\\begin{equation}\n",
    "\\pi = \\frac{N.S - N.F}{S} = N \\Big(1 - \\frac{F}{S} \\Big)\n",
    "\\end{equation}"
   ]
  }
 ],
 "metadata": {
  "kernelspec": {
   "display_name": "Python 3",
   "language": "python",
   "name": "python3"
  },
  "language_info": {
   "codemirror_mode": {
    "name": "ipython",
    "version": 3
   },
   "file_extension": ".py",
   "mimetype": "text/x-python",
   "name": "python",
   "nbconvert_exporter": "python",
   "pygments_lexer": "ipython3",
   "version": "3.6.3"
  }
 },
 "nbformat": 4,
 "nbformat_minor": 2
}
