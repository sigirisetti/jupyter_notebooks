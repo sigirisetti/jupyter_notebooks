{
 "cells": [
  {
   "cell_type": "markdown",
   "metadata": {},
   "source": [
    "# Cross Forward Adjustment\n",
    "\n",
    "## Config\n",
    "\n",
    "## Inputs\n",
    "\n",
    "* Scaled underlying legs of cross\n",
    "* Fwd Adj Pts for both legs\n",
    " \n",
    "\n",
    "## Calc Triggers\n",
    "* Forward Adj data - Considering this is pre-calculated using fwd points \n",
    "\n",
    "## Calc Logic\n",
    "\n",
    "* Adjust mid - underlying spot mid + 0.5 * (fwdBid + fwdAsk)\n",
    "* Adjusted bids - bid + bidAdj\n",
    "* Adjusted asks - ask + askAdj\n",
    "\n",
    "## Calc Steps\n",
    "\n",
    "## Output\n",
    "\n",
    "* Fwd Adjusted legs of cross\n",
    "\n",
    "\n",
    "## Uses\n"
   ]
  },
  {
   "cell_type": "code",
   "execution_count": null,
   "metadata": {},
   "outputs": [],
   "source": []
  }
 ],
 "metadata": {
  "kernelspec": {
   "display_name": "Python 3",
   "language": "python",
   "name": "python3"
  },
  "language_info": {
   "codemirror_mode": {
    "name": "ipython",
    "version": 3
   },
   "file_extension": ".py",
   "mimetype": "text/x-python",
   "name": "python",
   "nbconvert_exporter": "python",
   "pygments_lexer": "ipython3",
   "version": "3.8.5"
  }
 },
 "nbformat": 4,
 "nbformat_minor": 4
}
