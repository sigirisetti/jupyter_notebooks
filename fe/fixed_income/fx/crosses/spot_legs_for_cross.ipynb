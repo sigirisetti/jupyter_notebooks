{
 "cells": [
  {
   "cell_type": "markdown",
   "metadata": {},
   "source": [
    "# Spot Legs for Cross\n",
    "\n",
    "Two or more spot legs are needed to create a cross spot price. \n",
    "\n",
    "\n",
    "## Inputs\n",
    "\n",
    "* Underlying spot legs for cross\n",
    "\n",
    "\n",
    "\n",
    "## Triggers\n",
    "\n",
    "Gather both spot legs and check thier tradability before publishing down the line \n",
    "\n",
    "\n",
    "## Output\n",
    "\n",
    "* Tradable underlyings legs of the cross"
   ]
  },
  {
   "cell_type": "code",
   "execution_count": null,
   "metadata": {},
   "outputs": [],
   "source": []
  }
 ],
 "metadata": {
  "kernelspec": {
   "display_name": "Python 3",
   "language": "python",
   "name": "python3"
  },
  "language_info": {
   "codemirror_mode": {
    "name": "ipython",
    "version": 3
   },
   "file_extension": ".py",
   "mimetype": "text/x-python",
   "name": "python",
   "nbconvert_exporter": "python",
   "pygments_lexer": "ipython3",
   "version": "3.7.3"
  }
 },
 "nbformat": 4,
 "nbformat_minor": 4
}
