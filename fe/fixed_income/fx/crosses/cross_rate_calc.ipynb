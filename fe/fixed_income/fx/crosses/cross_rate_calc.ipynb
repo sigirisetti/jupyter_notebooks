{
 "cells": [
  {
   "cell_type": "markdown",
   "metadata": {},
   "source": [
    "# Cross Rate Calculation"
   ]
  },
  {
   "cell_type": "markdown",
   "metadata": {},
   "source": [
    "Majority of the trading in the world in Forex markets is in terms of the US dollar, in other words, one leg of most exchange trades is the US currency. \n",
    "Therefore, margins between bid and offer rates are lowest for quotations for the US dollar. The margin or difference between ask rate and bid rate is also known as ‘Spread’. \n",
    "The ask rate is always greater than the bid rate. <b>The margins tend to widen for cross rates explained by the following calculations.</b>\n",
    "\n",
    "Consider the following rate structure:\n",
    "\n",
    "GBP 1.00 = US dollar 1.6290/98, and EURO 1.00 = US dollar 1.1276/80\n",
    "\n",
    "In this rate structure, to calculate the bid and offer rates for the euro in terms of pounds. Let us see how the offered (selling) rate for euro can be calculated. \n",
    "Starting with the pound, you will have to buy US dollars at the offered rate of US dollar 1.6290 and buy euros against the dollar at the offered rate for euro at \n",
    "US dollar 1.1280. The offer rate for the euro in terms of GBP, therefore, becomes EURO, i.e., EURO 1.4441 per GBP, or more conventionally, GBP 0.6925 per euro."
   ]
  },
  {
   "cell_type": "markdown",
   "metadata": {},
   "source": [
    "$ EURGBP = \\frac{\\frac{EUR}{USD}}{\\frac{GBP}{USD}} = 1.6290 / 1.127680 = 1.444558 $"
   ]
  }
 ],
 "metadata": {
  "kernelspec": {
   "display_name": "Python 3",
   "language": "python",
   "name": "python3"
  },
  "language_info": {
   "codemirror_mode": {
    "name": "ipython",
    "version": 3
   },
   "file_extension": ".py",
   "mimetype": "text/x-python",
   "name": "python",
   "nbconvert_exporter": "python",
   "pygments_lexer": "ipython3",
   "version": "3.8.5"
  }
 },
 "nbformat": 4,
 "nbformat_minor": 4
}
