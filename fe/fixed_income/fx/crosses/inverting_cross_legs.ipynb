{
 "cells": [
  {
   "cell_type": "markdown",
   "metadata": {},
   "source": [
    "# Inverting Cross underlying Legs\n",
    "\n",
    "## Config\n",
    "\n",
    "\n",
    "## Inputs\n",
    "\n",
    "* Fwd Adjusted legs\n",
    "\n",
    "## Calc Triggers\n",
    "\n",
    "## Calc Logic\n",
    "\n",
    "Inversion is based on config\n",
    "\n",
    "| Cross Pair | Underlying Leg1 | Underlying Leg2 | INVERT LEG1 | INVERT LEG2 |\n",
    "|------------|-----------------|-----------------|-------------|-------------|\n",
    "| AUDCAD     | AUDUSD          | USDCAD          | FALSE       | FALSE       |\n",
    "| ZARJPY     | USDZAR          | USDJPY          | TRUE        | FALSE       |\n",
    "| NZDJPY     | NZDUSD          | USDJPY          | FALSE       | FALSE       |\n",
    "| AUDCHF     | AUDUSD          | USDCHF          | FALSE       | FALSE       |\n",
    "| USDSEK     | EURUSD          | EURSEK          | TRUE        | FALSE       |\n",
    "| EURAUD     | EURUSD          | AUDUSD          | FALSE       | TRUE        |\n",
    "| EURGBP     | EURUSD          | GBPUSD          | FALSE       | TRUE        |\n",
    "\n",
    "\n",
    "## Calc Steps\n",
    "\n",
    "* Based on config find whether first leg ladder need to be inverted\n",
    "    * Invert bids (1/bid)\n",
    "    * Invert asks (1/ask)\n",
    "* Based on config find whether second leg ladder need to be inverted\n",
    "    * Invert bids (1/bid)\n",
    "    * Invert asks (1/ask)\n",
    "* Invert sizes - Inverted size = 0.5 * size * (bid + ask)\n",
    "* Invert max size \n",
    "    * Inverted max bid = maxAskSize * midPrice\n",
    "    * Inverted max ask = maxBidSize * midPrice\n",
    "* Invert Mid = 1/mid\n",
    "\n",
    "## Output\n",
    "\n",
    "## Uses\n"
   ]
  },
  {
   "cell_type": "code",
   "execution_count": null,
   "metadata": {},
   "outputs": [],
   "source": []
  }
 ],
 "metadata": {
  "kernelspec": {
   "display_name": "Python 3 (ipykernel)",
   "language": "python",
   "name": "python3"
  },
  "language_info": {
   "codemirror_mode": {
    "name": "ipython",
    "version": 3
   },
   "file_extension": ".py",
   "mimetype": "text/x-python",
   "name": "python",
   "nbconvert_exporter": "python",
   "pygments_lexer": "ipython3",
   "version": "3.9.12"
  }
 },
 "nbformat": 4,
 "nbformat_minor": 4
}
