{
 "cells": [
  {
   "cell_type": "markdown",
   "metadata": {},
   "source": [
    "# Cross Components\n",
    "\n",
    "\n",
    "* Arb Check related config\n",
    "* Feed related Config\n",
    "* Component for getting underlying spot legs\n",
    "* Platinum to core component\n",
    "* Forward Adjustment\n",
    "* Inverting underlying legs\n",
    "* Interpolation and Cross price generation\n",
    "* Max Quote size component\n",
    "* Cross Spread discount component\n",
    "* Cross Arb check by mid\n",
    "* Platinum to Core\n",
    "* Cross Liquidity throttling\n",
    "* Cross Price Ladder to Order Converter\n",
    "* Cross Order Price Quantize\n",
    "* Cross Price throttling\n",
    "* Peak Throttling\n",
    "* Cross Intent\n",
    "* Intent Spread Discount\n",
    "* Publishing\n",
    "\n"
   ]
  },
  {
   "cell_type": "code",
   "execution_count": null,
   "metadata": {},
   "outputs": [],
   "source": []
  }
 ],
 "metadata": {
  "kernelspec": {
   "display_name": "Python 3",
   "language": "python",
   "name": "python3"
  },
  "language_info": {
   "codemirror_mode": {
    "name": "ipython",
    "version": 3
   },
   "file_extension": ".py",
   "mimetype": "text/x-python",
   "name": "python",
   "nbconvert_exporter": "python",
   "pygments_lexer": "ipython3",
   "version": "3.7.3"
  }
 },
 "nbformat": 4,
 "nbformat_minor": 4
}
