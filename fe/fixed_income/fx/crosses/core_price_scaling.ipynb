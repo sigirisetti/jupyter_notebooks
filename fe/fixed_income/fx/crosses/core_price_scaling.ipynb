{
 "cells": [
  {
   "cell_type": "markdown",
   "metadata": {},
   "source": [
    "# scaling of core price to platinum\n",
    "\n",
    "\n",
    "## Config\n",
    "\n",
    "* Scaling factor from core to platinum 0.6\n",
    "* Scaling factor from platinum to core 1.667\n",
    "\n",
    "## Inputs\n",
    "\n",
    "* Underlying legs of Cross\n",
    "* Component can be Conditionally invoked \n",
    "\n",
    "## Calc Triggers\n",
    "\n",
    "* On receiving both spot legs\n",
    "\n",
    "## Calc Logic\n",
    "\n",
    "## Calc Steps\n",
    "\n",
    "* Scale bids/asks of underlying legs \n",
    "\n",
    "## Output\n",
    "\n",
    "* Scaled legs \n",
    "\n",
    "## Uses\n"
   ]
  },
  {
   "cell_type": "code",
   "execution_count": null,
   "metadata": {},
   "outputs": [],
   "source": []
  }
 ],
 "metadata": {
  "kernelspec": {
   "display_name": "Python 3 (ipykernel)",
   "language": "python",
   "name": "python3"
  },
  "language_info": {
   "codemirror_mode": {
    "name": "ipython",
    "version": 3
   },
   "file_extension": ".py",
   "mimetype": "text/x-python",
   "name": "python",
   "nbconvert_exporter": "python",
   "pygments_lexer": "ipython3",
   "version": "3.9.12"
  }
 },
 "nbformat": 4,
 "nbformat_minor": 4
}
