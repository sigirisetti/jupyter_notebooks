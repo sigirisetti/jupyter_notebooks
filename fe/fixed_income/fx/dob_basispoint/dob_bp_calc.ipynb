{
 "cells": [
  {
   "cell_type": "markdown",
   "metadata": {},
   "source": [
    "# Depth of the book basis point spread\n",
    "\n",
    "Component generates a signal from depth of the book spread and provides a measurement of current depth of book spread. Components consuming this event can use this signal to estimate market mid, market spread and other factors.\n",
    "\n",
    "\n",
    "This component should produce three values\n",
    "\n",
    "- DOB spread in basis points, instantaneous dob passed through EMA filter\n",
    "- Above value is normalized using historical baseline. Resulting ratio is adjusted by two configurable parameters, referred to as the ratio signal\n",
    "- The value from above is floored by the desired minimum hourly normalized dob spread ratio, referred to as the 'bounded ratio signal'\n",
    "\n"
   ]
  },
  {
   "cell_type": "markdown",
   "metadata": {},
   "source": [
    "## Component config\n",
    "\n",
    "- Instrument Id\n",
    "- Venue Id\n",
    "- Trades per day for the venue\n",
    "- dob_spreadBasisPointBaseline\n",
    "- hourlyMinimumSpreadBasisPointRatio\n",
    "- dob_spreadBasisPointRatioDamp\n",
    "- spreadRatioDampCcyAdjust\n",
    "\n",
    "\n",
    "## Inputs\n",
    "\n",
    "* Order Book updates\n",
    "* Trade Updates\n",
    "* Market data status\n",
    "\n",
    "\n",
    "## EMA to smooth out dob signal\n",
    "\n",
    "\n",
    "## Calc Triggers\n",
    "\n",
    "* Order book updates\n",
    "* Trades - only as a signal\n",
    "* Mkt data status\n"
   ]
  },
  {
   "cell_type": "markdown",
   "metadata": {},
   "source": [
    "## calc\n",
    "\n",
    "Calculates the slope of the vwap price ladder upto the max volume of interest. \n",
    "\n",
    "### Formula\n",
    "\n",
    "$ dobSpread = \\frac{(vwapAsk - vwapBid)}{\\frac{mid}{vwapVolumne}} = \\frac{(vwapAsk - vwapBid)} {\\frac{[(vwapAsk + vwapBid)/2]}{vwapVolumne}}$\n",
    "\n",
    "Max voluma used in the vwap calculation is bounded by the minimum available total size on either bid or ask side of the book and the configurable maximum volume of the interest of the currency pair\n",
    "\n",
    "Pass above dobSpread to EMA filter. Output of the filter is output of this component. \n",
    "\n",
    "Signal is updated and published each time a trade notification is received from a configured venue. When the trade notification is received the last order book received by the processor for the venue is used to calculate the spread.\n",
    "\n",
    "\n",
    "\n",
    "\n",
    "$spreadRatio = \\frac{dob\\_spread\\_basis\\_pt}{dob\\_spread\\_basis\\_pt\\_baseline}$\n",
    "\n",
    "$1.0 < spreadRatio < 10 * hourly\\_min\\_spread\\_bp$\n",
    "\n",
    "$spread\\_ratio\\_impact = spreadRatio^{ (dob\\_spread\\_bp\\_ratio\\_damp + spreadRatio\\_damp\\_ccy\\_adjust)}$\n",
    "\n",
    "spread_ratio_impact > hourly_min_spread_bp\n"
   ]
  },
  {
   "cell_type": "markdown",
   "metadata": {},
   "source": [
    "## Steps\n",
    "\n",
    "* totalBidAskVol - Find min of bid / ask volumes\n",
    "* maxVolume - Find min of configured volume of interest and result from above\n",
    "* vwapBid price at maxVolume\n",
    "* vwapAsk price at maxVolume\n",
    "* vwapSpread - 2 * (vwapAsk - vwapBid) / (bestBid + bestAsk)\n",
    "* dobSprdBasisPt - 1e10 * vwapSpread / maxVolume\n",
    "* normalize dobSprdBasisPt\n",
    "* Publish - spreadSignal, ratioSignal, boundedRatioSignal\n"
   ]
  },
  {
   "cell_type": "markdown",
   "metadata": {},
   "source": [
    "## Output\n",
    "\n",
    "* spreadSignal - EMA smoothed spread\n",
    "* ratioSignal\n",
    "* boundedRatioSignal\n",
    "\n",
    "## Uses"
   ]
  },
  {
   "cell_type": "markdown",
   "metadata": {},
   "source": [
    "* Spread Factors Calculation\n",
    "* In Market readiness, dob availability check \n",
    "* Quote Mid Calculator to check tobSprdBasisPt > multiplierFromConfig * dobSprdBasisPt  "
   ]
  },
  {
   "cell_type": "code",
   "execution_count": null,
   "metadata": {},
   "outputs": [],
   "source": []
  }
 ],
 "metadata": {
  "kernelspec": {
   "display_name": "Python 3",
   "language": "python",
   "name": "python3"
  },
  "language_info": {
   "codemirror_mode": {
    "name": "ipython",
    "version": 3
   },
   "file_extension": ".py",
   "mimetype": "text/x-python",
   "name": "python",
   "nbconvert_exporter": "python",
   "pygments_lexer": "ipython3",
   "version": "3.8.5"
  }
 },
 "nbformat": 4,
 "nbformat_minor": 4
}
