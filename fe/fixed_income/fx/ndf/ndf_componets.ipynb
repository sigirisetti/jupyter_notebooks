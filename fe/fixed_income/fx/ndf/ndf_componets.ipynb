{
 "cells": [
  {
   "cell_type": "markdown",
   "metadata": {},
   "source": [
    "# NDF Components\n",
    "\n",
    "* Arb Check Config\n",
    "* Reference Price Collar\n",
    "* NDF Forward Point Feeder\n",
    "* NDF Outright Feeder\n",
    "* NDF Spot Feeder\n",
    "* NDF Augumented outrigth feeder\n",
    "* NDF Venue Config\n",
    "* NDF Market data to order book component\n",
    "* NDF Trader Input component\n",
    "* NDF Mkt Spread calc\n",
    "* NDF Primary Mkt Spread Calc\n",
    "* Realized Vol Calc\n",
    "* NDF target Spread Calc\n",
    "* Large Size Spread Calc\n",
    "* Base Price Constructor\n",
    "* Mid Uncertainity Calc\n",
    "* Event Spread Calc\n",
    "* NDF Position Component\n",
    "* Currency Pair Position Calc\n",
    "* Skew Spread Calc\n",
    "* Vol Spread Calc\n",
    "* NDF Move Monitor\n",
    "* NDF Direct tradable status calc\n",
    "* NDF Feed Price constructor\n",
    "* Price throttling\n",
    "* Peak throttling\n",
    "* NDF ladder elaborator\n",
    "* NDF Direct Price publisher\n"
   ]
  },
  {
   "cell_type": "code",
   "execution_count": null,
   "metadata": {},
   "outputs": [],
   "source": []
  }
 ],
 "metadata": {
  "kernelspec": {
   "display_name": "Python 3",
   "language": "python",
   "name": "python3"
  },
  "language_info": {
   "codemirror_mode": {
    "name": "ipython",
    "version": 3
   },
   "file_extension": ".py",
   "mimetype": "text/x-python",
   "name": "python",
   "nbconvert_exporter": "python",
   "pygments_lexer": "ipython3",
   "version": "3.7.3"
  }
 },
 "nbformat": 4,
 "nbformat_minor": 4
}
