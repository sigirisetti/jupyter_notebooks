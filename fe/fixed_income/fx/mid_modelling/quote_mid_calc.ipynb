{
 "cells": [
  {
   "cell_type": "markdown",
   "metadata": {},
   "source": [
    "# Quote Mid Calculation"
   ]
  },
  {
   "cell_type": "markdown",
   "metadata": {},
   "source": [
    "## Inputs\n",
    "\n",
    "\n",
    "### Quote Mid Config Parameters\n",
    "- Depth venues\n",
    "- Primary venues\n",
    "- vwap pricing volume - The volume we vwap (upto) when constructing a core mid\n",
    "- bounding vwap pricing volume - The volume used to form a secondary vwap which bounds our primary vwap\n",
    "- quote change tolerance\n",
    "- quote mid publish tolerance\n",
    "- self cross threshold multiplier\n",
    "\n",
    "### Quote Mid Venue Params per venue\n",
    "- quote size ratio\n",
    "- min size\n",
    "\n",
    "### Market Data\n",
    "\n",
    "* TOB basis pt signal\n",
    "* DOB basis pt signal\n",
    "* Ref Price Collar to check implied spot from future price is within ref price collar\n",
    "* Depth updates from configured quote mid venues \n",
    "* Primary mkt depth updates\n",
    "* Future implied spot price included in vwap price calc. Inclusion is subjected to future venue status is active\n",
    "\n",
    "\n",
    "### Triggers"
   ]
  },
  {
   "cell_type": "markdown",
   "metadata": {},
   "source": [
    "## Calc Logic\n",
    "\n",
    "Quote mid formula"
   ]
  },
  {
   "cell_type": "markdown",
   "metadata": {},
   "source": [
    "$quoteMid = (1 -w) * quoteMid + w * vwapMid$\n",
    "\n",
    "where w is an inverse function of the ratio of aggregated tob spread over primary market tob spread\n",
    "\n",
    "$w = (0.5 * (\\frac{\\frac{vwapAsk - vwapAsk}{vwapMid}}{tobSpreadBasisPoint})^{-1.1}$\n",
    "\n",
    "Most of times w is close to 1, indicating aggregated market spread is within twice of the primary mkt spread. Therefore quoteMid is mostly same as vwapMid\n",
    "\n",
    "$vwapMid = 0.5 * (vwapAsk + vwapBid)$\n",
    "\n",
    "\n",
    "* vwapBid - volume weighted bid price of aggregated top of books from multiple venues up to a \"vwap pricing volume\" (config)\n",
    "* vwapAsk - volume weighted ask price of aggregated top of books from multiple venues up to a \"vwap pricing volume\" (config)\n",
    "\n",
    "The final quote mid value is bounded by another vwapBid and vwapAsk calculated with a lower maximum size\n",
    "\n"
   ]
  },
  {
   "cell_type": "markdown",
   "metadata": {},
   "source": [
    "## Calc Steps\n",
    "\n",
    "* Find configured vwap volume\n",
    "* Get bid/ask for configured vwap volume as un bounded price\n",
    "* Get bid/ask for configured bounding by second level"
   ]
  },
  {
   "cell_type": "markdown",
   "metadata": {},
   "source": [
    "### Outputs\n",
    "\n",
    "### Uses"
   ]
  }
 ],
 "metadata": {
  "kernelspec": {
   "display_name": "Python 3",
   "language": "python",
   "name": "python3"
  },
  "language_info": {
   "codemirror_mode": {
    "name": "ipython",
    "version": 3
   },
   "file_extension": ".py",
   "mimetype": "text/x-python",
   "name": "python",
   "nbconvert_exporter": "python",
   "pygments_lexer": "ipython3",
   "version": "3.8.5"
  }
 },
 "nbformat": 4,
 "nbformat_minor": 4
}
