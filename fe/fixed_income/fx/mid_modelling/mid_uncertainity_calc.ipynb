{
 "cells": [
  {
   "cell_type": "markdown",
   "metadata": {},
   "source": [
    "# Mid Uncertainity Calc\n",
    "\n",
    "Computes the uncertainity of core mid that includes the checking for spoofing and arbable conditions\n",
    "\n",
    "## Inputs\n",
    "\n",
    "* TOB spread basis point signal\n",
    "* Quote Mid\n",
    "* Core Mid\n",
    "* Market data status\n",
    "\n"
   ]
  },
  {
   "cell_type": "code",
   "execution_count": 4,
   "metadata": {},
   "outputs": [],
   "source": [
    "import math\n",
    "\n",
    "quoteMidLastVwapBid = 0\n",
    "quoteMidLastVwapAsk = 0 \n",
    "tobSprdBasisPtSignal = 0\n",
    "quoteMidVwapAsk = 0\n",
    "quoteMidVwapBid = 0\n",
    "midUncertainity = 0\n",
    "antiSpoofingThreshold = 2.5\n",
    "\n",
    "def calcMidUncertainityFromSpoofing():\n",
    "    moveImbalance = max(0, (quoteMidVwapBid - quoteMidLastVwapBid) - abs(quoteMidVwapAsk - quoteMidLastVwapAsk))\n",
    "    moveImbalance = max(moveImbalance, (quoteMidLastVwapAsk - quoteMidVwapAsk) - abs(quoteMidVwapBid - quoteMidLastVwapBid))\n",
    "    moveImbalanceBasisPt = min(10*tobSprdBasisPtSignal, 2 * moveImbalance/ (quoteMidVwapBid + quoteMidVwapAsk))\n",
    "    # Used in min hedging cost\n",
    "    midUncertainity = max(0, moveImbalanceBasisPt-tobSprdBasisPtSignal *antiSpoofingThreshold)\n",
    "    return midUncertainity\n",
    "    \n",
    "\n",
    "def applyBounds(val, lower, upper):\n",
    "    lowerBound = min(lower, upper)\n",
    "    upperBound = max(lower, upper)\n",
    "    boundedVal = min(val, upperBound)\n",
    "    boundedVal = max(boundedVal, lowerBound)\n",
    "    return boundedVal\n",
    "\n",
    "coreMid = 0\n",
    "quoteMidBestBid = 0\n",
    "quoteMidBestAsk = 0\n",
    "\n",
    "def calcMidUncertainityFromArb():\n",
    "    return quoteMidBestBid - quoteMidBestAsk > 0\n",
    "    "
   ]
  },
  {
   "cell_type": "code",
   "execution_count": null,
   "metadata": {},
   "outputs": [],
   "source": []
  }
 ],
 "metadata": {
  "kernelspec": {
   "display_name": "Python 3",
   "language": "python",
   "name": "python3"
  },
  "language_info": {
   "codemirror_mode": {
    "name": "ipython",
    "version": 3
   },
   "file_extension": ".py",
   "mimetype": "text/x-python",
   "name": "python",
   "nbconvert_exporter": "python",
   "pygments_lexer": "ipython3",
   "version": "3.7.3"
  }
 },
 "nbformat": 4,
 "nbformat_minor": 4
}
