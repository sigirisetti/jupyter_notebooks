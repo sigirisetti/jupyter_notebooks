{
 "cells": [
  {
   "cell_type": "markdown",
   "metadata": {},
   "source": [
    "# Trade Mid Calc"
   ]
  },
  {
   "cell_type": "markdown",
   "metadata": {},
   "source": [
    "Calculates the recent average traded price from multiple market venues for a single currency pair. The recent trade prices and sizes are weighted by the time elapsed since the trade occurred"
   ]
  },
  {
   "cell_type": "markdown",
   "metadata": {},
   "source": [
    "## Calc\n",
    "\n",
    "On trade update from the venue, trade weight is calculated for the latest trade from each venue respectively. Trade Weight decays as a function of the time passed since the last trade, older the last trade lower the weight\n",
    "\n",
    "\n",
    "$venueTradeWeight = min (1.0, tradeSizeRatio * \\frac{tradeSize}{volumeOfInterest}) * exp ({\\frac{now - latestTradeTime}{tradeWeightDecayLifeNanos}})$\n",
    "\n",
    "After calculating recent trade weight of each each venue, a weighted average price of trade is calculated. Lets say finalTradeValue.\n",
    "\n",
    "Again finalTradeValue is checked against price collar. If not with in price collar then it is dropped from trade mid calc\n",
    "\n",
    "If Price collar is successful then\n",
    "\n",
    "\n",
    "$resultantTradeMid = prevFinalTradeValue + (finalTradeValue - prevFinalTradeValue) * recentTradeWeight * midUpperBound$\n",
    "\n",
    "where \n",
    "\n",
    "- midUpperBound is a configured val < 1, e.g: 0.86 for EURHUF, 0.94 for AUDUSD etc\n",
    "- recentTradeWeight is sum of all weights from all venues\n",
    "\n"
   ]
  },
  {
   "cell_type": "markdown",
   "metadata": {},
   "source": [
    "## Inputs\n",
    "\n",
    "\n",
    "### Trade Mid Params\n",
    "\n",
    "- trade venues\n",
    "- mid upper bound (0.75, 0.9, 0.83) - Upper bound of the weight a most recent trade can contribute to trade mid (w * recentTradeMid + (1 - w) * emaTradeMid)  \n",
    "- volume of interest (e.g: 1m)\n",
    "- trade Size Ratio (e.g: 3.0) - Multiplier applied to the trade size that's normalized by volume of interest\n",
    "- trade weight decay life nanos (1.0e9) - Trade weight exponential decay life in nano seconds\n",
    "- min trade size (1.0e6) - Minimum trade size assumed for each trade update\n",
    "- trade mid publish tolerance (1.0e-5) - publish threshold\n",
    "\n",
    "\n",
    "\n",
    "### Market data\n",
    "\n",
    "* Trades\n",
    "\n",
    "\n",
    "### Other Calc Inputs\n",
    "\n",
    "* Quote Mid\n",
    "* Ref Price\n",
    "\n",
    "\n",
    "## Calc Triggers\n",
    "* Price callar update\n",
    "* trade update\n",
    "* quote mid\n",
    "\n",
    "\n",
    "## Calc Steps\n",
    "\n",
    "* Drop if outside price collar\n",
    "* tradeVal = tradeVal + (recenttradeVal - tradeVal) * venueTradeWeight * midUpperBoundConfig (<1)\n",
    "* Check whether tradeVal is bounded by bounding vwap bid/ask\n",
    "* Publish final value"
   ]
  },
  {
   "cell_type": "code",
   "execution_count": null,
   "metadata": {},
   "outputs": [],
   "source": []
  }
 ],
 "metadata": {
  "kernelspec": {
   "display_name": "Python 3",
   "language": "python",
   "name": "python3"
  },
  "language_info": {
   "codemirror_mode": {
    "name": "ipython",
    "version": 3
   },
   "file_extension": ".py",
   "mimetype": "text/x-python",
   "name": "python",
   "nbconvert_exporter": "python",
   "pygments_lexer": "ipython3",
   "version": "3.8.5"
  }
 },
 "nbformat": 4,
 "nbformat_minor": 4
}
