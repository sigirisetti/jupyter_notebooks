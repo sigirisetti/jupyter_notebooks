{
 "cells": [
  {
   "cell_type": "markdown",
   "metadata": {},
   "source": [
    "# Trade Mid Calc"
   ]
  },
  {
   "cell_type": "markdown",
   "metadata": {},
   "source": [
    "Calculates the recent average traded price from multiple market venues for a single currency pair. The recent trade prices and sizes are weighted by the time elapsed since the trade occurred"
   ]
  },
  {
   "cell_type": "markdown",
   "metadata": {},
   "source": [
    "## Trade Mid Params\n",
    "\n",
    "- trade venues\n",
    "- mid upper bound\n",
    "- volume of interest (e.g: 1m)\n",
    "- trade Size Ratio (e.g: 3.0)\n",
    "- trade weight decay life nanos (1.0e9)\n",
    "- min trade size (1.0e6)\n",
    "- trade mid publish tolerance (1.0e-5)\n"
   ]
  },
  {
   "cell_type": "code",
   "execution_count": null,
   "metadata": {},
   "outputs": [],
   "source": []
  }
 ],
 "metadata": {
  "kernelspec": {
   "display_name": "Python 3",
   "language": "python",
   "name": "python3"
  },
  "language_info": {
   "codemirror_mode": {
    "name": "ipython",
    "version": 3
   },
   "file_extension": ".py",
   "mimetype": "text/x-python",
   "name": "python",
   "nbconvert_exporter": "python",
   "pygments_lexer": "ipython3",
   "version": "3.7.3"
  }
 },
 "nbformat": 4,
 "nbformat_minor": 4
}
