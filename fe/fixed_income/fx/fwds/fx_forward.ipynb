{
 "cells": [
  {
   "cell_type": "markdown",
   "metadata": {},
   "source": [
    "# FX Forward\n",
    "\n",
    "An FX forward contract is an agreement to purchase or sell a set amount of a foreign currency at a specified price for settlement at a predetermined time in the future. <b>“Closed” forward contracts</b> must be settled at an exact date. <b>“Open” forward contracts</b> set a window of time within which any portion of the contract can be settled, as long as the full amount is settled by the end date.\n",
    "\n",
    "FX forwards help investors manage the risk in the currency market by locking in the future exchange rate and date on which they will make a foreign exchange transaction. Thus, by using FX forward contracts, investors can:\n",
    "\n",
    "* protect costs on products and services purchased abroad\n",
    "* protect profit margins on products and services sold abroad\n",
    "* lock-in exchange rates as much as a year in advance\n",
    "\n",
    "\n",
    "The <b>forward exchange rate</b> depends on the <b>spot exchange rate</b> and <b>the interest rate parity between the two currencies</b>, which is the difference in interest that can be earned in the two countries with the corresponding currencies.\n",
    "\n",
    "\n",
    "An <b>Outright Forward</b> is a binding obligation for a physical exchange of funds at a future date at an agreed on rate. There is no payment upfront\n"
   ]
  },
  {
   "cell_type": "markdown",
   "metadata": {},
   "source": [
    "For a numerical calculation the following need to be defined:\n",
    "\n",
    "$FX_{fwd}$ = fair forward rate (units of domestic currency / unit of foreign)\n",
    "\n",
    "$FX_{spot}$ = spot FX rate (units of domestic currency / unit of foreign)\n",
    "\n",
    "$r_d$ = domestic annual interest rate\n",
    "\n",
    "$r_f$ = foreign annual interest rate\n",
    "\n",
    "$AF_d$ = domestic accrual factor (days interest is accrued over days in year)\n",
    "\n",
    "$AF_f$ = foreign accrual factor\n",
    "\n",
    "The formula used is:\n",
    "\n",
    "\\begin{equation}\n",
    "FX_{fwd} = FX_{spot} * \\frac{(1 + AF_d * r_d)}{(1 + AF_f * r_f)}\n",
    "\\end{equation}"
   ]
  },
  {
   "cell_type": "markdown",
   "metadata": {},
   "source": [
    "## Example\n",
    "\n",
    "Consider a 90-day forward contract for USD / EUR exchange. The money market rates and spot rate are as follows:\n",
    "\n",
    "Spot rate = 1.4000 USD / EUR\n",
    "\n",
    "USD 90-day LIBOR = 3.50%\n",
    "\n",
    "EUR 90-day Euribor = 4.50%\n",
    "\n",
    "Using the formula:\n",
    "\n",
    "FXfwd = 1.4000 \\* (1 + 90/360 \\* 0.035) / (1 + 90/360 \\* 0.045)\n",
    "\n",
    "FXfwd = 1.3965 USD/EUR"
   ]
  },
  {
   "cell_type": "markdown",
   "metadata": {},
   "source": [
    "## Risks\n",
    "\n",
    "<b>Credit risk</b> - as in most financial instruments, one of the major risks associated with an FX forward contract is credit risk. In the case that one of the parties is unable to fulfill its obligation, the other party will have to sign another contract with a third party, thus being exposed to market risk at that time.\n",
    "\n",
    "<b>Exchange rate risk</b> - another major risk with FX forward is potentially unfavorable movement of exchange rates. By locking-in the exchange rates at which the currency will be bought, the party forfeits the opportunity of profiting from a favorable exchange rate movement. Additionally, unfavorable exchange rate movements may take away further opportunity of the party for profit (in the face of opportunity cost)\n",
    "\n",
    "<b>Interest rate risk</b> - since the price of a forward contract is dependent on the differential between the interest rates that can be earned with the two currencies, variations in those rates can change the price of the contract. If the party has already signed a forward contract it forgoes the opportunity to sign one at a lower rate in the case of favorable change in interest rates"
   ]
  },
  {
   "cell_type": "markdown",
   "metadata": {},
   "source": [
    "## Payoffs\n",
    "\n",
    "Long Forward, $f_T$ = $S_T$ - $K_T$\n",
    "\n",
    "Short Forward, $f_T$ = $K_T$ - $S_T$"
   ]
  },
  {
   "cell_type": "markdown",
   "metadata": {},
   "source": [
    "## Other Characteristics\n",
    "\n",
    "#### Non USD Forwards\n",
    "For forwards - a non-USD instrument is always considered a cross, USD instruments are direct."
   ]
  }
 ],
 "metadata": {
  "kernelspec": {
   "display_name": "Python 3",
   "language": "python",
   "name": "python3"
  },
  "language_info": {
   "codemirror_mode": {
    "name": "ipython",
    "version": 3
   },
   "file_extension": ".py",
   "mimetype": "text/x-python",
   "name": "python",
   "nbconvert_exporter": "python",
   "pygments_lexer": "ipython3",
   "version": "3.7.3"
  }
 },
 "nbformat": 4,
 "nbformat_minor": 2
}
