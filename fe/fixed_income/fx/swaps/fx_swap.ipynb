{
 "cells": [
  {
   "cell_type": "markdown",
   "metadata": {},
   "source": [
    "# FX Swap\n",
    "\n",
    "A foreign exchange swap has two legs - a <b>spot transaction</b> and a <b>forward transaction</b> - that are executed simultaneously for the same quantity, and therefore offset each other. Forward foreign exchange transactions occur if both companies have a currency the other needs. It prevents negative foreign exchange risk for either party. Foreign exchange spot transactions are similar to forward foreign exchange transactions in terms of how they are agreed upon; however, they are planned for a specific date in the very near future, usually within the same week.\n",
    "\n",
    "It is also common to trade <b>\"forward-forward\"</b> where both transactions are for (different) forward dates."
   ]
  }
 ],
 "metadata": {
  "kernelspec": {
   "display_name": "Python 3",
   "language": "python",
   "name": "python3"
  },
  "language_info": {
   "codemirror_mode": {
    "name": "ipython",
    "version": 3
   },
   "file_extension": ".py",
   "mimetype": "text/x-python",
   "name": "python",
   "nbconvert_exporter": "python",
   "pygments_lexer": "ipython3",
   "version": "3.7.3"
  }
 },
 "nbformat": 4,
 "nbformat_minor": 4
}
