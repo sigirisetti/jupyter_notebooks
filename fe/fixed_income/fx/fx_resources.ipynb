{
 "cells": [
  {
   "cell_type": "markdown",
   "metadata": {},
   "source": [
    "# FX Resources\n",
    "\n",
    "## FX Sites\n",
    "\n",
    "https://www.fxstreet.com/\n",
    "https://www.dailyfx.com/market-news?ref=TopNav\n",
    "https://www.forexfactory.com/\n",
    "https://www.bloomberg.com/europe\n",
    "https://www.forexlive.com/\n",
    "https://www.babypips.com/\n",
    "\n",
    "## Blogs\n",
    "\n",
    "https://blog.feedspot.com/forex_blogs/\n"
   ]
  }
 ],
 "metadata": {
  "kernelspec": {
   "display_name": "Python 3",
   "language": "python",
   "name": "python3"
  },
  "language_info": {
   "codemirror_mode": {
    "name": "ipython",
    "version": 3
   },
   "file_extension": ".py",
   "mimetype": "text/x-python",
   "name": "python",
   "nbconvert_exporter": "python",
   "pygments_lexer": "ipython3",
   "version": "3.6.3"
  }
 },
 "nbformat": 4,
 "nbformat_minor": 2
}
