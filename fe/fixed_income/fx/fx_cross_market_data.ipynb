{
 "cells": [
  {
   "cell_type": "markdown",
   "metadata": {},
   "source": [
    "# FX Cross Market Data Calculation\n",
    "\n",
    "\n",
    "## Simple cross market data calculation\n",
    "\n",
    "Simple cross market data calculation with out spot adjustment"
   ]
  },
  {
   "cell_type": "code",
   "execution_count": 4,
   "metadata": {
    "collapsed": false
   },
   "outputs": [
    {
     "name": "stdout",
     "output_type": "stream",
     "text": [
      "EURRUB =  71.95409795750001\n"
     ]
    }
   ],
   "source": [
    "# data as of 29 April 2019 15:40\n",
    "\n",
    "EURUSD = 1.115455\n",
    "USDRUB = 64.5065\n",
    "EURRUB = EURUSD * USDRUB\n",
    "print(\"EURRUB = \", EURRUB)"
   ]
  },
  {
   "cell_type": "markdown",
   "metadata": {
    "collapsed": false
   },
   "source": [
    "## Cross Calculation with spot adjustment"
   ]
  },
  {
   "cell_type": "code",
   "execution_count": null,
   "metadata": {
    "collapsed": true
   },
   "outputs": [],
   "source": []
  }
 ],
 "metadata": {
  "kernelspec": {
   "display_name": "Python 3",
   "language": "python",
   "name": "python3"
  },
  "language_info": {
   "codemirror_mode": {
    "name": "ipython",
    "version": 3
   },
   "file_extension": ".py",
   "mimetype": "text/x-python",
   "name": "python",
   "nbconvert_exporter": "python",
   "pygments_lexer": "ipython3",
   "version": "3.6.7"
  }
 },
 "nbformat": 4,
 "nbformat_minor": 2
}
