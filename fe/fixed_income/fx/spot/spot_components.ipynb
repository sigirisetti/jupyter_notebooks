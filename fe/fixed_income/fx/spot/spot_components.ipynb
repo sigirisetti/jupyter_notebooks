{
 "cells": [
  {
   "cell_type": "markdown",
   "metadata": {},
   "source": [
    "# Spot Components with event order\n",
    "\n",
    "* Reference Price Collar\n",
    "* Arb (Price/Enable/Disable) Check Config\n",
    "* Feed Configs\n",
    "* Spot Pricing Config\n",
    "* TOB Spread basis pt \n",
    "* DOB Spread basis pt \n",
    "* Market Spread Calc\n",
    "* Primary Market Spread Calc\n",
    "* Realized Vol Calc (purely returns vol)\n",
    "* Target Spread Calc\n",
    "* Market Readiness Calc\n",
    "* CME Mkt Status\n",
    "* Future Implied Spot\n",
    "* Quote Mid Calc\n",
    "* Trade Mid Calc\n",
    "* Core Mid Calc\n",
    "* Mid Uncertainity\n",
    "* Event Shock Calc\n",
    "* Realized Volatility Component (Composite of vol and event shock)\n",
    "* Currency Pair Position Calc\n",
    "* Event Spread Calc\n",
    "* Max Quote Size Component\n",
    "* Expected Risk calc\n",
    "* Spread Factors Calc\n",
    "* Feed Config \n",
    "* Large Size Spread Calc\n",
    "* Vol Spread Calc\n",
    "* Base Price Constructor\n",
    "* Skew Spread Calc\n",
    "* Feed Price Constructor\n",
    "* Order Spread Adjust Component\n",
    "* Liquidity Throttling\n",
    "* Price Ladder to Order Converter\n",
    "* Order Price Quantize\n",
    "* Price Throttling\n",
    "* Peak Throttling\n",
    "* Spot Price Publishing\n",
    "* Vol Publishing\n",
    "* Intent Calc\n",
    "* Intent Before Ready Adjust\n",
    "* Intent Throttling\n",
    "* Intent Peak Throttling\n",
    "* Intent Publishing"
   ]
  },
  {
   "cell_type": "code",
   "execution_count": null,
   "metadata": {},
   "outputs": [],
   "source": []
  }
 ],
 "metadata": {
  "kernelspec": {
   "display_name": "Python 3",
   "language": "python",
   "name": "python3"
  },
  "language_info": {
   "codemirror_mode": {
    "name": "ipython",
    "version": 3
   },
   "file_extension": ".py",
   "mimetype": "text/x-python",
   "name": "python",
   "nbconvert_exporter": "python",
   "pygments_lexer": "ipython3",
   "version": "3.7.3"
  }
 },
 "nbformat": 4,
 "nbformat_minor": 4
}
