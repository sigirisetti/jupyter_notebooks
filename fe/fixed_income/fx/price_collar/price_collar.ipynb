{
 "cells": [
  {
   "cell_type": "markdown",
   "metadata": {},
   "source": [
    "# Reference Price Collar\n",
    "\n",
    "This is static price configured in property files or db\n",
    "\n",
    "Reference Price and percentage of price collar should be statically configured\n"
   ]
  },
  {
   "cell_type": "code",
   "execution_count": 1,
   "metadata": {},
   "outputs": [
    {
     "name": "stdout",
     "output_type": "stream",
     "text": [
      "(10.0, 30.0)\n"
     ]
    }
   ],
   "source": [
    "ref_price = 20\n",
    "collar_percent = 50\n",
    "\n",
    "def calculate_price_collar():\n",
    "    minPriceCollar = ref_price * (1.0 - collar_percent / 100.0)\n",
    "    maxPriceCollar = ref_price * (1.0 + collar_percent / 100.0)\n",
    "    return (minPriceCollar, maxPriceCollar)\n",
    "\n",
    "print(calculate_price_collar())\n",
    "    "
   ]
  }
 ],
 "metadata": {
  "kernelspec": {
   "display_name": "Python 3",
   "language": "python",
   "name": "python3"
  },
  "language_info": {
   "codemirror_mode": {
    "name": "ipython",
    "version": 3
   },
   "file_extension": ".py",
   "mimetype": "text/x-python",
   "name": "python",
   "nbconvert_exporter": "python",
   "pygments_lexer": "ipython3",
   "version": "3.8.5"
  }
 },
 "nbformat": 4,
 "nbformat_minor": 4
}
