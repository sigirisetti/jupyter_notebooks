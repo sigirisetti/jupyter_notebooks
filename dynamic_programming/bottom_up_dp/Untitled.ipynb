{
 "cells": [
  {
   "cell_type": "markdown",
   "id": "6b18ce97-3d29-499a-9db0-04f7d025cff8",
   "metadata": {},
   "source": [
    "# Flower Box\n",
    "\n",
    "\n",
    "## this is similar to fibonnaci bottom up DP approach"
   ]
  },
  {
   "cell_type": "code",
   "execution_count": 2,
   "id": "eff5fd10-f965-4900-9125-fadec831ec67",
   "metadata": {},
   "outputs": [
    {
     "name": "stdout",
     "output_type": "stream",
     "text": [
      "flowerbox([3, 10, 3, 1, 2]) == 12\n",
      "flowerbox([9, 10, 9]) == 18\n"
     ]
    }
   ],
   "source": [
    "def flowerbox(nutrient_values):\n",
    "    a = 0\n",
    "    b = 0\n",
    "    for val in nutrient_values:\n",
    "        a, b = b, max(a+val, b)\n",
    "    return b\n",
    "\n",
    "if __name__ == '__main__':\n",
    "    print(f'flowerbox([3, 10, 3, 1, 2]) == {flowerbox([3, 10, 3, 1, 2])}')    \n",
    "    print(f'flowerbox([9, 10, 9]) == {flowerbox([9, 10, 9])}')"
   ]
  },
  {
   "cell_type": "code",
   "execution_count": null,
   "id": "ad5957d6-d069-4e1b-9c95-19718ec12f82",
   "metadata": {},
   "outputs": [],
   "source": []
  }
 ],
 "metadata": {
  "kernelspec": {
   "display_name": "Python 3",
   "language": "python",
   "name": "python3"
  },
  "language_info": {
   "codemirror_mode": {
    "name": "ipython",
    "version": 3
   },
   "file_extension": ".py",
   "mimetype": "text/x-python",
   "name": "python",
   "nbconvert_exporter": "python",
   "pygments_lexer": "ipython3",
   "version": "3.8.8"
  }
 },
 "nbformat": 4,
 "nbformat_minor": 5
}
