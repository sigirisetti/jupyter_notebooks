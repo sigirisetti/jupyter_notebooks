{
 "cells": [
  {
   "cell_type": "markdown",
   "metadata": {},
   "source": [
    "# Date Operations\n",
    "\n",
    "Python's standard library's datetime module is deliberately limited to non-controversial aspects that aren't changing all the time by legislative fiat -- that's why it deliberately excludes direct support for timezones, DST, fuzzy parsing and ill-defined arithmetic (such as \"one month later\"...) and the like. On top of it, <b>dateutil</b> for many kinds of manipulations, and <b>pytz</b> for timezones (including DST issues), add most of what you're asking for, though not extremely explosive things like \"holidays\" which vary so wildly not just across political jurisdictions but even across employers within a simgle jurisdiction (e.g. in the US some employers consider \"Columbus Day\" a holiday, but many don't -- and some, with offices in many locations, have it as a holiday on some locations but not in others; given this utter, total chaos, to expect to find a general-purpose library that somehow magically makes sense of the chaos is pretty weird)"
   ]
  },
  {
   "cell_type": "code",
   "execution_count": 2,
   "metadata": {},
   "outputs": [
    {
     "name": "stdout",
     "output_type": "stream",
     "text": [
      "39\n"
     ]
    }
   ],
   "source": [
    "from datetime import date\n",
    "\n",
    "d0 = date(2008, 8, 18)\n",
    "d1 = date(2008, 9, 26)\n",
    "delta = d1 - d0\n",
    "print(delta.days)"
   ]
  },
  {
   "cell_type": "markdown",
   "metadata": {},
   "source": [
    "## dateutil package\n",
    "\n",
    "* Computing of relative deltas (next month, next year, next monday, last week of month, etc);\n",
    "* Computing of relative deltas between two given date and/or datetime objects;\n",
    "* Computing of dates based on very flexible recurrence rules, using a superset of the\n",
    "* Generic parsing of dates in almost any string format;\n",
    "* Timezone (tzinfo) implementations for tzfile(5) format files (/etc/localtime, /usr/share/zoneinfo, etc), TZ environment string (in all known formats), iCalendar format files, given ranges (with help from relative deltas), local machine timezone, fixed offset timezone, UTC timezone, and Windows registry-based time zones.\n",
    "* Internal up-to-date world timezone information based on Olson's database.\n",
    "* Computing of Easter Sunday dates for any given year, using Western, Orthodox or Julian algorithms;\n",
    "* More than 400 test cases.\n",
    "\n",
    "Suppose you want to know how much time is left, in years/months/days/etc, before the next easter happening on a year with a Friday 13th in August, and you want to get today's date out of the \"date\" unix system command. Here is the code:"
   ]
  },
  {
   "cell_type": "code",
   "execution_count": 7,
   "metadata": {},
   "outputs": [
    {
     "name": "stdout",
     "output_type": "stream",
     "text": [
      "Today is: 2018-03-26\n",
      "Year with next Aug 13th on a Friday is: 2021\n",
      "How far is the Easter of that year: relativedelta(years=+3, days=+9)\n",
      "And the Easter of that year is: 2021-04-04\n"
     ]
    }
   ],
   "source": [
    "from dateutil.relativedelta import *\n",
    "from dateutil.easter import *\n",
    "from dateutil.rrule import *\n",
    "from dateutil.parser import *\n",
    "from datetime import *\n",
    "import os\n",
    "now = parse(\"3/26/2018\")\n",
    "today = now.date()\n",
    "year = rrule(YEARLY,bymonth=8,bymonthday=13,byweekday=FR)[0].year\n",
    "rdelta = relativedelta(easter(year), today)\n",
    "print(\"Today is:\", today)\n",
    "print(\"Year with next Aug 13th on a Friday is:\", year)\n",
    "print(\"How far is the Easter of that year:\", rdelta)\n",
    "print(\"And the Easter of that year is:\", today+rdelta)"
   ]
  },
  {
   "cell_type": "markdown",
   "metadata": {},
   "source": [
    "### Full timestamp and Date only"
   ]
  },
  {
   "cell_type": "code",
   "execution_count": 8,
   "metadata": {},
   "outputs": [
    {
     "name": "stdout",
     "output_type": "stream",
     "text": [
      "2018-03-26 13:11:28.064193\n",
      "2018-03-26\n"
     ]
    }
   ],
   "source": [
    "from datetime import *\n",
    "from dateutil.relativedelta import *\n",
    "import calendar\n",
    "\n",
    "NOW = datetime.now()\n",
    "TODAY = date.today()\n",
    "\n",
    "print(NOW)\n",
    "print(TODAY)"
   ]
  },
  {
   "cell_type": "markdown",
   "metadata": {},
   "source": [
    "### Add a month"
   ]
  },
  {
   "cell_type": "code",
   "execution_count": 10,
   "metadata": {},
   "outputs": [
    {
     "name": "stdout",
     "output_type": "stream",
     "text": [
      "2018-04-26 13:11:28.064193\n"
     ]
    }
   ],
   "source": [
    "print(NOW+relativedelta(months=+1))"
   ]
  },
  {
   "cell_type": "markdown",
   "metadata": {},
   "source": [
    "### Add a month and a week"
   ]
  },
  {
   "cell_type": "code",
   "execution_count": 12,
   "metadata": {},
   "outputs": [
    {
     "name": "stdout",
     "output_type": "stream",
     "text": [
      "2018-05-03 13:11:28.064193\n"
     ]
    }
   ],
   "source": [
    "print(NOW+relativedelta(months=+1, weeks=+1))"
   ]
  },
  {
   "cell_type": "markdown",
   "metadata": {},
   "source": [
    "### Add a month, a Week and 10 hours"
   ]
  },
  {
   "cell_type": "code",
   "execution_count": 14,
   "metadata": {},
   "outputs": [
    {
     "name": "stdout",
     "output_type": "stream",
     "text": [
      "2018-05-03 10:00:00\n"
     ]
    }
   ],
   "source": [
    "print(TODAY+relativedelta(months=+1, weeks=+1, hour=10))"
   ]
  },
  {
   "cell_type": "markdown",
   "metadata": {},
   "source": [
    "### Next Friday"
   ]
  },
  {
   "cell_type": "code",
   "execution_count": 15,
   "metadata": {},
   "outputs": [
    {
     "name": "stdout",
     "output_type": "stream",
     "text": [
      "2018-03-30\n"
     ]
    }
   ],
   "source": [
    "print(TODAY+relativedelta(weekday=FR(+1)))"
   ]
  },
  {
   "cell_type": "markdown",
   "metadata": {},
   "source": [
    "### How old is Surya?"
   ]
  },
  {
   "cell_type": "code",
   "execution_count": 17,
   "metadata": {},
   "outputs": [
    {
     "data": {
      "text/plain": [
       "relativedelta(years=+41, months=+1, days=+18, hours=+5, minutes=+41, seconds=+28, microseconds=+64193)"
      ]
     },
     "execution_count": 17,
     "metadata": {},
     "output_type": "execute_result"
    }
   ],
   "source": [
    "suryabirthday = datetime(1977, 2, 8, 7, 30)\n",
    "relativedelta(NOW, suryabirthday)"
   ]
  },
  {
   "cell_type": "code",
   "execution_count": null,
   "metadata": {},
   "outputs": [],
   "source": []
  }
 ],
 "metadata": {
  "kernelspec": {
   "display_name": "Python 3",
   "language": "python",
   "name": "python3"
  },
  "language_info": {
   "codemirror_mode": {
    "name": "ipython",
    "version": 3
   },
   "file_extension": ".py",
   "mimetype": "text/x-python",
   "name": "python",
   "nbconvert_exporter": "python",
   "pygments_lexer": "ipython3",
   "version": "3.6.3"
  }
 },
 "nbformat": 4,
 "nbformat_minor": 2
}
