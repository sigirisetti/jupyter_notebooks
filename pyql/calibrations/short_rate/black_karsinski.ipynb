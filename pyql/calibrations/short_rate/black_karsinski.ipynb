{
 "cells": [
  {
   "cell_type": "markdown",
   "id": "0f743b94-aeac-47dc-87fe-083fbdec7d6b",
   "metadata": {},
   "source": [
    "# Black Karasinski Model\n",
    "\n",
    "In financial mathematics, the Black–Karasinski model is a mathematical model of the term structure of interest rates; see short-rate model. It is a one-factor model as it describes interest rate movements as driven by a single source of randomness. It belongs to the class of no-arbitrage models, i.e. it can fit today's zero-coupon bond prices, and in its most general form, today's prices for a set of caps, floors or European swaptions. The model was introduced by Fischer Black and Piotr Karasinski in 1991.\n",
    "\n",
    "\n",
    "## Hull white Model Variations\n",
    "\n",
    "$d ln(r_t) = \\big(\\theta(t) - a\\cdot ln(r(t))\\big) dt + \\sigma_t dW_t$\n",
    "\n",
    "\n",
    "where \n",
    "- $a$ is the mean reversion constant, \n",
    "- $\\sigma$ is the volatility parameter. \n",
    "- The parameter $\\theta(t)$ is chosen in order to fit the input term structure of interest rates.\n",
    "\n",
    "What is the **\"right\" value for parameters $a$ and $\\sigma$**? This is the question that we address by calibrating to market instruments.\n",
    "\n",
    "The model implies a log-normal distribution for the short rate and therefore the expected value of the money-market account is infinite for any maturity.\n",
    "\n",
    "In the **original article by Fischer Black and Piotr Karasinski the model was implemented using a binomial tree with variable spacing, but a trinomial tree implementation is more common in practice**, typically a log-normal application of the Hull–White lattice.\n"
   ]
  },
  {
   "cell_type": "code",
   "execution_count": 11,
   "id": "5664c405-6fd7-4941-8b5a-18f3d1618eac",
   "metadata": {},
   "outputs": [],
   "source": [
    "import QuantLib as ql\n",
    "from collections import namedtuple\n",
    "import math\n",
    "import calibration_helper"
   ]
  },
  {
   "cell_type": "code",
   "execution_count": 12,
   "id": "06617a8b-18ed-4409-90f2-1a5f731744af",
   "metadata": {},
   "outputs": [],
   "source": [
    "today = ql.Date(15, ql.February, 2002);\n",
    "settlement= ql.Date(19, ql.February, 2002);\n",
    "ql.Settings.instance().evaluationDate = today;\n",
    "term_structure = ql.YieldTermStructureHandle(ql.FlatForward(settlement,0.04875825,ql.Actual365Fixed()))\n",
    "index = ql.Euribor1Y(term_structure)"
   ]
  },
  {
   "cell_type": "code",
   "execution_count": 13,
   "id": "a7ed3c40-d4ae-4411-83fa-283481f1dc7d",
   "metadata": {},
   "outputs": [],
   "source": [
    "CalibrationData = namedtuple(\"CalibrationData\", \n",
    "                             \"start, length, volatility\")\n",
    "data = [CalibrationData(1, 5, 0.1148),\n",
    "        CalibrationData(2, 4, 0.1108),\n",
    "        CalibrationData(3, 3, 0.1070),\n",
    "        CalibrationData(4, 2, 0.1021),\n",
    "        CalibrationData(5, 1, 0.1000 )]"
   ]
  },
  {
   "cell_type": "code",
   "execution_count": 14,
   "id": "70c0141a-4391-48ef-bbce-e613abdd69bd",
   "metadata": {},
   "outputs": [
    {
     "name": "stdout",
     "output_type": "stream",
     "text": [
      "a = 0.03949, sigma = 0.11678\n"
     ]
    }
   ],
   "source": [
    "model = ql.BlackKarasinski(term_structure);\n",
    "engine = ql.TreeSwaptionEngine(model, 100)\n",
    "swaptions = calibration_helper.create_swaption_helpers(data, index, term_structure, engine)\n",
    "\n",
    "optimization_method = ql.LevenbergMarquardt(1.0e-8,1.0e-8,1.0e-8)\n",
    "end_criteria = ql.EndCriteria(10000, 100, 1e-6, 1e-8, 1e-8)\n",
    "model.calibrate(swaptions, optimization_method, end_criteria)\n",
    "\n",
    "a, sigma = model.params()\n",
    "print(\"a = %6.5f, sigma = %6.5f\" % (a, sigma))"
   ]
  },
  {
   "cell_type": "code",
   "execution_count": 15,
   "id": "54caf110-71d5-4f1a-b622-3dcafc16d728",
   "metadata": {
    "tags": []
   },
   "outputs": [
    {
     "name": "stdout",
     "output_type": "stream",
     "text": [
      "----------------------------------------------------------------------------------\n",
      "    Model Price    Market Price     Implied Vol      Market Vol       Rel Error\n",
      "----------------------------------------------------------------------------------\n",
      "        0.00870         0.00949         0.10531         0.11480        -0.08262\n",
      "        0.00967         0.01008         0.10629         0.11080        -0.04062\n",
      "        0.00867         0.00872         0.10643         0.10700        -0.00533\n",
      "        0.00650         0.00623         0.10664         0.10210         0.04426\n",
      "        0.00355         0.00332         0.10701         0.10000         0.06978\n",
      "----------------------------------------------------------------------------------\n",
      "Cumulative Error :         0.12415\n"
     ]
    }
   ],
   "source": [
    "calibration_helper.calibration_report(swaptions, data)"
   ]
  }
 ],
 "metadata": {
  "kernelspec": {
   "display_name": "Python 3 (ipykernel)",
   "language": "python",
   "name": "python3"
  },
  "language_info": {
   "codemirror_mode": {
    "name": "ipython",
    "version": 3
   },
   "file_extension": ".py",
   "mimetype": "text/x-python",
   "name": "python",
   "nbconvert_exporter": "python",
   "pygments_lexer": "ipython3",
   "version": "3.11.3"
  }
 },
 "nbformat": 4,
 "nbformat_minor": 5
}
