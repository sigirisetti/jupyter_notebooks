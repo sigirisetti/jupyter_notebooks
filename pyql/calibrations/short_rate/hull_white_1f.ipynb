{
 "cells": [
  {
   "cell_type": "markdown",
   "id": "b1733958-456b-4381-8442-669e736144a2",
   "metadata": {},
   "source": [
    "# Hull-White 1 Factor Model\n",
    "\n",
    "Hull-White model was one of the first practical exogenous models that attempted to fit to the market interest rate term structures. The model is described as:\n",
    "\n",
    "\n",
    "## Hull white Model Variations\n",
    "\n",
    "$dr_t = \\big(\\theta(t) - a r(t)\\big) dt + \\sigma_t dW_t$\n",
    "\n",
    "$\\theta$  has t (time) dependence — the **Hull–White model**\n",
    "\n",
    "$dr_t = \\big(\\theta(t) - a (t) r(t)\\big) dt + \\sigma_t dW_t$\n",
    "\n",
    "$\\theta$ and $\\alpha$  are both time-dependent — the **extended Vasicek model**\n",
    "\n",
    "\n",
    "where \n",
    "- $a$ is the mean reversion constant, \n",
    "- $\\sigma$ is the volatility parameter. \n",
    "- The parameter $\\theta(t)$ is chosen in order to fit the input term structure of interest rates.\n",
    "\n",
    "What is the **\"right\" value for parameters $a$ and $\\sigma$**? This is the question that we address by calibrating to market instruments."
   ]
  },
  {
   "cell_type": "code",
   "execution_count": 19,
   "id": "548a3ed6-b0df-4736-965e-265468d0f5be",
   "metadata": {
    "tags": []
   },
   "outputs": [],
   "source": [
    "import QuantLib as ql\n",
    "from collections import namedtuple\n",
    "import math\n",
    "import calibration_helper"
   ]
  },
  {
   "cell_type": "code",
   "execution_count": 20,
   "id": "cd6e9526-e937-406c-bb67-a6f252e3ef15",
   "metadata": {
    "tags": []
   },
   "outputs": [],
   "source": [
    "today = ql.Date(15, ql.February, 2002);\n",
    "settlement= ql.Date(19, ql.February, 2002);\n",
    "ql.Settings.instance().evaluationDate = today;\n",
    "term_structure = ql.YieldTermStructureHandle(ql.FlatForward(settlement,0.04875825,ql.Actual365Fixed()))\n",
    "index = ql.Euribor1Y(term_structure)"
   ]
  },
  {
   "cell_type": "code",
   "execution_count": 21,
   "id": "ac1d9c1c-6cfc-47f4-9703-14f765d6684d",
   "metadata": {
    "tags": []
   },
   "outputs": [],
   "source": [
    "CalibrationData = namedtuple(\"CalibrationData\", \n",
    "                             \"start, length, volatility\")\n",
    "data = [CalibrationData(1, 5, 0.1148),\n",
    "        CalibrationData(2, 4, 0.1108),\n",
    "        CalibrationData(3, 3, 0.1070),\n",
    "        CalibrationData(4, 2, 0.1021),\n",
    "        CalibrationData(5, 1, 0.1000 )]"
   ]
  },
  {
   "cell_type": "code",
   "execution_count": 22,
   "id": "f2ea7261-0ee9-4ac4-92d5-4c8043983634",
   "metadata": {},
   "outputs": [
    {
     "name": "stdout",
     "output_type": "stream",
     "text": [
      "a = 0.04642, sigma = 0.00580\n"
     ]
    }
   ],
   "source": [
    "model = ql.HullWhite(term_structure);\n",
    "engine = ql.JamshidianSwaptionEngine(model)\n",
    "swaptions = calibration_helper.create_swaption_helpers(data, index, term_structure, engine)\n",
    "\n",
    "optimization_method = ql.LevenbergMarquardt(1.0e-8,1.0e-8,1.0e-8)\n",
    "end_criteria = ql.EndCriteria(10000, 100, 1e-6, 1e-8, 1e-8)\n",
    "model.calibrate(swaptions, optimization_method, end_criteria)\n",
    "\n",
    "a, sigma = model.params()\n",
    "print(\"a = %6.5f, sigma = %6.5f\" % (a, sigma))"
   ]
  },
  {
   "cell_type": "code",
   "execution_count": 23,
   "id": "334b70ab-4961-49bc-8c70-74542b2dc4b2",
   "metadata": {
    "tags": []
   },
   "outputs": [
    {
     "name": "stdout",
     "output_type": "stream",
     "text": [
      "----------------------------------------------------------------------------------\n",
      "    Model Price    Market Price     Implied Vol      Market Vol       Rel Error\n",
      "----------------------------------------------------------------------------------\n",
      "        0.00878         0.00949         0.10620         0.11480        -0.07485\n",
      "        0.00967         0.01008         0.10629         0.11080        -0.04061\n",
      "        0.00866         0.00872         0.10634         0.10700        -0.00614\n",
      "        0.00649         0.00623         0.10644         0.10210         0.04237\n",
      "        0.00354         0.00332         0.10661         0.10000         0.06582\n",
      "----------------------------------------------------------------------------------\n",
      "Cumulative Error :         0.11614\n"
     ]
    }
   ],
   "source": [
    "calibration_helper.calibration_report(swaptions, data)"
   ]
  },
  {
   "cell_type": "code",
   "execution_count": null,
   "id": "4e156ec8-f7c0-4cb8-a4e5-d3a4efd6e13d",
   "metadata": {},
   "outputs": [],
   "source": []
  }
 ],
 "metadata": {
  "kernelspec": {
   "display_name": "Python 3 (ipykernel)",
   "language": "python",
   "name": "python3"
  },
  "language_info": {
   "codemirror_mode": {
    "name": "ipython",
    "version": 3
   },
   "file_extension": ".py",
   "mimetype": "text/x-python",
   "name": "python",
   "nbconvert_exporter": "python",
   "pygments_lexer": "ipython3",
   "version": "3.11.3"
  }
 },
 "nbformat": 4,
 "nbformat_minor": 5
}
