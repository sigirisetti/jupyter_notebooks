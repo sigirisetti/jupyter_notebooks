{
 "cells": [
  {
   "cell_type": "markdown",
   "id": "7ecfbcff-31e1-442f-89ab-b854a8723932",
   "metadata": {},
   "source": [
    "# G2++ Model\n",
    "\n",
    "As a final example, let us look at a calibration example of the 2-factor G2++ model.\n",
    "\n",
    "$drt = \\phi(t)+ x_t+ y_t$\n",
    "\n",
    "where $x_t$ and $y_t$ are defined by\n",
    "\n",
    "$dx_t = −a x_t dt + \\sigma dW^1_t$\n",
    "\n",
    "$dy_t = −b y_t dt + \\eta dW^2_t$\n",
    "\n",
    "$⟨dW^1_t dW^2_t⟩= \\rho dt$\n",
    "\n",
    "Once again, we use the TreeSwaptionEngine to value the swaptions in the calibration step."
   ]
  },
  {
   "cell_type": "code",
   "execution_count": 1,
   "id": "e33cac72-ab0a-4ecf-853f-77fd1996b410",
   "metadata": {},
   "outputs": [],
   "source": [
    "import QuantLib as ql\n",
    "from collections import namedtuple\n",
    "import math\n",
    "import calibration_helper"
   ]
  },
  {
   "cell_type": "code",
   "execution_count": 2,
   "id": "5e4f651e-5c28-4bc3-a28d-65ed6fc8cb3e",
   "metadata": {},
   "outputs": [],
   "source": [
    "today = ql.Date(15, ql.February, 2002);\n",
    "settlement= ql.Date(19, ql.February, 2002);\n",
    "ql.Settings.instance().evaluationDate = today;\n",
    "term_structure = ql.YieldTermStructureHandle(ql.FlatForward(settlement,0.04875825,ql.Actual365Fixed()))\n",
    "index = ql.Euribor1Y(term_structure)"
   ]
  },
  {
   "cell_type": "code",
   "execution_count": 3,
   "id": "a40156c7-80a6-4510-8ee8-432b4dba6552",
   "metadata": {},
   "outputs": [],
   "source": [
    "CalibrationData = namedtuple(\"CalibrationData\", \n",
    "                             \"start, length, volatility\")\n",
    "data = [CalibrationData(1, 5, 0.1148),\n",
    "        CalibrationData(2, 4, 0.1108),\n",
    "        CalibrationData(3, 3, 0.1070),\n",
    "        CalibrationData(4, 2, 0.1021),\n",
    "        CalibrationData(5, 1, 0.1000 )]"
   ]
  },
  {
   "cell_type": "code",
   "execution_count": 4,
   "id": "b365a37e-be2a-486a-9614-a1a370bfd388",
   "metadata": {},
   "outputs": [
    {
     "name": "stdout",
     "output_type": "stream",
     "text": [
      "a = 0.04511, sigma = 0.00301, b = 0.04041, eta = 0.00473, rho = 0.03500 \n"
     ]
    }
   ],
   "source": [
    "model = ql.G2(term_structure)\n",
    "engine = ql.TreeSwaptionEngine(model, 25)\n",
    "# engine = ql.G2SwaptionEngine(model, 10, 400)\n",
    "# engine = ql.FdG2SwaptionEngine(model)\n",
    "\n",
    "swaptions = calibration_helper.create_swaption_helpers(data, index, term_structure, engine)\n",
    "\n",
    "optimization_method = ql.LevenbergMarquardt(1.0e-8,1.0e-8,1.0e-8)\n",
    "end_criteria = ql.EndCriteria(10000, 100, 1e-6, 1e-8, 1e-8)\n",
    "model.calibrate(swaptions, optimization_method, end_criteria)\n",
    "\n",
    "a, sigma, b, eta, rho = model.params()\n",
    "print(\"a = %6.5f, sigma = %6.5f, b = %6.5f, eta = %6.5f, rho = %6.5f \" % (a, sigma, b, eta, rho))\n"
   ]
  },
  {
   "cell_type": "code",
   "execution_count": 5,
   "id": "7704d02a-dc91-4b41-a350-c3403110345c",
   "metadata": {
    "tags": []
   },
   "outputs": [
    {
     "name": "stdout",
     "output_type": "stream",
     "text": [
      "----------------------------------------------------------------------------------\n",
      "    Model Price    Market Price     Implied Vol      Market Vol       Rel Error\n",
      "----------------------------------------------------------------------------------\n",
      "        0.00869         0.00949         0.10515         0.11480        -0.08394\n",
      "        0.00967         0.01008         0.10631         0.11080        -0.04043\n",
      "        0.00867         0.00872         0.10640         0.10700        -0.00563\n",
      "        0.00650         0.00623         0.10662         0.10210         0.04414\n",
      "        0.00356         0.00332         0.10705         0.10000         0.07013\n",
      "----------------------------------------------------------------------------------\n",
      "Cumulative Error :         0.12514\n"
     ]
    }
   ],
   "source": [
    "calibration_helper.calibration_report(swaptions, data)"
   ]
  }
 ],
 "metadata": {
  "kernelspec": {
   "display_name": "Python 3 (ipykernel)",
   "language": "python",
   "name": "python3"
  },
  "language_info": {
   "codemirror_mode": {
    "name": "ipython",
    "version": 3
   },
   "file_extension": ".py",
   "mimetype": "text/x-python",
   "name": "python",
   "nbconvert_exporter": "python",
   "pygments_lexer": "ipython3",
   "version": "3.11.3"
  }
 },
 "nbformat": 4,
 "nbformat_minor": 5
}
