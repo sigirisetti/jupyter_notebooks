{
 "cells": [
  {
   "cell_type": "markdown",
   "id": "4fc657b4-5e0a-424b-9ab0-9a6b9a0511e3",
   "metadata": {},
   "source": [
    "# Interest Rates"
   ]
  },
  {
   "cell_type": "markdown",
   "id": "510e21dd-859b-4008-ac45-ee8dd980008c",
   "metadata": {},
   "source": [
    "The InterestRate class can be used to store the interest rate with the compounding type, day count and the frequency of compounding. Below we show how to create an interest rate of 5.0% compounded annually, using Actual/Actual day count convention."
   ]
  },
  {
   "cell_type": "code",
   "execution_count": 3,
   "id": "c8d2fc0a-0907-4408-9a80-2107e7b7d234",
   "metadata": {
    "tags": []
   },
   "outputs": [],
   "source": [
    "import QuantLib as ql\n",
    "\n",
    "\n",
    "annualRate = 0.05\n",
    "dayCount = ql.ActualActual(ql.ActualActual.ISMA)\n",
    "compoundType = ql.Compounded\n",
    "frequency = ql.Annual\n",
    "interestRate = ql.InterestRate(annualRate, dayCount, compoundType, frequency)\n"
   ]
  },
  {
   "cell_type": "code",
   "execution_count": 5,
   "id": "cb4302e0-bca3-4bb0-a446-816fef53ec4c",
   "metadata": {
    "tags": []
   },
   "outputs": [
    {
     "name": "stdout",
     "output_type": "stream",
     "text": [
      "1.1025\n",
      "1.1025\n",
      "0.9070294784580498\n",
      "0.9070294784580498\n"
     ]
    }
   ],
   "source": [
    "print(interestRate.compoundFactor(2.0))\n",
    "print((1.0 + annualRate)*(1.0 + annualRate))\n",
    "print(interestRate.discountFactor(2.0))\n",
    "print(1.0 / interestRate.compoundFactor(2.0))"
   ]
  },
  {
   "cell_type": "code",
   "execution_count": 6,
   "id": "cee7ba48-1577-4dfb-8148-934b4da7629e",
   "metadata": {
    "tags": []
   },
   "outputs": [
    {
     "name": "stdout",
     "output_type": "stream",
     "text": [
      "0.04939015319191986\n"
     ]
    }
   ],
   "source": [
    "newFrequency = ql.Semiannual\n",
    "effectiveRate = interestRate.equivalentRate(compoundType, newFrequency, 1)\n",
    "print(effectiveRate.rate())"
   ]
  },
  {
   "cell_type": "code",
   "execution_count": 7,
   "id": "2f2a9c3d-59b3-4296-b199-e8254bb52306",
   "metadata": {
    "tags": []
   },
   "outputs": [
    {
     "name": "stdout",
     "output_type": "stream",
     "text": [
      "0.9523809523809523\n",
      "0.9523809523809521\n"
     ]
    }
   ],
   "source": [
    "print(interestRate.discountFactor(1.0))\n",
    "print(effectiveRate.discountFactor(1.0))"
   ]
  },
  {
   "cell_type": "code",
   "execution_count": null,
   "id": "e93d1966-0b2f-4ad8-9243-e934611bf634",
   "metadata": {},
   "outputs": [],
   "source": []
  }
 ],
 "metadata": {
  "kernelspec": {
   "display_name": "Python 3 (ipykernel)",
   "language": "python",
   "name": "python3"
  },
  "language_info": {
   "codemirror_mode": {
    "name": "ipython",
    "version": 3
   },
   "file_extension": ".py",
   "mimetype": "text/x-python",
   "name": "python",
   "nbconvert_exporter": "python",
   "pygments_lexer": "ipython3",
   "version": "3.11.3"
  }
 },
 "nbformat": 4,
 "nbformat_minor": 5
}
