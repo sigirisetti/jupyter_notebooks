{
 "cells": [
  {
   "cell_type": "markdown",
   "id": "425ceea6-e693-43a3-b2fe-c8e541ade588",
   "metadata": {},
   "source": [
    "# Quantlib Basics"
   ]
  },
  {
   "cell_type": "code",
   "execution_count": 1,
   "id": "945f3d3e-f6f6-45bf-acf6-4a63bc122218",
   "metadata": {
    "tags": []
   },
   "outputs": [],
   "source": [
    "import QuantLib as ql"
   ]
  },
  {
   "cell_type": "markdown",
   "id": "a91ddca5-9a2a-4301-b31d-82401a2a4bd8",
   "metadata": {},
   "source": [
    "## Date and Time"
   ]
  },
  {
   "cell_type": "code",
   "execution_count": 6,
   "id": "69d5e484-3133-4aa1-86e0-78e6699021d5",
   "metadata": {
    "tags": []
   },
   "outputs": [
    {
     "name": "stdout",
     "output_type": "stream",
     "text": [
      "March 31st, 2015\n",
      "31\n",
      "3\n",
      "2015\n",
      "True\n"
     ]
    }
   ],
   "source": [
    "date = ql.Date(31, 3, 2015) # 31 March, 2015\n",
    "print(date)\n",
    "\n",
    "print(date.dayOfMonth())\n",
    "print(date.month())\n",
    "print(date.year())\n",
    "print(date.weekday() == ql.Tuesday)"
   ]
  },
  {
   "cell_type": "markdown",
   "id": "2a39e2b6-b29d-4798-875e-835f62e2c3b5",
   "metadata": {},
   "source": [
    "## arithmetic with dates"
   ]
  },
  {
   "cell_type": "code",
   "execution_count": 7,
   "id": "9b678bb1-a4d0-445a-ad56-1e794639a036",
   "metadata": {
    "tags": []
   },
   "outputs": [
    {
     "name": "stdout",
     "output_type": "stream",
     "text": [
      "April 1st, 2015\n",
      "March 30th, 2015\n",
      "April 30th, 2015\n",
      "April 7th, 2015\n",
      "March 31st, 2016\n",
      "True\n"
     ]
    }
   ],
   "source": [
    "print(date + 1)\n",
    "print(date - 1)\n",
    "print(date + ql.Period(1, ql.Months))\n",
    "print(date + ql.Period(1, ql.Weeks))\n",
    "print(date + ql.Period(1, ql.Years))\n",
    "print(ql.Date(31, 3, 2015) > ql.Date(1, 3, 2015))"
   ]
  }
 ],
 "metadata": {
  "kernelspec": {
   "display_name": "Python 3 (ipykernel)",
   "language": "python",
   "name": "python3"
  },
  "language_info": {
   "codemirror_mode": {
    "name": "ipython",
    "version": 3
   },
   "file_extension": ".py",
   "mimetype": "text/x-python",
   "name": "python",
   "nbconvert_exporter": "python",
   "pygments_lexer": "ipython3",
   "version": "3.11.3"
  }
 },
 "nbformat": 4,
 "nbformat_minor": 5
}
