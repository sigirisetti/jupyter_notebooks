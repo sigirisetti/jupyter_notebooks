{
 "cells": [
  {
   "cell_type": "markdown",
   "id": "2256bb20-0b4a-40e2-90f3-9133de1af25b",
   "metadata": {},
   "source": [
    "# Interest Rate Term Structure"
   ]
  },
  {
   "cell_type": "markdown",
   "id": "152c0c25-9a5c-4cea-a4f2-2597e8e228d8",
   "metadata": {},
   "source": [
    "Term structure is pivotal to pricing securities. One would need a YieldTermStructure object created in QuantLib to use with pricing engines."
   ]
  },
  {
   "cell_type": "code",
   "execution_count": 3,
   "id": "21c4cb46-7974-4e0b-a1ad-f39ec797fcb8",
   "metadata": {
    "tags": []
   },
   "outputs": [],
   "source": [
    "import QuantLib as ql\n",
    "\n",
    "def print_curve(xlist, ylist, precision=3):\n",
    "    \"\"\"\n",
    "    Method to print curve in a nice format\n",
    "    \"\"\"\n",
    "    print(\"----------------------\")\n",
    "    print(\"Maturities\\tCurve\")\n",
    "    print(\"----------------------\")\n",
    "    for x,y in zip(xlist, ylist):\n",
    "        print(x,\"\\t\\t\", round(y, precision))\n",
    "    print(\"----------------------\")\n",
    "    \n",
    "    "
   ]
  },
  {
   "cell_type": "markdown",
   "id": "71938f4e-953f-4798-aa8b-99d8b6d7d095",
   "metadata": {},
   "source": [
    "The deposit rates and fixed rate bond rates are provided below. This example is based on Exhibit 5-5 given in Frank Fabozzi's Bond Markets, Analysis and Strategies, Sixth Edition.\n",
    "\n"
   ]
  },
  {
   "cell_type": "code",
   "execution_count": 4,
   "id": "bbec482c-9758-4e24-9cf0-a0529c0e0772",
   "metadata": {
    "tags": []
   },
   "outputs": [
    {
     "name": "stdout",
     "output_type": "stream",
     "text": [
      "----------------------\n",
      "Maturities\tCurve\n",
      "----------------------\n",
      "6M \t\t 5.25\n",
      "12M \t\t 5.5\n",
      "18M \t\t 5.75\n",
      "24M \t\t 6.0\n",
      "30M \t\t 6.25\n",
      "36M \t\t 6.5\n",
      "42M \t\t 6.75\n",
      "48M \t\t 6.8\n",
      "54M \t\t 7.0\n",
      "60M \t\t 7.1\n",
      "66M \t\t 7.15\n",
      "72M \t\t 7.2\n",
      "78M \t\t 7.3\n",
      "84M \t\t 7.35\n",
      "90M \t\t 7.4\n",
      "96M \t\t 7.5\n",
      "102M \t\t 7.6\n",
      "108M \t\t 7.6\n",
      "114M \t\t 7.7\n",
      "120M \t\t 7.8\n",
      "----------------------\n"
     ]
    }
   ],
   "source": [
    "# Deposit rates\n",
    "depo_maturities = [ql.Period(6,ql.Months), ql.Period(12, ql.Months)]\n",
    "depo_rates = [5.25, 5.5]\n",
    "\n",
    "# Bond rates\n",
    "bond_maturities = [ql.Period(6*i, ql.Months) for i in range(3,21)]\n",
    "bond_rates = [5.75, 6.0, 6.25, 6.5, 6.75, 6.80, 7.00, 7.1, 7.15,\n",
    "              7.2, 7.3, 7.35, 7.4, 7.5, 7.6, 7.6, 7.7, 7.8]\n",
    "\n",
    "print_curve(depo_maturities+bond_maturities, depo_rates+bond_rates)"
   ]
  },
  {
   "cell_type": "code",
   "execution_count": 6,
   "id": "a733a52e-3146-4f67-a0cb-3f57bc091566",
   "metadata": {
    "tags": []
   },
   "outputs": [],
   "source": [
    "# some constants and conventions\n",
    "# here we just assume for the sake of example\n",
    "# that some of the constants are the same for\n",
    "# depo rates and bond rates\n",
    "\n",
    "calc_date = ql.Date(15, 1, 2015)\n",
    "ql.Settings.instance().evaluationDate = calc_date\n",
    "\n",
    "calendar = ql.UnitedStates(ql.UnitedStates.NYSE)\n",
    "bussiness_convention = ql.Unadjusted\n",
    "day_count = ql.Thirty360(ql.Thirty360.BondBasis)\n",
    "end_of_month = True\n",
    "settlement_days = 0\n",
    "face_amount = 100\n",
    "coupon_frequency = ql.Period(ql.Semiannual)\n",
    "settlement_days = 0"
   ]
  },
  {
   "cell_type": "markdown",
   "id": "64a079fc-881a-49a8-8fa0-ba3de5f9a4f0",
   "metadata": {},
   "source": [
    "The basic idea of bootstrapping using QuantLib is to use the deposit rates and bond rates to create individual helpers. Then use the combination of the two helpers to construct the yield curve."
   ]
  },
  {
   "cell_type": "code",
   "execution_count": 7,
   "id": "85d191d0-a0d4-4409-9d0a-be2c16839ef0",
   "metadata": {
    "tags": []
   },
   "outputs": [],
   "source": [
    "# create deposit rate helpers from depo_rates\n",
    "depo_helpers = [ql.DepositRateHelper(ql.QuoteHandle(ql.SimpleQuote(r/100.0)),\n",
    "                                     m,\n",
    "                                     settlement_days,\n",
    "                                     calendar,\n",
    "                                     bussiness_convention,\n",
    "                                     end_of_month,\n",
    "                                     day_count )\n",
    "                for r, m in zip(depo_rates, depo_maturities)]"
   ]
  },
  {
   "cell_type": "markdown",
   "id": "3c3988e0-7dcf-4775-a88a-f078eadc1b29",
   "metadata": {},
   "source": [
    "The rest of the points are coupon bonds. We assume that the YTM given for the bonds are all par rates. So we have bonds with coupon rate same as the YTM."
   ]
  },
  {
   "cell_type": "code",
   "execution_count": 8,
   "id": "b24430e8-6997-4a15-8df2-dabccbcc406e",
   "metadata": {
    "tags": []
   },
   "outputs": [],
   "source": [
    "# create fixed rate bond helpers from fixed rate bonds\n",
    "bond_helpers = []\n",
    "for r, m in zip(bond_rates, bond_maturities):\n",
    "    termination_date = calc_date + m\n",
    "    schedule = ql.Schedule(calc_date,\n",
    "                   termination_date,\n",
    "                   coupon_frequency,\n",
    "                   calendar,\n",
    "                   bussiness_convention,\n",
    "                   bussiness_convention,\n",
    "                   ql.DateGeneration.Backward,\n",
    "                   end_of_month)\n",
    "\n",
    "    helper = ql.FixedRateBondHelper(ql.QuoteHandle(ql.SimpleQuote(face_amount)),\n",
    "                                        settlement_days,\n",
    "                                        face_amount,\n",
    "                                        schedule,\n",
    "                                        [r/100.0],\n",
    "                                        day_count,\n",
    "                                        bussiness_convention,\n",
    "                                        )\n",
    "    bond_helpers.append(helper)"
   ]
  },
  {
   "cell_type": "markdown",
   "id": "2f0a6fa7-c630-445a-941f-686e97009642",
   "metadata": {},
   "source": [
    "The yield curve is constructed by putting the two helpers together."
   ]
  },
  {
   "cell_type": "code",
   "execution_count": 9,
   "id": "b69c3130-3ecf-49c9-b5f6-b54064189210",
   "metadata": {
    "tags": []
   },
   "outputs": [],
   "source": [
    "rate_helpers = depo_helpers + bond_helpers\n",
    "yieldcurve = ql.PiecewiseLogCubicDiscount(calc_date,\n",
    "                             rate_helpers,\n",
    "                             day_count)"
   ]
  },
  {
   "cell_type": "markdown",
   "id": "bc859b6a-ce61-41e2-bbc2-949dda070f56",
   "metadata": {},
   "source": [
    "The spot rates is obtined from yieldcurve object using the zeroRate method."
   ]
  },
  {
   "cell_type": "code",
   "execution_count": 10,
   "id": "87860058-3250-47fb-9bb8-375fd0245137",
   "metadata": {
    "tags": []
   },
   "outputs": [],
   "source": [
    "# get spot rates\n",
    "spots = []\n",
    "tenors = []\n",
    "compounding = ql.Compounded\n",
    "freq = ql.Semiannual\n",
    "\n",
    "for d in yieldcurve.dates():\n",
    "    yrs = day_count.yearFraction(calc_date, d)\n",
    "    zero_rate = yieldcurve.zeroRate(yrs, compounding, freq)\n",
    "    tenors.append(yrs)\n",
    "    eq_rate = zero_rate.equivalentRate(day_count, compounding, freq, calc_date, d).rate()\n",
    "    spots.append(100 * eq_rate)"
   ]
  },
  {
   "cell_type": "code",
   "execution_count": 26,
   "id": "5d2737fe-39de-4196-9d8e-9b8cfb475d68",
   "metadata": {
    "tags": []
   },
   "outputs": [
    {
     "data": {
      "image/png": "[encoded data removed]",
      "text/plain": [
       "<Figure size 640x480 with 1 Axes>"
      ]
     },
     "metadata": {},
     "output_type": "display_data"
    }
   ],
   "source": [
    "import matplotlib as mpl\n",
    "import matplotlib.pyplot as plt\n",
    "\n",
    "fig, ax = plt.subplots()\n",
    "ax.plot(tenors, spots)\n",
    "ax.grid()\n",
    "# plt.xticks(rotation = 45)"
   ]
  },
  {
   "cell_type": "code",
   "execution_count": null,
   "id": "021ab8e8-7954-4e12-a9ba-2fb94f0c6fb3",
   "metadata": {},
   "outputs": [],
   "source": []
  }
 ],
 "metadata": {
  "kernelspec": {
   "display_name": "Python 3 (ipykernel)",
   "language": "python",
   "name": "python3"
  },
  "language_info": {
   "codemirror_mode": {
    "name": "ipython",
    "version": 3
   },
   "file_extension": ".py",
   "mimetype": "text/x-python",
   "name": "python",
   "nbconvert_exporter": "python",
   "pygments_lexer": "ipython3",
   "version": "3.11.3"
  }
 },
 "nbformat": 4,
 "nbformat_minor": 5
}
