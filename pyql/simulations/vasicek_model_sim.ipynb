{
 "cells": [
  {
   "cell_type": "markdown",
   "id": "60fcc153-3c56-411e-90b0-54e2f42ed490",
   "metadata": {},
   "source": [
    "# Vasicek Model\n",
    "\n",
    "The pioneering approach proposed by Vasicek (1977) was based on defining the instantaneous-spot-rate dynamics under the real-world measure\n",
    "\n",
    "In finance, the Vasicek model is a mathematical model describing the evolution of interest rates. It is a type of one-factor short-rate model as it describes interest rate movements as driven by only one source of market risk. The model can be used in the valuation of interest rate derivatives, and has also been adapted for credit markets. It was introduced in 1977 by Oldřich Vašíček,[1] and can be also seen as a stochastic investment model."
   ]
  },
  {
   "cell_type": "markdown",
   "id": "04232f7b-7f4e-4bfc-9d77-cb6735833823",
   "metadata": {},
   "source": [
    "$dr_t = a (b - r_t) + \\sigma dW_t$\n",
    "\n",
    "where \n",
    "\n",
    "- $W_t$ is a Wiener process under the risk neutral framework modelling the random market risk factor, in that it models the continuous inflow of randomness into the system\n",
    "- $\\sigma$ - determines the volatility of the interest rate and in a way characterizes the amplitude of the instantaneous randomness inflow\n",
    "- b: \"long term mean level\". All future trajectories of r will evolve around a mean level b in the long run;\n",
    "- a: \"speed of reversion\". a characterizes the velocity at which such trajectories will regroup around b in time;\n",
    "- "
   ]
  },
  {
   "cell_type": "code",
   "execution_count": null,
   "id": "2c37c0b5-878c-49be-833f-3623adf056c5",
   "metadata": {},
   "outputs": [],
   "source": []
  }
 ],
 "metadata": {
  "kernelspec": {
   "display_name": "Python 3 (ipykernel)",
   "language": "python",
   "name": "python3"
  },
  "language_info": {
   "codemirror_mode": {
    "name": "ipython",
    "version": 3
   },
   "file_extension": ".py",
   "mimetype": "text/x-python",
   "name": "python",
   "nbconvert_exporter": "python",
   "pygments_lexer": "ipython3",
   "version": "3.11.3"
  }
 },
 "nbformat": 4,
 "nbformat_minor": 5
}
