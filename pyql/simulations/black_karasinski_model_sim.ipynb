{
 "cells": [
  {
   "cell_type": "markdown",
   "id": "fa79158f-13a3-40b6-9634-13eecafe000d",
   "metadata": {},
   "source": [
    "# Black Karasinski Model"
   ]
  },
  {
   "cell_type": "code",
   "execution_count": null,
   "id": "bfa4069a-d78d-4673-8a06-3f008c03cb48",
   "metadata": {},
   "outputs": [],
   "source": []
  }
 ],
 "metadata": {
  "kernelspec": {
   "display_name": "Python 3 (ipykernel)",
   "language": "python",
   "name": "python3"
  },
  "language_info": {
   "codemirror_mode": {
    "name": "ipython",
    "version": 3
   },
   "file_extension": ".py",
   "mimetype": "text/x-python",
   "name": "python",
   "nbconvert_exporter": "python",
   "pygments_lexer": "ipython3",
   "version": "3.11.3"
  }
 },
 "nbformat": 4,
 "nbformat_minor": 5
}
