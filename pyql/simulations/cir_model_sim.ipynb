{
 "cells": [
  {
   "cell_type": "markdown",
   "id": "a6cd999d-df18-4698-ae0b-9d830221ca5c",
   "metadata": {},
   "source": [
    "# CIR Model\n",
    "\n",
    "In mathematical finance, the Cox–Ingersoll–Ross (CIR) model describes the evolution of interest rates. It is a type of \"one factor model\" (short-rate model) as it describes interest rate movements as driven by only one source of market risk. The model can be used in the valuation of interest rate derivatives. It was introduced in 1985 by John C. Cox, Jonathan E. Ingersoll and Stephen A. Ross as an extension of the Vasicek model.\n",
    "\n"
   ]
  },
  {
   "cell_type": "markdown",
   "id": "36c58a57-399f-48ec-b014-f8016acfeaf4",
   "metadata": {},
   "source": [
    "$dr_t = a (b - r_t) + \\sigma \\sqrt{r_t} dW_t$"
   ]
  },
  {
   "cell_type": "code",
   "execution_count": null,
   "id": "614209ee-cb18-4a66-8857-0f4544df83d7",
   "metadata": {},
   "outputs": [],
   "source": []
  }
 ],
 "metadata": {
  "kernelspec": {
   "display_name": "Python 3 (ipykernel)",
   "language": "python",
   "name": "python3"
  },
  "language_info": {
   "codemirror_mode": {
    "name": "ipython",
    "version": 3
   },
   "file_extension": ".py",
   "mimetype": "text/x-python",
   "name": "python",
   "nbconvert_exporter": "python",
   "pygments_lexer": "ipython3",
   "version": "3.11.3"
  }
 },
 "nbformat": 4,
 "nbformat_minor": 5
}
