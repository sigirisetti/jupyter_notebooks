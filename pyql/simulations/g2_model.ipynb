{
 "cells": [
  {
   "cell_type": "markdown",
   "id": "e356466f-4824-4924-a5f6-96aa2f5b764f",
   "metadata": {},
   "source": [
    "# Shifted two-factor Gaussian (Vasicek) model"
   ]
  },
  {
   "cell_type": "code",
   "execution_count": null,
   "id": "765c9161-5b9e-4c2e-8b3f-e80fd4a5e4b3",
   "metadata": {},
   "outputs": [],
   "source": []
  }
 ],
 "metadata": {
  "kernelspec": {
   "display_name": "Python 3 (ipykernel)",
   "language": "python",
   "name": "python3"
  },
  "language_info": {
   "codemirror_mode": {
    "name": "ipython",
    "version": 3
   },
   "file_extension": ".py",
   "mimetype": "text/x-python",
   "name": "python",
   "nbconvert_exporter": "python",
   "pygments_lexer": "ipython3",
   "version": "3.11.3"
  }
 },
 "nbformat": 4,
 "nbformat_minor": 5
}
